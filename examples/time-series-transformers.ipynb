{
  "cells": [
    {
      "cell_type": "markdown",
      "id": "9-a3wNZ9mxWT",
      "metadata": {
        "id": "9-a3wNZ9mxWT"
      },
      "source": [
        "# Probabilistic Time Series Forecasting with 🤗 Transformers\n",
        "\n",
        "## Introduction\n",
        "\n",
        "Time series forecasting is an essential scientific and business problem and as such has also seen a lot of innovation recently with the use of [deep learning based](https://dl.acm.org/doi/abs/10.1145/3533382) models in addition to the [classical methods](https://otexts.com/fpp3/). An important difference between classical methods like ARIMA and novel deep learning methods is the following.\n",
        "\n",
        "##  Probabilistic Forecasting\n",
        "\n",
        "Typically, classical methods are fitted on each time series in a dataset individually. These are often referred to as  \"single\" or \"local\" methods. However, when dealing with a large amount of time series for some applications, it is beneficial to train a \"global\" model on all available time series, which enables the model to learn latent representations from many different sources.\n",
        "\n",
        "Some classical methods are point-valued (meaning, they just output a single value per time step) and models are trained by minimizing an L2 or L1 type of loss with respect to the ground truth data. However, since forecasts are often used in some real-world decision making pipeline, even with humans in the loop, it is much more beneficial to provide the uncertainties of predictions. This is also called \"probabilistic forecasting\", as opposed to \"point forecasting\". This entails modeling a probabilistic distribution, from which one can sample.\n",
        "\n",
        "So in short, rather than training local point forecasting models, we hope to train **global probabilistic** models. Deep learning is a great fit for this, as neural networks can learn representations from several related time series as well as model the uncertainty of the data.\n",
        "\n",
        "It is common in the probabilistic setting to learn the future parameters of some chosen parametric distribution, like Gaussian or Student-T; or learn the conditional quantile function; or use the framework of Conformal Prediction adapted to the time series setting. The choice of method does not affect the modeling aspect and thus can be typically thought of as yet another hyperparameter. One can always turn a probabilistic model into a point-forecasting model, by taking empirical means or medians.\n",
        "\n",
        "## The Time Series Transformer\n",
        "\n",
        "In terms of modeling time series data which are sequential in nature, as one can imagine, researchers have come up with models which use Recurrent Neural Networks (RNN) like LSTM or GRU, or Convolutional Networks (CNN), and more recently Transformer based methods which fit naturally to the time series forecasting setting.\n",
        "\n",
        "In this blog post, we're going to leverage the vanilla Transformer [(Vaswani et al., 2017)](https://arxiv.org/abs/1706.03762) for the **univariate** probabilistic forecasting task (i.e. predicting each time series' 1-d distribution individually). The Encoder-Decoder Transformer is a natural choice for forecasting as it encapsulates several inductive biases nicely.\n",
        "\n",
        "To begin with, the use of an Encoder-Decoder architecture is helpful at inference time where typically for some logged data we wish to forecast some prediction steps into the future. This can be thought of as analogous to the text generation task where given some context, we sample the next token and pass it back into the decoder (also called \"autoregressive generation\"). Similarly here we can also, given some distribution type, sample from it to provide forecasts up until our desired prediction horizon. This is known as Greedy Sampling/Search and there is a great blog post about it [here](https://huggingface.co/blog/how-to-generate) for the NLP setting.\n",
        "\n",
        "Secondly, a Transformer helps us to train on time series data which might contain thousands of time points. It might not be feasible to input *all* the history of a time series at once to the model, due to the time- and memory constraints of the attention mechanism. Thus, one can consider some appropriate context window and sample this window and the subsequent prediction length sized window from the training data when constructing batches for stochastic gradient descent (SGD). The context sized window can be passed to the encoder and the prediction window to a *causal-masked* decoder. This means that the decoder can only look at previous time steps when learning the next value. This is equivalent to how one would train a vanilla Transformer for machine translation, referred to as \"teacher forcing\".\n",
        "\n",
        "Another benefit of Transformers over the other architectures is that we can incorporate missing values (which are common in the time series setting) as an additional mask to the encoder or decoder and still train without resorting to in-filling or imputation. This is equivalent to the `attention_mask` of models like BERT and GPT-2 in the Transformers library, to not include padding tokens in the computation of the attention matrix.\n",
        "\n",
        "A drawback of the Transformer architecture is the limit to the sizes of the context and prediction windows because of the quadratic compute and memory requirements of the vanilla Transformer, see [Tay et al., 2020](https://arxiv.org/abs/2009.06732). Additionally, since the Transformer is a powerful architecture, it might overfit or learn spurious correlations much more easily compared to other [methods](https://openreview.net/pdf?id=D7YBmfX_VQy).\n",
        "\n",
        "The 🤗 Transformers library comes with a vanilla probabilistic time series Transformer model, simply called the [Time Series Transformer](https://huggingface.co/docs/transformers/model_doc/time_series_transformer). In the sections below, we'll show how to train such a model on a custom dataset.\n",
        "\n",
        "## Set-up Environment\n",
        "\n",
        "First, let's install the necessary libraries: 🤗 Transformers, 🤗 Datasets, 🤗 Evaluate,  🤗 Accelerate and [GluonTS](https://github.com/awslabs/gluonts).\n",
        "\n",
        "As we will show, GluonTS will be used for transforming the data to create features as well as for creating appropriate training, validation and test batches."
      ]
    },
    {
      "cell_type": "code",
      "execution_count": 53,
      "id": "7AkJMJAunLP9",
      "metadata": {
        "colab": {
          "base_uri": "https://localhost:8080/",
          "height": 287
        },
        "id": "7AkJMJAunLP9",
        "outputId": "cc5c375c-b20e-4a59-d928-a367a232a307"
      },
      "outputs": [
        {
          "output_type": "error",
          "ename": "NotImplementedError",
          "evalue": "A UTF-8 locale is required. Got ANSI_X3.4-1968",
          "traceback": [
            "\u001b[0;31m---------------------------------------------------------------------------\u001b[0m",
            "\u001b[0;31mNotImplementedError\u001b[0m                       Traceback (most recent call last)",
            "\u001b[0;32m<ipython-input-53-18ab1fd31396>\u001b[0m in \u001b[0;36m<cell line: 0>\u001b[0;34m()\u001b[0m\n\u001b[0;32m----> 1\u001b[0;31m \u001b[0mget_ipython\u001b[0m\u001b[0;34m(\u001b[0m\u001b[0;34m)\u001b[0m\u001b[0;34m.\u001b[0m\u001b[0msystem\u001b[0m\u001b[0;34m(\u001b[0m\u001b[0;34m'pip install -q transformers'\u001b[0m\u001b[0;34m)\u001b[0m\u001b[0;34m\u001b[0m\u001b[0;34m\u001b[0m\u001b[0m\n\u001b[0m",
            "\u001b[0;32m/usr/local/lib/python3.11/dist-packages/google/colab/_shell.py\u001b[0m in \u001b[0;36msystem\u001b[0;34m(self, *args, **kwargs)\u001b[0m\n\u001b[1;32m     97\u001b[0m       \u001b[0mkwargs\u001b[0m\u001b[0;34m.\u001b[0m\u001b[0mupdate\u001b[0m\u001b[0;34m(\u001b[0m\u001b[0;34m{\u001b[0m\u001b[0;34m'also_return_output'\u001b[0m\u001b[0;34m:\u001b[0m \u001b[0;32mTrue\u001b[0m\u001b[0;34m}\u001b[0m\u001b[0;34m)\u001b[0m\u001b[0;34m\u001b[0m\u001b[0;34m\u001b[0m\u001b[0m\n\u001b[1;32m     98\u001b[0m \u001b[0;34m\u001b[0m\u001b[0m\n\u001b[0;32m---> 99\u001b[0;31m     \u001b[0moutput\u001b[0m \u001b[0;34m=\u001b[0m \u001b[0m_system_commands\u001b[0m\u001b[0;34m.\u001b[0m\u001b[0m_system_compat\u001b[0m\u001b[0;34m(\u001b[0m\u001b[0mself\u001b[0m\u001b[0;34m,\u001b[0m \u001b[0;34m*\u001b[0m\u001b[0margs\u001b[0m\u001b[0;34m,\u001b[0m \u001b[0;34m**\u001b[0m\u001b[0mkwargs\u001b[0m\u001b[0;34m)\u001b[0m  \u001b[0;31m# pylint:disable=protected-access\u001b[0m\u001b[0;34m\u001b[0m\u001b[0;34m\u001b[0m\u001b[0m\n\u001b[0m\u001b[1;32m    100\u001b[0m \u001b[0;34m\u001b[0m\u001b[0m\n\u001b[1;32m    101\u001b[0m     \u001b[0;32mif\u001b[0m \u001b[0mpip_warn\u001b[0m\u001b[0;34m:\u001b[0m\u001b[0;34m\u001b[0m\u001b[0;34m\u001b[0m\u001b[0m\n",
            "\u001b[0;32m/usr/local/lib/python3.11/dist-packages/google/colab/_system_commands.py\u001b[0m in \u001b[0;36m_system_compat\u001b[0;34m(shell, cmd, also_return_output)\u001b[0m\n\u001b[1;32m    452\u001b[0m   \u001b[0;31m# is expected to call this function, thus adding one level of nesting to the\u001b[0m\u001b[0;34m\u001b[0m\u001b[0;34m\u001b[0m\u001b[0m\n\u001b[1;32m    453\u001b[0m   \u001b[0;31m# stack.\u001b[0m\u001b[0;34m\u001b[0m\u001b[0;34m\u001b[0m\u001b[0m\n\u001b[0;32m--> 454\u001b[0;31m   result = _run_command(\n\u001b[0m\u001b[1;32m    455\u001b[0m       \u001b[0mshell\u001b[0m\u001b[0;34m.\u001b[0m\u001b[0mvar_expand\u001b[0m\u001b[0;34m(\u001b[0m\u001b[0mcmd\u001b[0m\u001b[0;34m,\u001b[0m \u001b[0mdepth\u001b[0m\u001b[0;34m=\u001b[0m\u001b[0;36m2\u001b[0m\u001b[0;34m)\u001b[0m\u001b[0;34m,\u001b[0m \u001b[0mclear_streamed_output\u001b[0m\u001b[0;34m=\u001b[0m\u001b[0;32mFalse\u001b[0m\u001b[0;34m\u001b[0m\u001b[0;34m\u001b[0m\u001b[0m\n\u001b[1;32m    456\u001b[0m   )\n",
            "\u001b[0;32m/usr/local/lib/python3.11/dist-packages/google/colab/_system_commands.py\u001b[0m in \u001b[0;36m_run_command\u001b[0;34m(cmd, clear_streamed_output)\u001b[0m\n\u001b[1;32m    166\u001b[0m     \u001b[0mlocale_encoding\u001b[0m \u001b[0;34m=\u001b[0m \u001b[0mlocale\u001b[0m\u001b[0;34m.\u001b[0m\u001b[0mgetpreferredencoding\u001b[0m\u001b[0;34m(\u001b[0m\u001b[0;34m)\u001b[0m\u001b[0;34m\u001b[0m\u001b[0;34m\u001b[0m\u001b[0m\n\u001b[1;32m    167\u001b[0m     \u001b[0;32mif\u001b[0m \u001b[0mlocale_encoding\u001b[0m \u001b[0;34m!=\u001b[0m \u001b[0m_ENCODING\u001b[0m\u001b[0;34m:\u001b[0m\u001b[0;34m\u001b[0m\u001b[0;34m\u001b[0m\u001b[0m\n\u001b[0;32m--> 168\u001b[0;31m       raise NotImplementedError(\n\u001b[0m\u001b[1;32m    169\u001b[0m           \u001b[0;34m'A UTF-8 locale is required. Got {}'\u001b[0m\u001b[0;34m.\u001b[0m\u001b[0mformat\u001b[0m\u001b[0;34m(\u001b[0m\u001b[0mlocale_encoding\u001b[0m\u001b[0;34m)\u001b[0m\u001b[0;34m\u001b[0m\u001b[0;34m\u001b[0m\u001b[0m\n\u001b[1;32m    170\u001b[0m       )\n",
            "\u001b[0;31mNotImplementedError\u001b[0m: A UTF-8 locale is required. Got ANSI_X3.4-1968"
          ]
        }
      ],
      "source": [
        "!pip install -q transformers"
      ]
    },
    {
      "cell_type": "code",
      "execution_count": 54,
      "id": "cd9NeR_ZnSWP",
      "metadata": {
        "colab": {
          "base_uri": "https://localhost:8080/",
          "height": 287
        },
        "id": "cd9NeR_ZnSWP",
        "outputId": "550f1089-a7c7-4f20-8236-af1d112521fd"
      },
      "outputs": [
        {
          "output_type": "error",
          "ename": "NotImplementedError",
          "evalue": "A UTF-8 locale is required. Got ANSI_X3.4-1968",
          "traceback": [
            "\u001b[0;31m---------------------------------------------------------------------------\u001b[0m",
            "\u001b[0;31mNotImplementedError\u001b[0m                       Traceback (most recent call last)",
            "\u001b[0;32m<ipython-input-54-cf587ca76c34>\u001b[0m in \u001b[0;36m<cell line: 0>\u001b[0;34m()\u001b[0m\n\u001b[0;32m----> 1\u001b[0;31m \u001b[0mget_ipython\u001b[0m\u001b[0;34m(\u001b[0m\u001b[0;34m)\u001b[0m\u001b[0;34m.\u001b[0m\u001b[0msystem\u001b[0m\u001b[0;34m(\u001b[0m\u001b[0;34m'pip install -q datasets'\u001b[0m\u001b[0;34m)\u001b[0m\u001b[0;34m\u001b[0m\u001b[0;34m\u001b[0m\u001b[0m\n\u001b[0m",
            "\u001b[0;32m/usr/local/lib/python3.11/dist-packages/google/colab/_shell.py\u001b[0m in \u001b[0;36msystem\u001b[0;34m(self, *args, **kwargs)\u001b[0m\n\u001b[1;32m     97\u001b[0m       \u001b[0mkwargs\u001b[0m\u001b[0;34m.\u001b[0m\u001b[0mupdate\u001b[0m\u001b[0;34m(\u001b[0m\u001b[0;34m{\u001b[0m\u001b[0;34m'also_return_output'\u001b[0m\u001b[0;34m:\u001b[0m \u001b[0;32mTrue\u001b[0m\u001b[0;34m}\u001b[0m\u001b[0;34m)\u001b[0m\u001b[0;34m\u001b[0m\u001b[0;34m\u001b[0m\u001b[0m\n\u001b[1;32m     98\u001b[0m \u001b[0;34m\u001b[0m\u001b[0m\n\u001b[0;32m---> 99\u001b[0;31m     \u001b[0moutput\u001b[0m \u001b[0;34m=\u001b[0m \u001b[0m_system_commands\u001b[0m\u001b[0;34m.\u001b[0m\u001b[0m_system_compat\u001b[0m\u001b[0;34m(\u001b[0m\u001b[0mself\u001b[0m\u001b[0;34m,\u001b[0m \u001b[0;34m*\u001b[0m\u001b[0margs\u001b[0m\u001b[0;34m,\u001b[0m \u001b[0;34m**\u001b[0m\u001b[0mkwargs\u001b[0m\u001b[0;34m)\u001b[0m  \u001b[0;31m# pylint:disable=protected-access\u001b[0m\u001b[0;34m\u001b[0m\u001b[0;34m\u001b[0m\u001b[0m\n\u001b[0m\u001b[1;32m    100\u001b[0m \u001b[0;34m\u001b[0m\u001b[0m\n\u001b[1;32m    101\u001b[0m     \u001b[0;32mif\u001b[0m \u001b[0mpip_warn\u001b[0m\u001b[0;34m:\u001b[0m\u001b[0;34m\u001b[0m\u001b[0;34m\u001b[0m\u001b[0m\n",
            "\u001b[0;32m/usr/local/lib/python3.11/dist-packages/google/colab/_system_commands.py\u001b[0m in \u001b[0;36m_system_compat\u001b[0;34m(shell, cmd, also_return_output)\u001b[0m\n\u001b[1;32m    452\u001b[0m   \u001b[0;31m# is expected to call this function, thus adding one level of nesting to the\u001b[0m\u001b[0;34m\u001b[0m\u001b[0;34m\u001b[0m\u001b[0m\n\u001b[1;32m    453\u001b[0m   \u001b[0;31m# stack.\u001b[0m\u001b[0;34m\u001b[0m\u001b[0;34m\u001b[0m\u001b[0m\n\u001b[0;32m--> 454\u001b[0;31m   result = _run_command(\n\u001b[0m\u001b[1;32m    455\u001b[0m       \u001b[0mshell\u001b[0m\u001b[0;34m.\u001b[0m\u001b[0mvar_expand\u001b[0m\u001b[0;34m(\u001b[0m\u001b[0mcmd\u001b[0m\u001b[0;34m,\u001b[0m \u001b[0mdepth\u001b[0m\u001b[0;34m=\u001b[0m\u001b[0;36m2\u001b[0m\u001b[0;34m)\u001b[0m\u001b[0;34m,\u001b[0m \u001b[0mclear_streamed_output\u001b[0m\u001b[0;34m=\u001b[0m\u001b[0;32mFalse\u001b[0m\u001b[0;34m\u001b[0m\u001b[0;34m\u001b[0m\u001b[0m\n\u001b[1;32m    456\u001b[0m   )\n",
            "\u001b[0;32m/usr/local/lib/python3.11/dist-packages/google/colab/_system_commands.py\u001b[0m in \u001b[0;36m_run_command\u001b[0;34m(cmd, clear_streamed_output)\u001b[0m\n\u001b[1;32m    166\u001b[0m     \u001b[0mlocale_encoding\u001b[0m \u001b[0;34m=\u001b[0m \u001b[0mlocale\u001b[0m\u001b[0;34m.\u001b[0m\u001b[0mgetpreferredencoding\u001b[0m\u001b[0;34m(\u001b[0m\u001b[0;34m)\u001b[0m\u001b[0;34m\u001b[0m\u001b[0;34m\u001b[0m\u001b[0m\n\u001b[1;32m    167\u001b[0m     \u001b[0;32mif\u001b[0m \u001b[0mlocale_encoding\u001b[0m \u001b[0;34m!=\u001b[0m \u001b[0m_ENCODING\u001b[0m\u001b[0;34m:\u001b[0m\u001b[0;34m\u001b[0m\u001b[0;34m\u001b[0m\u001b[0m\n\u001b[0;32m--> 168\u001b[0;31m       raise NotImplementedError(\n\u001b[0m\u001b[1;32m    169\u001b[0m           \u001b[0;34m'A UTF-8 locale is required. Got {}'\u001b[0m\u001b[0;34m.\u001b[0m\u001b[0mformat\u001b[0m\u001b[0;34m(\u001b[0m\u001b[0mlocale_encoding\u001b[0m\u001b[0;34m)\u001b[0m\u001b[0;34m\u001b[0m\u001b[0;34m\u001b[0m\u001b[0m\n\u001b[1;32m    170\u001b[0m       )\n",
            "\u001b[0;31mNotImplementedError\u001b[0m: A UTF-8 locale is required. Got ANSI_X3.4-1968"
          ]
        }
      ],
      "source": [
        "!pip install -q datasets"
      ]
    },
    {
      "cell_type": "code",
      "execution_count": null,
      "id": "xl9uzDOCKMoK",
      "metadata": {
        "id": "xl9uzDOCKMoK"
      },
      "outputs": [],
      "source": [
        "!pip install -q evaluate"
      ]
    },
    {
      "cell_type": "code",
      "execution_count": null,
      "id": "3X4oByTHPudz",
      "metadata": {
        "id": "3X4oByTHPudz"
      },
      "outputs": [],
      "source": [
        "!pip install -q accelerate"
      ]
    },
    {
      "cell_type": "code",
      "execution_count": null,
      "id": "f6kDYa76nU9J",
      "metadata": {
        "id": "f6kDYa76nU9J"
      },
      "outputs": [],
      "source": [
        "!pip install -q gluonts ujson"
      ]
    },
    {
      "cell_type": "markdown",
      "id": "eaebea67",
      "metadata": {
        "id": "eaebea67"
      },
      "source": [
        "We also quickly upload some telemetry - this tells us which examples and software versions are getting used so we know where to prioritize our maintenance efforts. We don't collect (or care about) any personally identifiable information, but if you'd prefer not to be counted, feel free to skip this step or delete this cell entirely."
      ]
    },
    {
      "cell_type": "code",
      "execution_count": 6,
      "id": "98c2cf63",
      "metadata": {
        "id": "98c2cf63"
      },
      "outputs": [],
      "source": [
        "# from transformers.utils import send_example_telemetry\n",
        "\n",
        "# send_example_telemetry(\"time_series_transformers_notebook\", framework=\"pytorch\")"
      ]
    },
    {
      "cell_type": "markdown",
      "id": "4m_7_MKqmzfE",
      "metadata": {
        "id": "4m_7_MKqmzfE"
      },
      "source": [
        "## Load Dataset\n",
        "\n",
        "In this blog post, we'll use the `tourism_monthly` dataset, which is available on the [Hugging Face Hub](https://huggingface.co/datasets/monash_tsf). This dataset contains monthly tourism volumes for 366 regions in Australia.\n",
        "\n",
        "This dataset is part of the [Monash Time Series Forecasting](https://forecastingdata.org/) repository, a collection of  time series datasets from a number of domains. It can be viewed as the GLUE benchmark of time series forecasting."
      ]
    },
    {
      "cell_type": "code",
      "source": [
        "df = pd.read_parquet('/content/SOLUSDT_h.parquet')"
      ],
      "metadata": {
        "id": "lC4z1NhcEkhU"
      },
      "id": "lC4z1NhcEkhU",
      "execution_count": 122,
      "outputs": []
    },
    {
      "cell_type": "code",
      "source": [
        "df.rename({'Open time': 't',}, axis=1, inplace=True)\n",
        "df['t'] = pd.to_datetime(df['t'])\n",
        "df = df.set_index('t')\n",
        "df = df.dropna(axis=0, how='any')\n",
        "df = df[['Returns']]"
      ],
      "metadata": {
        "id": "WLdoIYfSHxNk"
      },
      "id": "WLdoIYfSHxNk",
      "execution_count": 123,
      "outputs": []
    },
    {
      "cell_type": "code",
      "source": [
        "# df = pd.read_csv(\n",
        "#     \"https://raw.githubusercontent.com/AileenNielsen/\"\n",
        "#     \"TimeSeriesAnalysisWithPython/master/data/AirPassengers.csv\",\n",
        "#     index_col=0,\n",
        "#     parse_dates=True,\n",
        "# )"
      ],
      "metadata": {
        "id": "M3V-UuuREyBg"
      },
      "id": "M3V-UuuREyBg",
      "execution_count": 124,
      "outputs": []
    },
    {
      "cell_type": "code",
      "source": [
        "df.shape"
      ],
      "metadata": {
        "id": "8TlCyZPSKPnl",
        "outputId": "93d07d69-ae1f-46d9-fcb7-38177a5c83c2",
        "colab": {
          "base_uri": "https://localhost:8080/"
        }
      },
      "id": "8TlCyZPSKPnl",
      "execution_count": 131,
      "outputs": [
        {
          "output_type": "execute_result",
          "data": {
            "text/plain": [
              "(36262, 1)"
            ]
          },
          "metadata": {},
          "execution_count": 131
        }
      ]
    },
    {
      "cell_type": "code",
      "source": [
        "df.head()"
      ],
      "metadata": {
        "id": "Dr-GUpGPEq_v",
        "outputId": "fb12f163-c6ba-46ce-93d2-119009645cff",
        "colab": {
          "base_uri": "https://localhost:8080/",
          "height": 238
        }
      },
      "id": "Dr-GUpGPEq_v",
      "execution_count": 125,
      "outputs": [
        {
          "output_type": "execute_result",
          "data": {
            "text/plain": [
              "                      Returns\n",
              "t                            \n",
              "2020-08-11 07:00:00 -0.009859\n",
              "2020-08-11 08:00:00  0.012866\n",
              "2020-08-11 09:00:00 -0.035709\n",
              "2020-08-11 10:00:00  0.015170\n",
              "2020-08-11 11:00:00  0.052492"
            ],
            "text/html": [
              "\n",
              "  <div id=\"df-c43799bb-67d8-4f0d-95a2-fc96cc9f234b\" class=\"colab-df-container\">\n",
              "    <div>\n",
              "<style scoped>\n",
              "    .dataframe tbody tr th:only-of-type {\n",
              "        vertical-align: middle;\n",
              "    }\n",
              "\n",
              "    .dataframe tbody tr th {\n",
              "        vertical-align: top;\n",
              "    }\n",
              "\n",
              "    .dataframe thead th {\n",
              "        text-align: right;\n",
              "    }\n",
              "</style>\n",
              "<table border=\"1\" class=\"dataframe\">\n",
              "  <thead>\n",
              "    <tr style=\"text-align: right;\">\n",
              "      <th></th>\n",
              "      <th>Returns</th>\n",
              "    </tr>\n",
              "    <tr>\n",
              "      <th>t</th>\n",
              "      <th></th>\n",
              "    </tr>\n",
              "  </thead>\n",
              "  <tbody>\n",
              "    <tr>\n",
              "      <th>2020-08-11 07:00:00</th>\n",
              "      <td>-0.009859</td>\n",
              "    </tr>\n",
              "    <tr>\n",
              "      <th>2020-08-11 08:00:00</th>\n",
              "      <td>0.012866</td>\n",
              "    </tr>\n",
              "    <tr>\n",
              "      <th>2020-08-11 09:00:00</th>\n",
              "      <td>-0.035709</td>\n",
              "    </tr>\n",
              "    <tr>\n",
              "      <th>2020-08-11 10:00:00</th>\n",
              "      <td>0.015170</td>\n",
              "    </tr>\n",
              "    <tr>\n",
              "      <th>2020-08-11 11:00:00</th>\n",
              "      <td>0.052492</td>\n",
              "    </tr>\n",
              "  </tbody>\n",
              "</table>\n",
              "</div>\n",
              "    <div class=\"colab-df-buttons\">\n",
              "\n",
              "  <div class=\"colab-df-container\">\n",
              "    <button class=\"colab-df-convert\" onclick=\"convertToInteractive('df-c43799bb-67d8-4f0d-95a2-fc96cc9f234b')\"\n",
              "            title=\"Convert this dataframe to an interactive table.\"\n",
              "            style=\"display:none;\">\n",
              "\n",
              "  <svg xmlns=\"http://www.w3.org/2000/svg\" height=\"24px\" viewBox=\"0 -960 960 960\">\n",
              "    <path d=\"M120-120v-720h720v720H120Zm60-500h600v-160H180v160Zm220 220h160v-160H400v160Zm0 220h160v-160H400v160ZM180-400h160v-160H180v160Zm440 0h160v-160H620v160ZM180-180h160v-160H180v160Zm440 0h160v-160H620v160Z\"/>\n",
              "  </svg>\n",
              "    </button>\n",
              "\n",
              "  <style>\n",
              "    .colab-df-container {\n",
              "      display:flex;\n",
              "      gap: 12px;\n",
              "    }\n",
              "\n",
              "    .colab-df-convert {\n",
              "      background-color: #E8F0FE;\n",
              "      border: none;\n",
              "      border-radius: 50%;\n",
              "      cursor: pointer;\n",
              "      display: none;\n",
              "      fill: #1967D2;\n",
              "      height: 32px;\n",
              "      padding: 0 0 0 0;\n",
              "      width: 32px;\n",
              "    }\n",
              "\n",
              "    .colab-df-convert:hover {\n",
              "      background-color: #E2EBFA;\n",
              "      box-shadow: 0px 1px 2px rgba(60, 64, 67, 0.3), 0px 1px 3px 1px rgba(60, 64, 67, 0.15);\n",
              "      fill: #174EA6;\n",
              "    }\n",
              "\n",
              "    .colab-df-buttons div {\n",
              "      margin-bottom: 4px;\n",
              "    }\n",
              "\n",
              "    [theme=dark] .colab-df-convert {\n",
              "      background-color: #3B4455;\n",
              "      fill: #D2E3FC;\n",
              "    }\n",
              "\n",
              "    [theme=dark] .colab-df-convert:hover {\n",
              "      background-color: #434B5C;\n",
              "      box-shadow: 0px 1px 3px 1px rgba(0, 0, 0, 0.15);\n",
              "      filter: drop-shadow(0px 1px 2px rgba(0, 0, 0, 0.3));\n",
              "      fill: #FFFFFF;\n",
              "    }\n",
              "  </style>\n",
              "\n",
              "    <script>\n",
              "      const buttonEl =\n",
              "        document.querySelector('#df-c43799bb-67d8-4f0d-95a2-fc96cc9f234b button.colab-df-convert');\n",
              "      buttonEl.style.display =\n",
              "        google.colab.kernel.accessAllowed ? 'block' : 'none';\n",
              "\n",
              "      async function convertToInteractive(key) {\n",
              "        const element = document.querySelector('#df-c43799bb-67d8-4f0d-95a2-fc96cc9f234b');\n",
              "        const dataTable =\n",
              "          await google.colab.kernel.invokeFunction('convertToInteractive',\n",
              "                                                    [key], {});\n",
              "        if (!dataTable) return;\n",
              "\n",
              "        const docLinkHtml = 'Like what you see? Visit the ' +\n",
              "          '<a target=\"_blank\" href=https://colab.research.google.com/notebooks/data_table.ipynb>data table notebook</a>'\n",
              "          + ' to learn more about interactive tables.';\n",
              "        element.innerHTML = '';\n",
              "        dataTable['output_type'] = 'display_data';\n",
              "        await google.colab.output.renderOutput(dataTable, element);\n",
              "        const docLink = document.createElement('div');\n",
              "        docLink.innerHTML = docLinkHtml;\n",
              "        element.appendChild(docLink);\n",
              "      }\n",
              "    </script>\n",
              "  </div>\n",
              "\n",
              "\n",
              "<div id=\"df-0da1d6fd-276a-4151-8d41-ba3c220bc64a\">\n",
              "  <button class=\"colab-df-quickchart\" onclick=\"quickchart('df-0da1d6fd-276a-4151-8d41-ba3c220bc64a')\"\n",
              "            title=\"Suggest charts\"\n",
              "            style=\"display:none;\">\n",
              "\n",
              "<svg xmlns=\"http://www.w3.org/2000/svg\" height=\"24px\"viewBox=\"0 0 24 24\"\n",
              "     width=\"24px\">\n",
              "    <g>\n",
              "        <path d=\"M19 3H5c-1.1 0-2 .9-2 2v14c0 1.1.9 2 2 2h14c1.1 0 2-.9 2-2V5c0-1.1-.9-2-2-2zM9 17H7v-7h2v7zm4 0h-2V7h2v10zm4 0h-2v-4h2v4z\"/>\n",
              "    </g>\n",
              "</svg>\n",
              "  </button>\n",
              "\n",
              "<style>\n",
              "  .colab-df-quickchart {\n",
              "      --bg-color: #E8F0FE;\n",
              "      --fill-color: #1967D2;\n",
              "      --hover-bg-color: #E2EBFA;\n",
              "      --hover-fill-color: #174EA6;\n",
              "      --disabled-fill-color: #AAA;\n",
              "      --disabled-bg-color: #DDD;\n",
              "  }\n",
              "\n",
              "  [theme=dark] .colab-df-quickchart {\n",
              "      --bg-color: #3B4455;\n",
              "      --fill-color: #D2E3FC;\n",
              "      --hover-bg-color: #434B5C;\n",
              "      --hover-fill-color: #FFFFFF;\n",
              "      --disabled-bg-color: #3B4455;\n",
              "      --disabled-fill-color: #666;\n",
              "  }\n",
              "\n",
              "  .colab-df-quickchart {\n",
              "    background-color: var(--bg-color);\n",
              "    border: none;\n",
              "    border-radius: 50%;\n",
              "    cursor: pointer;\n",
              "    display: none;\n",
              "    fill: var(--fill-color);\n",
              "    height: 32px;\n",
              "    padding: 0;\n",
              "    width: 32px;\n",
              "  }\n",
              "\n",
              "  .colab-df-quickchart:hover {\n",
              "    background-color: var(--hover-bg-color);\n",
              "    box-shadow: 0 1px 2px rgba(60, 64, 67, 0.3), 0 1px 3px 1px rgba(60, 64, 67, 0.15);\n",
              "    fill: var(--button-hover-fill-color);\n",
              "  }\n",
              "\n",
              "  .colab-df-quickchart-complete:disabled,\n",
              "  .colab-df-quickchart-complete:disabled:hover {\n",
              "    background-color: var(--disabled-bg-color);\n",
              "    fill: var(--disabled-fill-color);\n",
              "    box-shadow: none;\n",
              "  }\n",
              "\n",
              "  .colab-df-spinner {\n",
              "    border: 2px solid var(--fill-color);\n",
              "    border-color: transparent;\n",
              "    border-bottom-color: var(--fill-color);\n",
              "    animation:\n",
              "      spin 1s steps(1) infinite;\n",
              "  }\n",
              "\n",
              "  @keyframes spin {\n",
              "    0% {\n",
              "      border-color: transparent;\n",
              "      border-bottom-color: var(--fill-color);\n",
              "      border-left-color: var(--fill-color);\n",
              "    }\n",
              "    20% {\n",
              "      border-color: transparent;\n",
              "      border-left-color: var(--fill-color);\n",
              "      border-top-color: var(--fill-color);\n",
              "    }\n",
              "    30% {\n",
              "      border-color: transparent;\n",
              "      border-left-color: var(--fill-color);\n",
              "      border-top-color: var(--fill-color);\n",
              "      border-right-color: var(--fill-color);\n",
              "    }\n",
              "    40% {\n",
              "      border-color: transparent;\n",
              "      border-right-color: var(--fill-color);\n",
              "      border-top-color: var(--fill-color);\n",
              "    }\n",
              "    60% {\n",
              "      border-color: transparent;\n",
              "      border-right-color: var(--fill-color);\n",
              "    }\n",
              "    80% {\n",
              "      border-color: transparent;\n",
              "      border-right-color: var(--fill-color);\n",
              "      border-bottom-color: var(--fill-color);\n",
              "    }\n",
              "    90% {\n",
              "      border-color: transparent;\n",
              "      border-bottom-color: var(--fill-color);\n",
              "    }\n",
              "  }\n",
              "</style>\n",
              "\n",
              "  <script>\n",
              "    async function quickchart(key) {\n",
              "      const quickchartButtonEl =\n",
              "        document.querySelector('#' + key + ' button');\n",
              "      quickchartButtonEl.disabled = true;  // To prevent multiple clicks.\n",
              "      quickchartButtonEl.classList.add('colab-df-spinner');\n",
              "      try {\n",
              "        const charts = await google.colab.kernel.invokeFunction(\n",
              "            'suggestCharts', [key], {});\n",
              "      } catch (error) {\n",
              "        console.error('Error during call to suggestCharts:', error);\n",
              "      }\n",
              "      quickchartButtonEl.classList.remove('colab-df-spinner');\n",
              "      quickchartButtonEl.classList.add('colab-df-quickchart-complete');\n",
              "    }\n",
              "    (() => {\n",
              "      let quickchartButtonEl =\n",
              "        document.querySelector('#df-0da1d6fd-276a-4151-8d41-ba3c220bc64a button');\n",
              "      quickchartButtonEl.style.display =\n",
              "        google.colab.kernel.accessAllowed ? 'block' : 'none';\n",
              "    })();\n",
              "  </script>\n",
              "</div>\n",
              "    </div>\n",
              "  </div>\n"
            ],
            "application/vnd.google.colaboratory.intrinsic+json": {
              "type": "dataframe",
              "variable_name": "df",
              "summary": "{\n  \"name\": \"df\",\n  \"rows\": 36262,\n  \"fields\": [\n    {\n      \"column\": \"t\",\n      \"properties\": {\n        \"dtype\": \"date\",\n        \"min\": \"2020-08-11 07:00:00\",\n        \"max\": \"2024-09-30 23:00:00\",\n        \"num_unique_values\": 36262,\n        \"samples\": [\n          \"2021-05-11 09:00:00\",\n          \"2022-11-19 19:00:00\",\n          \"2024-05-29 13:00:00\"\n        ],\n        \"semantic_type\": \"\",\n        \"description\": \"\"\n      }\n    },\n    {\n      \"column\": \"Returns\",\n      \"properties\": {\n        \"dtype\": \"number\",\n        \"std\": 0.014451813848260735,\n        \"min\": -0.1928404102890673,\n        \"max\": 0.30649926144756257,\n        \"num_unique_values\": 34388,\n        \"samples\": [\n          -0.005635823342555524,\n          0.0036749693752551327,\n          -0.010773540185304853\n        ],\n        \"semantic_type\": \"\",\n        \"description\": \"\"\n      }\n    }\n  ]\n}"
            }
          },
          "metadata": {},
          "execution_count": 125
        }
      ]
    },
    {
      "cell_type": "code",
      "source": [
        "from gluonts.dataset.pandas import PandasDataset\n",
        "\n",
        "# dataset = PandasDataset(df.head(1000), target=\"Returns\")\n",
        "\n",
        "df = df.head(1000)\n",
        "\n",
        "# Define the split index\n",
        "split_index = int(len(df) * 0.8)\n",
        "\n",
        "# Train and test DataFrames\n",
        "train_df = df.iloc[:split_index]\n",
        "test_df = df.iloc[split_index:]\n",
        "\n",
        "split_index = int(len(train_df) * 0.8)\n",
        "valid_df = train_df.iloc[split_index:]\n",
        "train_df = train_df.iloc[:split_index]\n",
        "\n",
        "# Create PandasDatasets for train and test\n",
        "train_dataset = PandasDataset(train_df, target=\"Returns\")\n",
        "valid_dataset = PandasDataset(valid_df, target=\"Returns\")\n",
        "test_dataset = PandasDataset(test_df, target=\"Returns\")"
      ],
      "metadata": {
        "id": "BP7Knut4FQyU"
      },
      "id": "BP7Knut4FQyU",
      "execution_count": 149,
      "outputs": []
    },
    {
      "cell_type": "code",
      "source": [],
      "metadata": {
        "id": "-76URHl5M_Hp"
      },
      "id": "-76URHl5M_Hp",
      "execution_count": null,
      "outputs": []
    },
    {
      "cell_type": "code",
      "execution_count": 55,
      "id": "d93a3f41",
      "metadata": {
        "id": "d93a3f41"
      },
      "outputs": [],
      "source": [
        "# from datasets import load_dataset\n",
        "\n",
        "# dataset = load_dataset(\"monash_tsf\", \"tourism_monthly\")"
      ]
    },
    {
      "cell_type": "markdown",
      "id": "sG1ZNNzwpwmg",
      "metadata": {
        "id": "sG1ZNNzwpwmg"
      },
      "source": [
        "As can be seen, the dataset contains 3 splits: train, validation and test."
      ]
    },
    {
      "cell_type": "markdown",
      "id": "26KIJLY2qFXI",
      "metadata": {
        "id": "26KIJLY2qFXI"
      },
      "source": [
        "Each example contains a few keys, of which `start` and `target` are the most important ones. Let us have a look at the first time series in the dataset:"
      ]
    },
    {
      "cell_type": "code",
      "source": [
        "# dataset[\"train\"][0]"
      ],
      "metadata": {
        "id": "NaGjfY8L5lBg"
      },
      "id": "NaGjfY8L5lBg",
      "execution_count": 135,
      "outputs": []
    },
    {
      "cell_type": "code",
      "execution_count": 136,
      "id": "oHlRCUPkoN1N",
      "metadata": {
        "colab": {
          "base_uri": "https://localhost:8080/",
          "height": 159
        },
        "id": "oHlRCUPkoN1N",
        "outputId": "0345b4da-84be-450b-8cf1-5f8b1bf51c76"
      },
      "outputs": [
        {
          "output_type": "error",
          "ename": "TypeError",
          "evalue": "'PandasDataset' object is not subscriptable",
          "traceback": [
            "\u001b[0;31m---------------------------------------------------------------------------\u001b[0m",
            "\u001b[0;31mTypeError\u001b[0m                                 Traceback (most recent call last)",
            "\u001b[0;32m<ipython-input-136-dcc5c393c5ee>\u001b[0m in \u001b[0;36m<cell line: 0>\u001b[0;34m()\u001b[0m\n\u001b[0;32m----> 1\u001b[0;31m \u001b[0mtrain_example\u001b[0m \u001b[0;34m=\u001b[0m \u001b[0mdataset\u001b[0m\u001b[0;34m[\u001b[0m\u001b[0;34m\"train\"\u001b[0m\u001b[0;34m]\u001b[0m\u001b[0;34m[\u001b[0m\u001b[0;36m0\u001b[0m\u001b[0;34m]\u001b[0m\u001b[0;34m\u001b[0m\u001b[0;34m\u001b[0m\u001b[0m\n\u001b[0m\u001b[1;32m      2\u001b[0m \u001b[0mtrain_example\u001b[0m\u001b[0;34m.\u001b[0m\u001b[0mkeys\u001b[0m\u001b[0;34m(\u001b[0m\u001b[0;34m)\u001b[0m\u001b[0;34m\u001b[0m\u001b[0;34m\u001b[0m\u001b[0m\n",
            "\u001b[0;31mTypeError\u001b[0m: 'PandasDataset' object is not subscriptable"
          ]
        }
      ],
      "source": [
        "train_example = dataset[\"train\"][0]\n",
        "train_example.keys()"
      ]
    },
    {
      "cell_type": "markdown",
      "id": "gbVF5vAcqzJG",
      "metadata": {
        "id": "gbVF5vAcqzJG"
      },
      "source": [
        "The `start` simply indicates the start of the time series (as a datetime), and the `target` contains the actual values of the time series.\n",
        "\n",
        "The `start` will be useful to add time related features to the time series values, as extra input to the model (such as \"month of year\"). Since we know the frequency of the data is `monthly`, we know for instance that the second value has the timestamp `1979-02-01`, etc."
      ]
    },
    {
      "cell_type": "code",
      "execution_count": 10,
      "id": "1PDt8bvwoUbN",
      "metadata": {
        "colab": {
          "base_uri": "https://localhost:8080/"
        },
        "id": "1PDt8bvwoUbN",
        "outputId": "4782b879-1770-4c4f-8c0c-3ef537e1b6d7"
      },
      "outputs": [
        {
          "output_type": "stream",
          "name": "stdout",
          "text": [
            "1979-01-01 00:00:00\n",
            "[1149.8699951171875, 1053.8001708984375, 1388.8797607421875, 1783.3702392578125, 1921.025146484375, 2704.94482421875, 4184.41357421875, 4148.35400390625, 2620.72509765625, 1650.300048828125, 1115.9200439453125, 1370.6251220703125, 1096.31494140625, 978.4600219726562, 1294.68505859375, 1480.465087890625, 1748.865234375, 2216.920166015625, 4690.5185546875, 4682.8642578125, 2459.579833984375, 1484.4901123046875, 1028.985107421875, 1109.3648681640625, 960.8751220703125, 896.35009765625, 1118.6551513671875, 1619.9949951171875, 1847.994873046875, 2367.044921875, 4991.16015625, 4772.9443359375, 2894.678466796875, 1860.4801025390625, 1185.150146484375, 1313.659912109375, 1160.9150390625, 1061.5048828125, 1301.77001953125, 1794.3797607421875, 2106.455078125, 2789.034912109375, 4917.8466796875, 4994.4833984375, 3016.754150390625, 1941.505126953125, 1234.135009765625, 1378.72021484375, 1182.9749755859375, 1081.6600341796875, 1424.110107421875, 1774.5350341796875, 2115.420166015625, 2804.840087890625, 4849.498046875, 4937.47509765625, 3074.2236328125, 2063.42529296875, 1297.355224609375, 1350.710205078125, 1224.360107421875, 1165.815185546875, 1409.3299560546875, 2116.5498046875, 2357.135009765625, 2995.0703125, 5295.2119140625, 4957.90478515625, 3321.959228515625, 2221.18017578125, 1345.9000244140625, 1514.01513671875, 1239.5501708984375, 1172.159912109375, 1518.9752197265625, 1996.8751220703125, 2248.68505859375, 3053.440185546875, 5019.45361328125, 5466.7802734375, 3235.167724609375, 2157.97998046875, 1379.7252197265625, 1728.0400390625, 1350.10986328125, 1216.014892578125, 1751.3251953125, 1805.320068359375, 2570.02490234375, 3204.240234375, 5395.72021484375, 6078.82861328125, 3587.098388671875, 2285.195068359375, 1582.18994140625, 1787.4298095703125, 1554.8701171875, 1409.8648681640625, 1612.125, 2286.239990234375, 2913.755126953125, 3645.908447265625, 5956.70849609375, 6326.97509765625, 3914.66015625, 2617.675048828125, 1675.1650390625, 2139.219970703125, 1715.4898681640625, 1663.5799560546875, 2053.699951171875, 2354.929931640625, 3038.591796875, 3470.609375, 6606.18359375, 6587.63671875, 4133.78271484375, 2960.0244140625, 1762.5849609375, 2125.64013671875, 1815.9150390625, 1632.31494140625, 2210.39501953125, 2210.215087890625, 3099.269287109375, 3468.77783203125, 6482.92529296875, 6665.48486328125, 4006.36181640625, 2882.3349609375, 1775.2498779296875, 2171.64990234375, 1796.4749755859375, 1692.349853515625, 1949.78515625, 2680.630126953125, 2645.949951171875, 3414.742919921875, 5772.876953125]\n"
          ]
        }
      ],
      "source": [
        "print(train_example[\"start\"])\n",
        "print(train_example[\"target\"])"
      ]
    },
    {
      "cell_type": "markdown",
      "id": "DfkPxhCkquKL",
      "metadata": {
        "id": "DfkPxhCkquKL"
      },
      "source": [
        "The validation set contains the same data as the training set, just for a `prediction_length` longer amount of time. This allows us to validate the model's predictions against the ground truth.\n",
        "\n",
        "The test set is again one `prediction_length` longer data compared to the validation set (or some multiple of  `prediction_length` longer data compared to the training set for testing on multiple rolling windows)."
      ]
    },
    {
      "cell_type": "code",
      "execution_count": 11,
      "id": "eRQhm4EGpa0y",
      "metadata": {
        "colab": {
          "base_uri": "https://localhost:8080/"
        },
        "id": "eRQhm4EGpa0y",
        "outputId": "f9ec68a7-4560-4547-cc59-608586880d13"
      },
      "outputs": [
        {
          "output_type": "execute_result",
          "data": {
            "text/plain": [
              "dict_keys(['start', 'target', 'feat_static_cat', 'feat_dynamic_real', 'item_id'])"
            ]
          },
          "metadata": {},
          "execution_count": 11
        }
      ],
      "source": [
        "validation_example = dataset[\"validation\"][0]\n",
        "validation_example.keys()"
      ]
    },
    {
      "cell_type": "markdown",
      "id": "x5PI_Jn7rDfj",
      "metadata": {
        "id": "x5PI_Jn7rDfj"
      },
      "source": [
        "The initial values are exactly the same as the corresponding training example:"
      ]
    },
    {
      "cell_type": "code",
      "execution_count": 13,
      "id": "yHQnXZbUpg8q",
      "metadata": {
        "colab": {
          "base_uri": "https://localhost:8080/"
        },
        "id": "yHQnXZbUpg8q",
        "outputId": "8ae38611-4710-4b9a-d410-8f8bb58cbd90"
      },
      "outputs": [
        {
          "output_type": "stream",
          "name": "stdout",
          "text": [
            "1979-01-01 00:00:00\n",
            "[1149.8699951171875, 1053.8001708984375, 1388.8797607421875, 1783.3702392578125, 1921.025146484375, 2704.94482421875, 4184.41357421875, 4148.35400390625, 2620.72509765625, 1650.300048828125, 1115.9200439453125, 1370.6251220703125, 1096.31494140625, 978.4600219726562, 1294.68505859375, 1480.465087890625, 1748.865234375, 2216.920166015625, 4690.5185546875, 4682.8642578125, 2459.579833984375, 1484.4901123046875, 1028.985107421875, 1109.3648681640625, 960.8751220703125, 896.35009765625, 1118.6551513671875, 1619.9949951171875, 1847.994873046875, 2367.044921875, 4991.16015625, 4772.9443359375, 2894.678466796875, 1860.4801025390625, 1185.150146484375, 1313.659912109375, 1160.9150390625, 1061.5048828125, 1301.77001953125, 1794.3797607421875, 2106.455078125, 2789.034912109375, 4917.8466796875, 4994.4833984375, 3016.754150390625, 1941.505126953125, 1234.135009765625, 1378.72021484375, 1182.9749755859375, 1081.6600341796875, 1424.110107421875, 1774.5350341796875, 2115.420166015625, 2804.840087890625, 4849.498046875, 4937.47509765625, 3074.2236328125, 2063.42529296875, 1297.355224609375, 1350.710205078125, 1224.360107421875, 1165.815185546875, 1409.3299560546875, 2116.5498046875, 2357.135009765625, 2995.0703125, 5295.2119140625, 4957.90478515625, 3321.959228515625, 2221.18017578125, 1345.9000244140625, 1514.01513671875, 1239.5501708984375, 1172.159912109375, 1518.9752197265625, 1996.8751220703125, 2248.68505859375, 3053.440185546875, 5019.45361328125, 5466.7802734375, 3235.167724609375, 2157.97998046875, 1379.7252197265625, 1728.0400390625, 1350.10986328125, 1216.014892578125, 1751.3251953125, 1805.320068359375, 2570.02490234375, 3204.240234375, 5395.72021484375, 6078.82861328125, 3587.098388671875, 2285.195068359375, 1582.18994140625, 1787.4298095703125, 1554.8701171875, 1409.8648681640625, 1612.125, 2286.239990234375, 2913.755126953125, 3645.908447265625, 5956.70849609375, 6326.97509765625, 3914.66015625, 2617.675048828125, 1675.1650390625, 2139.219970703125, 1715.4898681640625, 1663.5799560546875, 2053.699951171875, 2354.929931640625, 3038.591796875, 3470.609375, 6606.18359375, 6587.63671875, 4133.78271484375, 2960.0244140625, 1762.5849609375, 2125.64013671875, 1815.9150390625, 1632.31494140625, 2210.39501953125, 2210.215087890625, 3099.269287109375, 3468.77783203125, 6482.92529296875, 6665.48486328125, 4006.36181640625, 2882.3349609375, 1775.2498779296875, 2171.64990234375, 1796.4749755859375, 1692.349853515625, 1949.78515625, 2680.630126953125, 2645.949951171875, 3414.742919921875, 5772.876953125, 6053.7041015625, 3878.12841796875, 2806.514892578125, 1735.5382080078125, 2128.919921875, 1608.01416015625, 1441.330078125, 2068.235107421875, 2207.610107421875, 2918.409912109375, 3400.81787109375, 6048.7421875, 6483.14013671875, 4063.502685546875, 2900.22998046875, 1907.094970703125, 2338.510009765625, 1787.1650390625, 1699.6451416015625, 1979.105224609375, 2824.260009765625, 3076.5048828125, 3402.5849609375, 5985.830078125]\n"
          ]
        }
      ],
      "source": [
        "print(validation_example[\"start\"])\n",
        "print(validation_example[\"target\"])"
      ]
    },
    {
      "cell_type": "markdown",
      "id": "vQU8V7hPrIZA",
      "metadata": {
        "id": "vQU8V7hPrIZA"
      },
      "source": [
        "However, this example has `prediction_length=24` additional values compared to the training example. Let us verify it."
      ]
    },
    {
      "cell_type": "code",
      "source": [
        "train_example\n",
        "validation_example"
      ],
      "metadata": {
        "id": "c-_IUimiNfo5"
      },
      "id": "c-_IUimiNfo5",
      "execution_count": null,
      "outputs": []
    },
    {
      "cell_type": "code",
      "source": [
        "train_dataset[0]"
      ],
      "metadata": {
        "id": "ek-Hp74eNj3b",
        "outputId": "1a908cc9-0efa-4fc9-cbd6-b5d63c197b14",
        "colab": {
          "base_uri": "https://localhost:8080/",
          "height": 141
        }
      },
      "id": "ek-Hp74eNj3b",
      "execution_count": 153,
      "outputs": [
        {
          "output_type": "error",
          "ename": "TypeError",
          "evalue": "'PandasDataset' object is not subscriptable",
          "traceback": [
            "\u001b[0;31m---------------------------------------------------------------------------\u001b[0m",
            "\u001b[0;31mTypeError\u001b[0m                                 Traceback (most recent call last)",
            "\u001b[0;32m<ipython-input-153-a0be1c17c5b0>\u001b[0m in \u001b[0;36m<cell line: 0>\u001b[0;34m()\u001b[0m\n\u001b[0;32m----> 1\u001b[0;31m \u001b[0mtrain_dataset\u001b[0m\u001b[0;34m[\u001b[0m\u001b[0;36m0\u001b[0m\u001b[0;34m]\u001b[0m\u001b[0;34m\u001b[0m\u001b[0;34m\u001b[0m\u001b[0m\n\u001b[0m",
            "\u001b[0;31mTypeError\u001b[0m: 'PandasDataset' object is not subscriptable"
          ]
        }
      ]
    },
    {
      "cell_type": "code",
      "execution_count": 14,
      "id": "__j4Z5Ohp8gg",
      "metadata": {
        "id": "__j4Z5Ohp8gg"
      },
      "outputs": [],
      "source": [
        "freq = \"1M\"\n",
        "prediction_length = 24\n",
        "\n",
        "assert len(train_example[\"target\"]) + prediction_length == len(\n",
        "    validation_example[\"target\"]\n",
        ")"
      ]
    },
    {
      "cell_type": "markdown",
      "id": "PGq2e9D-rhtg",
      "metadata": {
        "id": "PGq2e9D-rhtg"
      },
      "source": [
        "Let's visualize this:"
      ]
    },
    {
      "cell_type": "code",
      "execution_count": 15,
      "id": "cYDyml0tsnlL",
      "metadata": {
        "colab": {
          "base_uri": "https://localhost:8080/",
          "height": 430
        },
        "id": "cYDyml0tsnlL",
        "outputId": "50e1a373-9ba7-45ff-a57a-5db2962a4838"
      },
      "outputs": [
        {
          "output_type": "display_data",
          "data": {
            "text/plain": [
              "<Figure size 640x480 with 1 Axes>"
            ],
            "image/png": "[encoded data removed]"
          },
          "metadata": {}
        }
      ],
      "source": [
        "import matplotlib.pyplot as plt\n",
        "\n",
        "figure, axes = plt.subplots()\n",
        "axes.plot(train_example[\"target\"], color=\"blue\")\n",
        "axes.plot(validation_example[\"target\"], color=\"red\", alpha=0.5)\n",
        "\n",
        "plt.show()"
      ]
    },
    {
      "cell_type": "markdown",
      "id": "4pGV6_ZduUaA",
      "metadata": {
        "id": "4pGV6_ZduUaA"
      },
      "source": [
        "Let's split up the data:"
      ]
    },
    {
      "cell_type": "code",
      "execution_count": 16,
      "id": "7eb15a6a",
      "metadata": {
        "id": "7eb15a6a"
      },
      "outputs": [],
      "source": [
        "train_dataset = dataset[\"train\"]\n",
        "test_dataset = dataset[\"test\"]"
      ]
    },
    {
      "cell_type": "markdown",
      "id": "0125722c",
      "metadata": {
        "id": "0125722c"
      },
      "source": [
        "## Update `start` to `pd.Period`\n",
        "\n",
        "The first thing we'll do is convert the `start` feature of each time series to a pandas `Period` index using the data's `freq`:"
      ]
    },
    {
      "cell_type": "code",
      "execution_count": 17,
      "id": "249a9da4",
      "metadata": {
        "id": "249a9da4"
      },
      "outputs": [],
      "source": [
        "from functools import lru_cache\n",
        "\n",
        "import pandas as pd\n",
        "import numpy as np\n",
        "\n",
        "\n",
        "@lru_cache(10_000)\n",
        "def convert_to_pandas_period(date, freq):\n",
        "    return pd.Period(date, freq)\n",
        "\n",
        "\n",
        "def transform_start_field(batch, freq):\n",
        "    batch[\"start\"] = [convert_to_pandas_period(date, freq) for date in batch[\"start\"]]\n",
        "    return batch"
      ]
    },
    {
      "cell_type": "markdown",
      "id": "D7goNkUB1MPB",
      "metadata": {
        "id": "D7goNkUB1MPB"
      },
      "source": [
        "We now use `datasets`' [`set_transform`](https://huggingface.co/docs/datasets/v2.7.0/en/package_reference/main_classes#datasets.Dataset.set_transform) functionality to do this on-the-fly in place:"
      ]
    },
    {
      "cell_type": "code",
      "source": [
        "type(train_dataset)"
      ],
      "metadata": {
        "id": "XocQJ_mvL4Cb",
        "outputId": "b6738b0b-da8a-4a93-8cb3-0ae56db3e986",
        "colab": {
          "base_uri": "https://localhost:8080/",
          "height": 139
        }
      },
      "id": "XocQJ_mvL4Cb",
      "execution_count": 18,
      "outputs": [
        {
          "output_type": "execute_result",
          "data": {
            "text/plain": [
              "datasets.arrow_dataset.Dataset"
            ],
            "text/html": [
              "<div style=\"max-width:800px; border: 1px solid var(--colab-border-color);\"><style>\n",
              "      pre.function-repr-contents {\n",
              "        overflow-x: auto;\n",
              "        padding: 8px 12px;\n",
              "        max-height: 500px;\n",
              "      }\n",
              "\n",
              "      pre.function-repr-contents.function-repr-contents-collapsed {\n",
              "        cursor: pointer;\n",
              "        max-height: 100px;\n",
              "      }\n",
              "    </style>\n",
              "    <pre style=\"white-space: initial; background:\n",
              "         var(--colab-secondary-surface-color); padding: 8px 12px;\n",
              "         border-bottom: 1px solid var(--colab-border-color);\"><b>datasets.arrow_dataset.Dataset</b><br/>def __init__(arrow_table: Table, info: Optional[DatasetInfo]=None, split: Optional[NamedSplit]=None, indices_table: Optional[Table]=None, fingerprint: Optional[str]=None)</pre><pre class=\"function-repr-contents function-repr-contents-collapsed\" style=\"\"><a class=\"filepath\" style=\"display:none\" href=\"#\">/usr/local/lib/python3.11/dist-packages/datasets/arrow_dataset.py</a>A Dataset backed by an Arrow table.</pre>\n",
              "      <script>\n",
              "      if (google.colab.kernel.accessAllowed && google.colab.files && google.colab.files.view) {\n",
              "        for (const element of document.querySelectorAll('.filepath')) {\n",
              "          element.style.display = 'block'\n",
              "          element.onclick = (event) => {\n",
              "            event.preventDefault();\n",
              "            event.stopPropagation();\n",
              "            google.colab.files.view(element.textContent, 631);\n",
              "          };\n",
              "        }\n",
              "      }\n",
              "      for (const element of document.querySelectorAll('.function-repr-contents')) {\n",
              "        element.onclick = (event) => {\n",
              "          event.preventDefault();\n",
              "          event.stopPropagation();\n",
              "          element.classList.toggle('function-repr-contents-collapsed');\n",
              "        };\n",
              "      }\n",
              "      </script>\n",
              "      </div>"
            ]
          },
          "metadata": {},
          "execution_count": 18
        }
      ]
    },
    {
      "cell_type": "code",
      "execution_count": 19,
      "id": "b43c7551",
      "metadata": {
        "id": "b43c7551"
      },
      "outputs": [],
      "source": [
        "from functools import partial\n",
        "\n",
        "train_dataset.set_transform(partial(transform_start_field, freq=freq))\n",
        "test_dataset.set_transform(partial(transform_start_field, freq=freq))"
      ]
    },
    {
      "cell_type": "markdown",
      "id": "50efb119",
      "metadata": {
        "id": "50efb119"
      },
      "source": [
        "## Define the model\n",
        "\n",
        "Next, let's instantiate a model. The model will be trained from scratch, hence we won't use the `from_pretrained` method here, but rather randomly initialize the model from a [`config`](https://huggingface.co/docs/transformers/model_doc/time_series_transformer#transformers.TimeSeriesTransformerConfig).\n",
        "\n",
        "We specify a couple of additional parameters to the model:\n",
        "- `prediction_length` (in our case, `24` months): this is the horizon that the decoder of the Transformer will learn to predict for;\n",
        "- `context_length`: the model will set the `context_length` (input of the encoder) equal to the `prediction_length`, if no `context_length` is specified;\n",
        "- `lags` for a given frequency: these specify how much we \"look back\", to be added as additional features. e.g. for a `Daily` frequency we might consider a look back of `[1, 2, 7, 30, ...]` or in other words look back 1, 2, ... days while for `Minute` data we might consider `[1, 30, 60, 60*24, ...]` etc.;\n",
        "- the number of time features: in our case, this will be `2` as we'll add `MonthOfYear` and `Age` features;\n",
        "- the number of static categorical features: in our case, this will be just `1` as we'll add a single \"time series ID\" feature;\n",
        "- the cardinality: the number of values of each static categorical feature, as a list which for our case will be `[366]` as we have 366 different time series\n",
        "- the embedding dimension: the embedding dimension for each static categorical feature, as a list, for example `[3]` meaning the model will learn an embedding vector of size `3` for each of the `366` time series (regions).\n"
      ]
    },
    {
      "cell_type": "markdown",
      "id": "0z4YFov8CNUu",
      "metadata": {
        "id": "0z4YFov8CNUu"
      },
      "source": [
        "Let's use the default lags provided by GluonTS for the given frequency (\"monthly\"):"
      ]
    },
    {
      "cell_type": "code",
      "execution_count": 20,
      "id": "6CF4M8Ms7W-q",
      "metadata": {
        "colab": {
          "base_uri": "https://localhost:8080/"
        },
        "id": "6CF4M8Ms7W-q",
        "outputId": "7d197a66-8db5-40ff-9ac9-3d25acdae480"
      },
      "outputs": [
        {
          "output_type": "stream",
          "name": "stdout",
          "text": [
            "[1, 2, 3, 4, 5, 6, 7, 11, 12, 13, 23, 24, 25, 35, 36, 37]\n"
          ]
        },
        {
          "output_type": "stream",
          "name": "stderr",
          "text": [
            "/usr/local/lib/python3.11/dist-packages/gluonts/time_feature/lag.py:104: FutureWarning: 'M' is deprecated and will be removed in a future version, please use 'ME' instead.\n",
            "  offset = to_offset(freq_str)\n"
          ]
        }
      ],
      "source": [
        "from gluonts.time_feature import get_lags_for_frequency\n",
        "\n",
        "lags_sequence = get_lags_for_frequency(freq)\n",
        "print(lags_sequence)"
      ]
    },
    {
      "cell_type": "markdown",
      "id": "q6ZuFx8yCSAM",
      "metadata": {
        "id": "q6ZuFx8yCSAM"
      },
      "source": [
        "This means that we'll look back up to 37 months for each time step, as additional features.\n",
        "\n",
        "Let's also check the default time features which GluonTS provides us:"
      ]
    },
    {
      "cell_type": "code",
      "execution_count": 22,
      "id": "VlP_0E5I76lg",
      "metadata": {
        "colab": {
          "base_uri": "https://localhost:8080/"
        },
        "id": "VlP_0E5I76lg",
        "outputId": "16d1074c-41d8-41ac-c755-442e8a7f6426"
      },
      "outputs": [
        {
          "output_type": "stream",
          "name": "stdout",
          "text": [
            "[<function month_of_year at 0x7f6d6a569f80>]\n"
          ]
        }
      ],
      "source": [
        "from gluonts.time_feature import time_features_from_frequency_str\n",
        "\n",
        "time_features = time_features_from_frequency_str(freq)\n",
        "print(time_features)"
      ]
    },
    {
      "cell_type": "markdown",
      "id": "m0_f7lm9CbNG",
      "metadata": {
        "id": "m0_f7lm9CbNG"
      },
      "source": [
        "In this case, there's only a single feature, namely \"month of year\". This means that for each time step, we'll add the month as a scalar value (e.g. `1` in case the timestamp is \"january\", `2` in case the timestamp is \"february\", etc.).\n",
        "\n",
        "We now have everything to define the model:"
      ]
    },
    {
      "cell_type": "code",
      "execution_count": 23,
      "id": "3dda0e78",
      "metadata": {
        "id": "3dda0e78",
        "outputId": "57a3b569-b0f3-46fc-f98e-3c67113ee769",
        "colab": {
          "base_uri": "https://localhost:8080/",
          "height": 86,
          "referenced_widgets": [
            "a2581ff0093048a8ba89eabafc86f8ee",
            "7b4b0f69e74e4d14b28ab62eea27b8b8",
            "4d45a552947e4999ba4f1dd145f8ee0d",
            "4ffc5243c43e4afd86998249f221497f",
            "3958309a979d449186439e18de2aa00c",
            "f404ffbaf8874f1dabf1695d53f38994",
            "56b513a64469454fb1163af6af45a04c",
            "979a030bacbc4dd1a4dd557c45a1d380",
            "32af5ea90aec4c339ec5ad1c045c2850",
            "e8efc3e6d0024b0d9c16bf6c9c40fbcf",
            "25cbfbbc36434d008b4ad9b64f8160bf"
          ]
        }
      },
      "outputs": [
        {
          "output_type": "stream",
          "name": "stderr",
          "text": [
            "The cache for model files in Transformers v4.22.0 has been updated. Migrating your old cache. This is a one-time only operation. You can interrupt this and resume the migration later on by calling `transformers.utils.move_cache()`.\n"
          ]
        },
        {
          "output_type": "display_data",
          "data": {
            "text/plain": [
              "0it [00:00, ?it/s]"
            ],
            "application/vnd.jupyter.widget-view+json": {
              "version_major": 2,
              "version_minor": 0,
              "model_id": "a2581ff0093048a8ba89eabafc86f8ee"
            }
          },
          "metadata": {}
        }
      ],
      "source": [
        "from transformers import TimeSeriesTransformerConfig, TimeSeriesTransformerForPrediction\n",
        "\n",
        "config = TimeSeriesTransformerConfig(\n",
        "    prediction_length=prediction_length,\n",
        "    # context length:\n",
        "    context_length=prediction_length * 2,\n",
        "    # lags coming from helper given the freq:\n",
        "    lags_sequence=lags_sequence,\n",
        "    # we'll add 2 time features (\"month of year\" and \"age\", see further):\n",
        "    num_time_features=len(time_features) + 1,\n",
        "    # we have a single static categorical feature, namely time series ID:\n",
        "    num_static_categorical_features=1,\n",
        "    # it has 366 possible values:\n",
        "    cardinality=[len(train_dataset)],\n",
        "    # the model will learn an embedding of size 2 for each of the 366 possible values:\n",
        "    embedding_dimension=[2],\n",
        "\n",
        "    # transformer params:\n",
        "    encoder_layers=4,\n",
        "    decoder_layers=4,\n",
        "    d_model=32,\n",
        ")\n",
        "\n",
        "model = TimeSeriesTransformerForPrediction(config)"
      ]
    },
    {
      "cell_type": "markdown",
      "id": "T6rCeV4dsUnF",
      "metadata": {
        "id": "T6rCeV4dsUnF"
      },
      "source": [
        "Note that, similar to other models in the 🤗 Transformers library, [`TimeSeriesTransformerModel`](https://huggingface.co/docs/transformers/model_doc/time_series_transformer#transformers.TimeSeriesTransformerModel) corresponds to the encoder-decoder Transformer without any head on top, and [`TimeSeriesTransformerForPrediction`](https://huggingface.co/docs/transformers/model_doc/time_series_transformer#transformers.TimeSeriesTransformerForPrediction) corresponds to `TimeSeriesTransformerModel` with a **distribution head** on top. By default, the model uses a Student-t distribution (but this is configurable):"
      ]
    },
    {
      "cell_type": "code",
      "execution_count": 24,
      "id": "EaoKZyujsuIA",
      "metadata": {
        "colab": {
          "base_uri": "https://localhost:8080/",
          "height": 35
        },
        "id": "EaoKZyujsuIA",
        "outputId": "18d69331-0851-4647-e244-bb84f18edc31"
      },
      "outputs": [
        {
          "output_type": "execute_result",
          "data": {
            "text/plain": [
              "'student_t'"
            ],
            "application/vnd.google.colaboratory.intrinsic+json": {
              "type": "string"
            }
          },
          "metadata": {},
          "execution_count": 24
        }
      ],
      "source": [
        "model.config.distribution_output"
      ]
    },
    {
      "cell_type": "markdown",
      "id": "feQYVhgus-yl",
      "metadata": {
        "id": "feQYVhgus-yl"
      },
      "source": [
        "This is an important difference with Transformers for NLP, where the head typically consists of a fixed categorical distribution implemented as an `nn.Linear` layer."
      ]
    },
    {
      "cell_type": "markdown",
      "id": "af82c60d",
      "metadata": {
        "id": "af82c60d"
      },
      "source": [
        "## Define Transformations\n",
        "\n",
        "Next, we define the transformations for the data, in particular for the creation of the time features (based on the dataset or universal ones).\n",
        "\n",
        "Again, we'll use the GluonTS library for this. We define a `Chain` of transformations (which is a bit comparable to `torchvision.transforms.Compose` for images). It allows us to combine several transformations into a single pipeline."
      ]
    },
    {
      "cell_type": "code",
      "execution_count": 28,
      "id": "tR87yKPSn8SZ",
      "metadata": {
        "id": "tR87yKPSn8SZ"
      },
      "outputs": [],
      "source": [
        "from gluonts.time_feature import (\n",
        "    time_features_from_frequency_str,\n",
        "    TimeFeature,\n",
        "    get_lags_for_frequency,\n",
        ")\n",
        "from gluonts.dataset.field_names import FieldName\n",
        "from gluonts.transform import (\n",
        "    AddAgeFeature,\n",
        "    AddObservedValuesIndicator,\n",
        "    AddTimeFeatures,\n",
        "    AsNumpyArray,\n",
        "    Chain,\n",
        "    ExpectedNumInstanceSampler,\n",
        "    InstanceSplitter,\n",
        "    RemoveFields,\n",
        "    SelectFields,\n",
        "    SetField,\n",
        "    TestSplitSampler,\n",
        "    Transformation,\n",
        "    ValidationSplitSampler,\n",
        "    VstackFeatures,\n",
        "    RenameFields,\n",
        ")"
      ]
    },
    {
      "cell_type": "markdown",
      "id": "4Qql4CInFWO7",
      "metadata": {
        "id": "4Qql4CInFWO7"
      },
      "source": [
        "The transformations below are annotated with comments, to explain what they do. At a high level, we will iterate over the individual time series of our dataset and add/remove fields or features:"
      ]
    },
    {
      "cell_type": "code",
      "execution_count": 29,
      "id": "20fe036e",
      "metadata": {
        "id": "20fe036e"
      },
      "outputs": [],
      "source": [
        "from transformers import PretrainedConfig\n",
        "\n",
        "\n",
        "def create_transformation(freq: str, config: PretrainedConfig) -> Transformation:\n",
        "    remove_field_names = []\n",
        "    if config.num_static_real_features == 0:\n",
        "        remove_field_names.append(FieldName.FEAT_STATIC_REAL)\n",
        "    if config.num_dynamic_real_features == 0:\n",
        "        remove_field_names.append(FieldName.FEAT_DYNAMIC_REAL)\n",
        "    if config.num_static_categorical_features == 0:\n",
        "        remove_field_names.append(FieldName.FEAT_STATIC_CAT)\n",
        "\n",
        "    # a bit like torchvision.transforms.Compose\n",
        "    return Chain(\n",
        "        # step 1: remove static/dynamic fields if not specified\n",
        "        [RemoveFields(field_names=remove_field_names)]\n",
        "        # step 2: convert the data to NumPy (potentially not needed)\n",
        "        + (\n",
        "            [\n",
        "                AsNumpyArray(\n",
        "                    field=FieldName.FEAT_STATIC_CAT,\n",
        "                    expected_ndim=1,\n",
        "                    dtype=int,\n",
        "                )\n",
        "            ]\n",
        "            if config.num_static_categorical_features > 0\n",
        "            else []\n",
        "        )\n",
        "        + (\n",
        "            [\n",
        "                AsNumpyArray(\n",
        "                    field=FieldName.FEAT_STATIC_REAL,\n",
        "                    expected_ndim=1,\n",
        "                )\n",
        "            ]\n",
        "            if config.num_static_real_features > 0\n",
        "            else []\n",
        "        )\n",
        "        + [\n",
        "            AsNumpyArray(\n",
        "                field=FieldName.TARGET,\n",
        "                # we expect an extra dim for the multivariate case:\n",
        "                expected_ndim=1 if config.input_size == 1 else 2,\n",
        "            ),\n",
        "            # step 3: handle the NaN's by filling in the target with zero\n",
        "            # and return the mask (which is in the observed values)\n",
        "            # true for observed values, false for nan's\n",
        "            # the decoder uses this mask (no loss is incurred for unobserved values)\n",
        "            # see loss_weights inside the xxxForPrediction model\n",
        "            AddObservedValuesIndicator(\n",
        "                target_field=FieldName.TARGET,\n",
        "                output_field=FieldName.OBSERVED_VALUES,\n",
        "            ),\n",
        "            # step 4: add temporal features based on freq of the dataset\n",
        "            # month of year in the case when freq=\"M\"\n",
        "            # these serve as positional encodings\n",
        "            AddTimeFeatures(\n",
        "                start_field=FieldName.START,\n",
        "                target_field=FieldName.TARGET,\n",
        "                output_field=FieldName.FEAT_TIME,\n",
        "                time_features=time_features_from_frequency_str(freq),\n",
        "                pred_length=config.prediction_length,\n",
        "            ),\n",
        "            # step 5: add another temporal feature (just a single number)\n",
        "            # tells the model where in the life the value of the time series is\n",
        "            # sort of running counter\n",
        "            AddAgeFeature(\n",
        "                target_field=FieldName.TARGET,\n",
        "                output_field=FieldName.FEAT_AGE,\n",
        "                pred_length=config.prediction_length,\n",
        "                log_scale=True,\n",
        "            ),\n",
        "            # step 6: vertically stack all the temporal features into the key FEAT_TIME\n",
        "            VstackFeatures(\n",
        "                output_field=FieldName.FEAT_TIME,\n",
        "                input_fields=[FieldName.FEAT_TIME, FieldName.FEAT_AGE]\n",
        "                + (\n",
        "                    [FieldName.FEAT_DYNAMIC_REAL]\n",
        "                    if config.num_dynamic_real_features > 0\n",
        "                    else []\n",
        "                ),\n",
        "            ),\n",
        "            # step 7: rename to match HuggingFace names\n",
        "            RenameFields(\n",
        "                mapping={\n",
        "                    FieldName.FEAT_STATIC_CAT: \"static_categorical_features\",\n",
        "                    FieldName.FEAT_STATIC_REAL: \"static_real_features\",\n",
        "                    FieldName.FEAT_TIME: \"time_features\",\n",
        "                    FieldName.TARGET: \"values\",\n",
        "                    FieldName.OBSERVED_VALUES: \"observed_mask\",\n",
        "                }\n",
        "            ),\n",
        "        ]\n",
        "    )"
      ]
    },
    {
      "cell_type": "markdown",
      "id": "8bab46d0",
      "metadata": {
        "id": "8bab46d0"
      },
      "source": [
        "## Define `InstanceSplitter`\n",
        "\n",
        "For training/validation/testing we next create an `InstanceSplitter` which is used to sample windows from the dataset (as, remember, we can't pass the entire history of values to the Transformer due to time- and memory constraints).\n",
        "\n",
        "The instance splitter samples random `context_length` sized and subsequent `prediction_length` sized windows from the data, and appends a `past_` or `future_` key to any temporal keys in `time_series_fields` for the respective windows. The instance splitter can be configured into three different modes:\n",
        "1. `mode=\"train\"`: Here we sample the context and prediction length windows randomly from the dataset given to it (the training dataset)\n",
        "2. `mode=\"validation\"`: Here we sample the very last context length window and prediction window from the dataset given to it (for the back-testing or validation likelihood calculations)\n",
        "3. `mode=\"test\"`: Here we sample the very last context length window only (for the prediction use case)"
      ]
    },
    {
      "cell_type": "code",
      "execution_count": 30,
      "id": "cae7600d",
      "metadata": {
        "id": "cae7600d"
      },
      "outputs": [],
      "source": [
        "from gluonts.transform.sampler import InstanceSampler\n",
        "from typing import Optional\n",
        "\n",
        "\n",
        "def create_instance_splitter(\n",
        "    config: PretrainedConfig,\n",
        "    mode: str,\n",
        "    train_sampler: Optional[InstanceSampler] = None,\n",
        "    validation_sampler: Optional[InstanceSampler] = None,\n",
        ") -> Transformation:\n",
        "    assert mode in [\"train\", \"validation\", \"test\"]\n",
        "\n",
        "    instance_sampler = {\n",
        "        \"train\": train_sampler\n",
        "        or ExpectedNumInstanceSampler(\n",
        "            num_instances=1.0, min_future=config.prediction_length\n",
        "        ),\n",
        "        \"validation\": validation_sampler\n",
        "        or ValidationSplitSampler(min_future=config.prediction_length),\n",
        "        \"test\": TestSplitSampler(),\n",
        "    }[mode]\n",
        "\n",
        "    return InstanceSplitter(\n",
        "        target_field=\"values\",\n",
        "        is_pad_field=FieldName.IS_PAD,\n",
        "        start_field=FieldName.START,\n",
        "        forecast_start_field=FieldName.FORECAST_START,\n",
        "        instance_sampler=instance_sampler,\n",
        "        past_length=config.context_length + max(config.lags_sequence),\n",
        "        future_length=config.prediction_length,\n",
        "        time_series_fields=[\"time_features\", \"observed_mask\"],\n",
        "    )"
      ]
    },
    {
      "cell_type": "markdown",
      "id": "958e050d",
      "metadata": {
        "id": "958e050d"
      },
      "source": [
        "## Create DataLoaders\n",
        "\n",
        "Next, it's time to create the DataLoaders, which allow us to have batches of (input, output pairs) - or in other words (`past_values`, `future_values`)."
      ]
    },
    {
      "cell_type": "code",
      "execution_count": 31,
      "id": "6995101c",
      "metadata": {
        "id": "6995101c"
      },
      "outputs": [],
      "source": [
        "from typing import Iterable\n",
        "\n",
        "import torch\n",
        "from gluonts.itertools import Cyclic, Cached\n",
        "from gluonts.dataset.loader import as_stacked_batches\n",
        "\n",
        "\n",
        "def create_train_dataloader(\n",
        "    config: PretrainedConfig,\n",
        "    freq,\n",
        "    data,\n",
        "    batch_size: int,\n",
        "    num_batches_per_epoch: int,\n",
        "    shuffle_buffer_length: Optional[int] = None,\n",
        "    cache_data: bool = True,\n",
        "    **kwargs,\n",
        ") -> Iterable:\n",
        "    PREDICTION_INPUT_NAMES = [\n",
        "        \"past_time_features\",\n",
        "        \"past_values\",\n",
        "        \"past_observed_mask\",\n",
        "        \"future_time_features\",\n",
        "    ]\n",
        "    if config.num_static_categorical_features > 0:\n",
        "        PREDICTION_INPUT_NAMES.append(\"static_categorical_features\")\n",
        "\n",
        "    if config.num_static_real_features > 0:\n",
        "        PREDICTION_INPUT_NAMES.append(\"static_real_features\")\n",
        "\n",
        "    TRAINING_INPUT_NAMES = PREDICTION_INPUT_NAMES + [\n",
        "        \"future_values\",\n",
        "        \"future_observed_mask\",\n",
        "    ]\n",
        "\n",
        "    transformation = create_transformation(freq, config)\n",
        "    transformed_data = transformation.apply(data, is_train=True)\n",
        "    if cache_data:\n",
        "        transformed_data = Cached(transformed_data)\n",
        "\n",
        "    # we initialize a Training instance\n",
        "    instance_splitter = create_instance_splitter(config, \"train\")\n",
        "\n",
        "    # the instance splitter will sample a window of\n",
        "    # context length + lags + prediction length (from the 366 possible transformed time series)\n",
        "    # randomly from within the target time series and return an iterator.\n",
        "    stream = Cyclic(transformed_data).stream()\n",
        "    training_instances = instance_splitter.apply(stream)\n",
        "\n",
        "    return as_stacked_batches(\n",
        "        training_instances,\n",
        "        batch_size=batch_size,\n",
        "        shuffle_buffer_length=shuffle_buffer_length,\n",
        "        field_names=TRAINING_INPUT_NAMES,\n",
        "        output_type=torch.tensor,\n",
        "        num_batches_per_epoch=num_batches_per_epoch,\n",
        "    )"
      ]
    },
    {
      "cell_type": "code",
      "execution_count": 32,
      "id": "10c55455",
      "metadata": {
        "id": "10c55455"
      },
      "outputs": [],
      "source": [
        "def create_backtest_dataloader(\n",
        "    config: PretrainedConfig,\n",
        "    freq,\n",
        "    data,\n",
        "    batch_size: int,\n",
        "    **kwargs,\n",
        "):\n",
        "    PREDICTION_INPUT_NAMES = [\n",
        "        \"past_time_features\",\n",
        "        \"past_values\",\n",
        "        \"past_observed_mask\",\n",
        "        \"future_time_features\",\n",
        "    ]\n",
        "    if config.num_static_categorical_features > 0:\n",
        "        PREDICTION_INPUT_NAMES.append(\"static_categorical_features\")\n",
        "\n",
        "    if config.num_static_real_features > 0:\n",
        "        PREDICTION_INPUT_NAMES.append(\"static_real_features\")\n",
        "\n",
        "    transformation = create_transformation(freq, config)\n",
        "    transformed_data = transformation.apply(data)\n",
        "\n",
        "    # We create a Validation Instance splitter which will sample the very last\n",
        "    # context window seen during training only for the encoder.\n",
        "    instance_sampler = create_instance_splitter(config, \"validation\")\n",
        "\n",
        "    # we apply the transformations in train mode\n",
        "    testing_instances = instance_sampler.apply(transformed_data, is_train=True)\n",
        "\n",
        "    return as_stacked_batches(\n",
        "        testing_instances,\n",
        "        batch_size=batch_size,\n",
        "        output_type=torch.tensor,\n",
        "        field_names=PREDICTION_INPUT_NAMES,\n",
        "    )"
      ]
    },
    {
      "cell_type": "markdown",
      "id": "8f257d8d-fcf2-4f9e-814e-63b82ece22e8",
      "metadata": {
        "id": "8f257d8d-fcf2-4f9e-814e-63b82ece22e8"
      },
      "source": [
        "We have a test dataloader helper for completion, even though we will not use it here. This is useful in a production setting where we want to start forecasting from the end of a given time series. Thus, the test dataloader will sample the very last context window from the dataset provided and pass it to the model."
      ]
    },
    {
      "cell_type": "code",
      "execution_count": 33,
      "id": "71459c61-949b-4ff6-91af-5a636839aa60",
      "metadata": {
        "id": "71459c61-949b-4ff6-91af-5a636839aa60"
      },
      "outputs": [],
      "source": [
        "def create_test_dataloader(\n",
        "    config: PretrainedConfig,\n",
        "    freq,\n",
        "    data,\n",
        "    batch_size: int,\n",
        "    **kwargs,\n",
        "):\n",
        "    PREDICTION_INPUT_NAMES = [\n",
        "        \"past_time_features\",\n",
        "        \"past_values\",\n",
        "        \"past_observed_mask\",\n",
        "        \"future_time_features\",\n",
        "    ]\n",
        "    if config.num_static_categorical_features > 0:\n",
        "        PREDICTION_INPUT_NAMES.append(\"static_categorical_features\")\n",
        "\n",
        "    if config.num_static_real_features > 0:\n",
        "        PREDICTION_INPUT_NAMES.append(\"static_real_features\")\n",
        "\n",
        "    transformation = create_transformation(freq, config)\n",
        "    transformed_data = transformation.apply(data, is_train=False)\n",
        "\n",
        "    # We create a test Instance splitter to sample the very last\n",
        "    # context window from the dataset provided.\n",
        "    instance_sampler = create_instance_splitter(config, \"test\")\n",
        "\n",
        "    # We apply the transformations in test mode\n",
        "    testing_instances = instance_sampler.apply(transformed_data, is_train=False)\n",
        "\n",
        "    return as_stacked_batches(\n",
        "        testing_instances,\n",
        "        batch_size=batch_size,\n",
        "        output_type=torch.tensor,\n",
        "        field_names=PREDICTION_INPUT_NAMES,\n",
        "    )"
      ]
    },
    {
      "cell_type": "code",
      "execution_count": 34,
      "id": "20e2338b",
      "metadata": {
        "id": "20e2338b",
        "outputId": "d719b820-dea0-4668-d4e5-8b70efb11b76",
        "colab": {
          "base_uri": "https://localhost:8080/"
        }
      },
      "outputs": [
        {
          "output_type": "stream",
          "name": "stderr",
          "text": [
            "/usr/local/lib/python3.11/dist-packages/gluonts/time_feature/_base.py:249: FutureWarning: 'M' is deprecated and will be removed in a future version, please use 'ME' instead.\n",
            "  offset = to_offset(freq_str)\n"
          ]
        }
      ],
      "source": [
        "train_dataloader = create_train_dataloader(\n",
        "    config=config,\n",
        "    freq=freq,\n",
        "    data=train_dataset,\n",
        "    batch_size=256,\n",
        "    num_batches_per_epoch=100,\n",
        ")\n",
        "\n",
        "test_dataloader = create_backtest_dataloader(\n",
        "    config=config,\n",
        "    freq=freq,\n",
        "    data=test_dataset,\n",
        "    batch_size=64,\n",
        ")"
      ]
    },
    {
      "cell_type": "markdown",
      "id": "ES2U8g-2G2Jd",
      "metadata": {
        "id": "ES2U8g-2G2Jd"
      },
      "source": [
        "Let's check the first batch:"
      ]
    },
    {
      "cell_type": "code",
      "execution_count": 35,
      "id": "YU2h9OOB5IsX",
      "metadata": {
        "colab": {
          "base_uri": "https://localhost:8080/"
        },
        "id": "YU2h9OOB5IsX",
        "outputId": "58970847-46cc-4b22-e4f4-b9fc2e47ad21"
      },
      "outputs": [
        {
          "output_type": "stream",
          "name": "stdout",
          "text": [
            "past_time_features torch.Size([256, 85, 2]) torch.FloatTensor\n",
            "past_values torch.Size([256, 85]) torch.FloatTensor\n",
            "past_observed_mask torch.Size([256, 85]) torch.FloatTensor\n",
            "future_time_features torch.Size([256, 24, 2]) torch.FloatTensor\n",
            "static_categorical_features torch.Size([256, 1]) torch.LongTensor\n",
            "future_values torch.Size([256, 24]) torch.FloatTensor\n",
            "future_observed_mask torch.Size([256, 24]) torch.FloatTensor\n"
          ]
        }
      ],
      "source": [
        "batch = next(iter(train_dataloader))\n",
        "for k, v in batch.items():\n",
        "    print(k, v.shape, v.type())"
      ]
    },
    {
      "cell_type": "code",
      "source": [
        "v"
      ],
      "metadata": {
        "id": "kuZVs94P6UgW",
        "outputId": "8995f264-a3f9-451f-8d35-17845c6ef985",
        "colab": {
          "base_uri": "https://localhost:8080/"
        }
      },
      "id": "kuZVs94P6UgW",
      "execution_count": 39,
      "outputs": [
        {
          "output_type": "execute_result",
          "data": {
            "text/plain": [
              "tensor([[1., 1., 1.,  ..., 1., 1., 1.],\n",
              "        [1., 1., 1.,  ..., 1., 1., 1.],\n",
              "        [1., 1., 1.,  ..., 1., 1., 1.],\n",
              "        ...,\n",
              "        [1., 1., 1.,  ..., 1., 1., 1.],\n",
              "        [1., 1., 1.,  ..., 1., 1., 1.],\n",
              "        [1., 1., 1.,  ..., 1., 1., 1.]])"
            ]
          },
          "metadata": {},
          "execution_count": 39
        }
      ]
    },
    {
      "cell_type": "markdown",
      "id": "HvvPlSF8HBYd",
      "metadata": {
        "id": "HvvPlSF8HBYd"
      },
      "source": [
        "As can be seen, we don't feed `input_ids` and `attention_mask` to the encoder (as would be the case for NLP models), but rather `past_values`, along with `past_observed_mask`, `past_time_features`, and `static_categorical_features`.\n",
        "\n",
        "The decoder inputs consist of `future_values`, `future_observed_mask` and `future_time_features`. The `future_values` can be seen as the equivalent of `decoder_input_ids` in NLP.\n",
        "\n",
        "We refer to the [docs](https://huggingface.co/docs/transformers/model_doc/time_series_transformer#transformers.TimeSeriesTransformerForPrediction.forward.past_values) for a detailed explanation for each of them."
      ]
    },
    {
      "cell_type": "markdown",
      "id": "_cev4ufVv1yf",
      "metadata": {
        "id": "_cev4ufVv1yf"
      },
      "source": [
        "## Forward pass\n",
        "\n",
        "Let's perform a single forward pass with the batch we just created:"
      ]
    },
    {
      "cell_type": "code",
      "execution_count": 40,
      "id": "sD8fav6qTApR",
      "metadata": {
        "id": "sD8fav6qTApR"
      },
      "outputs": [],
      "source": [
        "# perform forward pass\n",
        "outputs = model(\n",
        "    past_values=batch[\"past_values\"],\n",
        "    past_time_features=batch[\"past_time_features\"],\n",
        "    past_observed_mask=batch[\"past_observed_mask\"],\n",
        "    static_categorical_features=batch[\"static_categorical_features\"]\n",
        "    if config.num_static_categorical_features > 0\n",
        "    else None,\n",
        "    static_real_features=batch[\"static_real_features\"]\n",
        "    if config.num_static_real_features > 0\n",
        "    else None,\n",
        "    future_values=batch[\"future_values\"],\n",
        "    future_time_features=batch[\"future_time_features\"],\n",
        "    future_observed_mask=batch[\"future_observed_mask\"],\n",
        "    output_hidden_states=True,\n",
        ")"
      ]
    },
    {
      "cell_type": "code",
      "execution_count": 41,
      "id": "j2KnnHTCX4RC",
      "metadata": {
        "colab": {
          "base_uri": "https://localhost:8080/"
        },
        "id": "j2KnnHTCX4RC",
        "outputId": "1fe479eb-8968-4407-cf76-3300d922e17a"
      },
      "outputs": [
        {
          "output_type": "stream",
          "name": "stdout",
          "text": [
            "Loss: 9.41601848602295\n"
          ]
        }
      ],
      "source": [
        "print(\"Loss:\", outputs.loss.item())"
      ]
    },
    {
      "cell_type": "markdown",
      "id": "V9K8s2j9y8x7",
      "metadata": {
        "id": "V9K8s2j9y8x7"
      },
      "source": [
        "Note that the model is returning a loss. This is possible as the decoder automatically shifts the `future_values` one position to the right in order to have the labels. This allows computing a loss between the predicted values and the labels.\n",
        "\n",
        "Also note that the decoder uses a causal mask to not look into the future as the values it needs to predict are in the `future_values` tensor."
      ]
    },
    {
      "cell_type": "markdown",
      "id": "SxHDCa7vwPBF",
      "metadata": {
        "id": "SxHDCa7vwPBF"
      },
      "source": [
        "## Train the Model\n",
        "\n",
        "It's time to train the model! We'll use a standard PyTorch training loop.\n",
        "\n",
        "We will use the 🤗 [Accelerate](https://huggingface.co/docs/accelerate/index) library here, which automatically places the model, optimizer and dataloader on the appropriate `device`."
      ]
    },
    {
      "cell_type": "code",
      "execution_count": 43,
      "id": "gMLYvQaNHuXQ",
      "metadata": {
        "colab": {
          "base_uri": "https://localhost:8080/"
        },
        "id": "gMLYvQaNHuXQ",
        "outputId": "fee458a3-ac9e-40cc-f147-f4dc3c8c87a8"
      },
      "outputs": [
        {
          "output_type": "stream",
          "name": "stdout",
          "text": [
            "7.425731182098389\n",
            "7.261111736297607\n",
            "7.1540069580078125\n",
            "7.04323148727417\n",
            "7.288658142089844\n",
            "7.10760498046875\n",
            "6.892951965332031\n",
            "7.1953864097595215\n",
            "7.420905590057373\n",
            "6.749854564666748\n"
          ]
        }
      ],
      "source": [
        "from accelerate import Accelerator\n",
        "from torch.optim import AdamW\n",
        "\n",
        "accelerator = Accelerator()\n",
        "device = accelerator.device\n",
        "\n",
        "model.to(device)\n",
        "optimizer = AdamW(model.parameters(), lr=6e-4, betas=(0.9, 0.95), weight_decay=1e-1)\n",
        "\n",
        "model, optimizer, train_dataloader = accelerator.prepare(\n",
        "    model,\n",
        "    optimizer,\n",
        "    train_dataloader,\n",
        ")\n",
        "\n",
        "model.train()\n",
        "for epoch in range(10):\n",
        "    for idx, batch in enumerate(train_dataloader):\n",
        "        optimizer.zero_grad()\n",
        "        outputs = model(\n",
        "            static_categorical_features=batch[\"static_categorical_features\"].to(device)\n",
        "            if config.num_static_categorical_features > 0\n",
        "            else None,\n",
        "            static_real_features=batch[\"static_real_features\"].to(device)\n",
        "            if config.num_static_real_features > 0\n",
        "            else None,\n",
        "            past_time_features=batch[\"past_time_features\"].to(device),\n",
        "            past_values=batch[\"past_values\"].to(device),\n",
        "            future_time_features=batch[\"future_time_features\"].to(device),\n",
        "            future_values=batch[\"future_values\"].to(device),\n",
        "            past_observed_mask=batch[\"past_observed_mask\"].to(device),\n",
        "            future_observed_mask=batch[\"future_observed_mask\"].to(device),\n",
        "        )\n",
        "        loss = outputs.loss\n",
        "\n",
        "        # Backpropagation\n",
        "        accelerator.backward(loss)\n",
        "        optimizer.step()\n",
        "\n",
        "        if idx % 100 == 0:\n",
        "            print(loss.item())"
      ]
    },
    {
      "cell_type": "markdown",
      "id": "Q1U6YhaFXlSp",
      "metadata": {
        "id": "Q1U6YhaFXlSp"
      },
      "source": [
        "## Inference\n",
        "\n",
        "At inference time, it's recommended to use the `generate()` method for autoregressive generation, similar to NLP models.\n",
        "\n",
        "Forecasting involves getting data from the test instance sampler, which will sample the very last `context_length` sized window of values from each time series in the dataset, and pass it to the model. Note that we pass `future_time_features`, which are known ahead of time, to the decoder.\n",
        "\n",
        "The model will autoregressively sample a certain number of values from the predicted distribution and pass them back to the decoder to return the prediction outputs:"
      ]
    },
    {
      "cell_type": "code",
      "execution_count": 44,
      "id": "7c7482c1",
      "metadata": {
        "id": "7c7482c1"
      },
      "outputs": [],
      "source": [
        "model.eval()\n",
        "\n",
        "forecasts = []\n",
        "\n",
        "for batch in test_dataloader:\n",
        "    outputs = model.generate(\n",
        "        static_categorical_features=batch[\"static_categorical_features\"].to(device)\n",
        "        if config.num_static_categorical_features > 0\n",
        "        else None,\n",
        "        static_real_features=batch[\"static_real_features\"].to(device)\n",
        "        if config.num_static_real_features > 0\n",
        "        else None,\n",
        "        past_time_features=batch[\"past_time_features\"].to(device),\n",
        "        past_values=batch[\"past_values\"].to(device),\n",
        "        future_time_features=batch[\"future_time_features\"].to(device),\n",
        "        past_observed_mask=batch[\"past_observed_mask\"].to(device),\n",
        "    )\n",
        "    forecasts.append(outputs.sequences.cpu().numpy())"
      ]
    },
    {
      "cell_type": "markdown",
      "id": "kPLiRcOeZR67",
      "metadata": {
        "id": "kPLiRcOeZR67"
      },
      "source": [
        "The model outputs a tensor of shape (`batch_size`, `number of samples`, `prediction length`).\n",
        "\n",
        "In this case, we get `100` possible values for the next `24` months (for each example in the batch which is of size `64`):"
      ]
    },
    {
      "cell_type": "code",
      "execution_count": 45,
      "id": "DwAfSZitZNAQ",
      "metadata": {
        "colab": {
          "base_uri": "https://localhost:8080/"
        },
        "id": "DwAfSZitZNAQ",
        "outputId": "efb6ab32-6750-4fad-f099-134c22dcbfb6"
      },
      "outputs": [
        {
          "output_type": "execute_result",
          "data": {
            "text/plain": [
              "(64, 100, 24)"
            ]
          },
          "metadata": {},
          "execution_count": 45
        }
      ],
      "source": [
        "forecasts[0].shape"
      ]
    },
    {
      "cell_type": "markdown",
      "id": "fCTBw_t91xwH",
      "metadata": {
        "id": "fCTBw_t91xwH"
      },
      "source": [
        "We'll stack them vertically, to get forecasts for all time-series in the test dataset:"
      ]
    },
    {
      "cell_type": "code",
      "execution_count": 46,
      "id": "du1GyJVXlpHp",
      "metadata": {
        "colab": {
          "base_uri": "https://localhost:8080/"
        },
        "id": "du1GyJVXlpHp",
        "outputId": "8d2ee8df-e52e-45c4-cd63-7d0efca545bd"
      },
      "outputs": [
        {
          "output_type": "stream",
          "name": "stdout",
          "text": [
            "(366, 100, 24)\n"
          ]
        }
      ],
      "source": [
        "forecasts = np.vstack(forecasts)\n",
        "print(forecasts.shape)"
      ]
    },
    {
      "cell_type": "markdown",
      "id": "wlvFCdgiA9oy",
      "metadata": {
        "id": "wlvFCdgiA9oy"
      },
      "source": [
        "We can evaluate the resulting forecast with respect to the ground truth out of sample values present in the test set. For that, we'll use the 🤗 [Evaluate](https://huggingface.co/docs/evaluate/index) library, which includes the [MASE](https://huggingface.co/spaces/evaluate-metric/mase) and [sMAPE](https://huggingface.co/spaces/evaluate-metric/smape) metrics.\n",
        "\n",
        "We calculate both metrics for each time series in the dataset:"
      ]
    },
    {
      "cell_type": "code",
      "execution_count": 47,
      "id": "0yb9RnczYE4z",
      "metadata": {
        "id": "0yb9RnczYE4z",
        "outputId": "6ae91873-cbc2-43f1-fd3d-9d22d34e63e4",
        "colab": {
          "base_uri": "https://localhost:8080/",
          "height": 1000,
          "referenced_widgets": [
            "80cc914aa31641b889413cd09c6bb6a1",
            "5c7c52419a064b7581732bf5f697d770",
            "9497a9223a2b4db1bec6c793fbd2e3d0",
            "e2d3fc89c2a14c2492b108d037004c02",
            "4054c4a120dd429fbdaeb26ba7eff124",
            "e8e8e937f3c341ebad69b36360b5ebfa",
            "13d7bbcd64974fc5955583485ea8b43f",
            "2504fcb428004a8ca3db9c268fdba5fe",
            "44c5371f288841c692eedac87e4a4f22",
            "da6a96b9e4424a2684e55c8b4ac5a2f2",
            "0f78d1139e084f8aa94060e2fffde9c3",
            "85a5704c1e0a40e18a6c6b648e8ac99d",
            "d7c4bafc4f1b4c5faa67f223b9f291ca",
            "2e84b012453a4613b56c41c54faaeb3d",
            "2fc67837030344ec85c21ea14b21cbea",
            "84481d648a134a4d879c531c3dda9b51",
            "cb6c28655282476eb29b829748eece50",
            "78368576387c4af19cb8cf39ce3f9fc7",
            "7041b98c3fb349a79489922c3bc92855",
            "c4653cdbc1a046819d23f649fb8fef83",
            "5be7d986362a417c9c1e970d33db91da",
            "86724cdf06234b1bb144aefe022403e8"
          ]
        }
      },
      "outputs": [
        {
          "output_type": "display_data",
          "data": {
            "text/plain": [
              "Downloading builder script:   0%|          | 0.00/5.50k [00:00<?, ?B/s]"
            ],
            "application/vnd.jupyter.widget-view+json": {
              "version_major": 2,
              "version_minor": 0,
              "model_id": "80cc914aa31641b889413cd09c6bb6a1"
            }
          },
          "metadata": {}
        },
        {
          "output_type": "display_data",
          "data": {
            "text/plain": [
              "Downloading builder script:   0%|          | 0.00/6.65k [00:00<?, ?B/s]"
            ],
            "application/vnd.jupyter.widget-view+json": {
              "version_major": 2,
              "version_minor": 0,
              "model_id": "85a5704c1e0a40e18a6c6b648e8ac99d"
            }
          },
          "metadata": {}
        },
        {
          "output_type": "stream",
          "name": "stderr",
          "text": [
            "/usr/local/lib/python3.11/dist-packages/gluonts/time_feature/seasonality.py:47: FutureWarning: 'M' is deprecated and will be removed in a future version, please use 'ME' instead.\n",
            "  offset = pd.tseries.frequencies.to_offset(freq)\n",
            "/usr/local/lib/python3.11/dist-packages/gluonts/time_feature/seasonality.py:47: FutureWarning: 'M' is deprecated and will be removed in a future version, please use 'ME' instead.\n",
            "  offset = pd.tseries.frequencies.to_offset(freq)\n",
            "/usr/local/lib/python3.11/dist-packages/gluonts/time_feature/seasonality.py:47: FutureWarning: 'M' is deprecated and will be removed in a future version, please use 'ME' instead.\n",
            "  offset = pd.tseries.frequencies.to_offset(freq)\n",
            "/usr/local/lib/python3.11/dist-packages/gluonts/time_feature/seasonality.py:47: FutureWarning: 'M' is deprecated and will be removed in a future version, please use 'ME' instead.\n",
            "  offset = pd.tseries.frequencies.to_offset(freq)\n",
            "/usr/local/lib/python3.11/dist-packages/gluonts/time_feature/seasonality.py:47: FutureWarning: 'M' is deprecated and will be removed in a future version, please use 'ME' instead.\n",
            "  offset = pd.tseries.frequencies.to_offset(freq)\n",
            "/usr/local/lib/python3.11/dist-packages/gluonts/time_feature/seasonality.py:47: FutureWarning: 'M' is deprecated and will be removed in a future version, please use 'ME' instead.\n",
            "  offset = pd.tseries.frequencies.to_offset(freq)\n",
            "/usr/local/lib/python3.11/dist-packages/gluonts/time_feature/seasonality.py:47: FutureWarning: 'M' is deprecated and will be removed in a future version, please use 'ME' instead.\n",
            "  offset = pd.tseries.frequencies.to_offset(freq)\n",
            "/usr/local/lib/python3.11/dist-packages/gluonts/time_feature/seasonality.py:47: FutureWarning: 'M' is deprecated and will be removed in a future version, please use 'ME' instead.\n",
            "  offset = pd.tseries.frequencies.to_offset(freq)\n",
            "/usr/local/lib/python3.11/dist-packages/gluonts/time_feature/seasonality.py:47: FutureWarning: 'M' is deprecated and will be removed in a future version, please use 'ME' instead.\n",
            "  offset = pd.tseries.frequencies.to_offset(freq)\n",
            "/usr/local/lib/python3.11/dist-packages/gluonts/time_feature/seasonality.py:47: FutureWarning: 'M' is deprecated and will be removed in a future version, please use 'ME' instead.\n",
            "  offset = pd.tseries.frequencies.to_offset(freq)\n",
            "/usr/local/lib/python3.11/dist-packages/gluonts/time_feature/seasonality.py:47: FutureWarning: 'M' is deprecated and will be removed in a future version, please use 'ME' instead.\n",
            "  offset = pd.tseries.frequencies.to_offset(freq)\n",
            "/usr/local/lib/python3.11/dist-packages/gluonts/time_feature/seasonality.py:47: FutureWarning: 'M' is deprecated and will be removed in a future version, please use 'ME' instead.\n",
            "  offset = pd.tseries.frequencies.to_offset(freq)\n",
            "/usr/local/lib/python3.11/dist-packages/gluonts/time_feature/seasonality.py:47: FutureWarning: 'M' is deprecated and will be removed in a future version, please use 'ME' instead.\n",
            "  offset = pd.tseries.frequencies.to_offset(freq)\n",
            "/usr/local/lib/python3.11/dist-packages/gluonts/time_feature/seasonality.py:47: FutureWarning: 'M' is deprecated and will be removed in a future version, please use 'ME' instead.\n",
            "  offset = pd.tseries.frequencies.to_offset(freq)\n",
            "/usr/local/lib/python3.11/dist-packages/gluonts/time_feature/seasonality.py:47: FutureWarning: 'M' is deprecated and will be removed in a future version, please use 'ME' instead.\n",
            "  offset = pd.tseries.frequencies.to_offset(freq)\n",
            "/usr/local/lib/python3.11/dist-packages/gluonts/time_feature/seasonality.py:47: FutureWarning: 'M' is deprecated and will be removed in a future version, please use 'ME' instead.\n",
            "  offset = pd.tseries.frequencies.to_offset(freq)\n",
            "/usr/local/lib/python3.11/dist-packages/gluonts/time_feature/seasonality.py:47: FutureWarning: 'M' is deprecated and will be removed in a future version, please use 'ME' instead.\n",
            "  offset = pd.tseries.frequencies.to_offset(freq)\n",
            "/usr/local/lib/python3.11/dist-packages/gluonts/time_feature/seasonality.py:47: FutureWarning: 'M' is deprecated and will be removed in a future version, please use 'ME' instead.\n",
            "  offset = pd.tseries.frequencies.to_offset(freq)\n",
            "/usr/local/lib/python3.11/dist-packages/gluonts/time_feature/seasonality.py:47: FutureWarning: 'M' is deprecated and will be removed in a future version, please use 'ME' instead.\n",
            "  offset = pd.tseries.frequencies.to_offset(freq)\n",
            "/usr/local/lib/python3.11/dist-packages/gluonts/time_feature/seasonality.py:47: FutureWarning: 'M' is deprecated and will be removed in a future version, please use 'ME' instead.\n",
            "  offset = pd.tseries.frequencies.to_offset(freq)\n",
            "/usr/local/lib/python3.11/dist-packages/gluonts/time_feature/seasonality.py:47: FutureWarning: 'M' is deprecated and will be removed in a future version, please use 'ME' instead.\n",
            "  offset = pd.tseries.frequencies.to_offset(freq)\n",
            "/usr/local/lib/python3.11/dist-packages/gluonts/time_feature/seasonality.py:47: FutureWarning: 'M' is deprecated and will be removed in a future version, please use 'ME' instead.\n",
            "  offset = pd.tseries.frequencies.to_offset(freq)\n",
            "/usr/local/lib/python3.11/dist-packages/gluonts/time_feature/seasonality.py:47: FutureWarning: 'M' is deprecated and will be removed in a future version, please use 'ME' instead.\n",
            "  offset = pd.tseries.frequencies.to_offset(freq)\n",
            "/usr/local/lib/python3.11/dist-packages/gluonts/time_feature/seasonality.py:47: FutureWarning: 'M' is deprecated and will be removed in a future version, please use 'ME' instead.\n",
            "  offset = pd.tseries.frequencies.to_offset(freq)\n",
            "/usr/local/lib/python3.11/dist-packages/gluonts/time_feature/seasonality.py:47: FutureWarning: 'M' is deprecated and will be removed in a future version, please use 'ME' instead.\n",
            "  offset = pd.tseries.frequencies.to_offset(freq)\n",
            "/usr/local/lib/python3.11/dist-packages/gluonts/time_feature/seasonality.py:47: FutureWarning: 'M' is deprecated and will be removed in a future version, please use 'ME' instead.\n",
            "  offset = pd.tseries.frequencies.to_offset(freq)\n",
            "/usr/local/lib/python3.11/dist-packages/gluonts/time_feature/seasonality.py:47: FutureWarning: 'M' is deprecated and will be removed in a future version, please use 'ME' instead.\n",
            "  offset = pd.tseries.frequencies.to_offset(freq)\n",
            "/usr/local/lib/python3.11/dist-packages/gluonts/time_feature/seasonality.py:47: FutureWarning: 'M' is deprecated and will be removed in a future version, please use 'ME' instead.\n",
            "  offset = pd.tseries.frequencies.to_offset(freq)\n",
            "/usr/local/lib/python3.11/dist-packages/gluonts/time_feature/seasonality.py:47: FutureWarning: 'M' is deprecated and will be removed in a future version, please use 'ME' instead.\n",
            "  offset = pd.tseries.frequencies.to_offset(freq)\n",
            "/usr/local/lib/python3.11/dist-packages/gluonts/time_feature/seasonality.py:47: FutureWarning: 'M' is deprecated and will be removed in a future version, please use 'ME' instead.\n",
            "  offset = pd.tseries.frequencies.to_offset(freq)\n",
            "/usr/local/lib/python3.11/dist-packages/gluonts/time_feature/seasonality.py:47: FutureWarning: 'M' is deprecated and will be removed in a future version, please use 'ME' instead.\n",
            "  offset = pd.tseries.frequencies.to_offset(freq)\n",
            "/usr/local/lib/python3.11/dist-packages/gluonts/time_feature/seasonality.py:47: FutureWarning: 'M' is deprecated and will be removed in a future version, please use 'ME' instead.\n",
            "  offset = pd.tseries.frequencies.to_offset(freq)\n",
            "/usr/local/lib/python3.11/dist-packages/gluonts/time_feature/seasonality.py:47: FutureWarning: 'M' is deprecated and will be removed in a future version, please use 'ME' instead.\n",
            "  offset = pd.tseries.frequencies.to_offset(freq)\n",
            "/usr/local/lib/python3.11/dist-packages/gluonts/time_feature/seasonality.py:47: FutureWarning: 'M' is deprecated and will be removed in a future version, please use 'ME' instead.\n",
            "  offset = pd.tseries.frequencies.to_offset(freq)\n",
            "/usr/local/lib/python3.11/dist-packages/gluonts/time_feature/seasonality.py:47: FutureWarning: 'M' is deprecated and will be removed in a future version, please use 'ME' instead.\n",
            "  offset = pd.tseries.frequencies.to_offset(freq)\n",
            "/usr/local/lib/python3.11/dist-packages/gluonts/time_feature/seasonality.py:47: FutureWarning: 'M' is deprecated and will be removed in a future version, please use 'ME' instead.\n",
            "  offset = pd.tseries.frequencies.to_offset(freq)\n",
            "/usr/local/lib/python3.11/dist-packages/gluonts/time_feature/seasonality.py:47: FutureWarning: 'M' is deprecated and will be removed in a future version, please use 'ME' instead.\n",
            "  offset = pd.tseries.frequencies.to_offset(freq)\n",
            "/usr/local/lib/python3.11/dist-packages/gluonts/time_feature/seasonality.py:47: FutureWarning: 'M' is deprecated and will be removed in a future version, please use 'ME' instead.\n",
            "  offset = pd.tseries.frequencies.to_offset(freq)\n",
            "/usr/local/lib/python3.11/dist-packages/gluonts/time_feature/seasonality.py:47: FutureWarning: 'M' is deprecated and will be removed in a future version, please use 'ME' instead.\n",
            "  offset = pd.tseries.frequencies.to_offset(freq)\n",
            "/usr/local/lib/python3.11/dist-packages/gluonts/time_feature/seasonality.py:47: FutureWarning: 'M' is deprecated and will be removed in a future version, please use 'ME' instead.\n",
            "  offset = pd.tseries.frequencies.to_offset(freq)\n",
            "/usr/local/lib/python3.11/dist-packages/gluonts/time_feature/seasonality.py:47: FutureWarning: 'M' is deprecated and will be removed in a future version, please use 'ME' instead.\n",
            "  offset = pd.tseries.frequencies.to_offset(freq)\n",
            "/usr/local/lib/python3.11/dist-packages/gluonts/time_feature/seasonality.py:47: FutureWarning: 'M' is deprecated and will be removed in a future version, please use 'ME' instead.\n",
            "  offset = pd.tseries.frequencies.to_offset(freq)\n",
            "/usr/local/lib/python3.11/dist-packages/gluonts/time_feature/seasonality.py:47: FutureWarning: 'M' is deprecated and will be removed in a future version, please use 'ME' instead.\n",
            "  offset = pd.tseries.frequencies.to_offset(freq)\n",
            "/usr/local/lib/python3.11/dist-packages/gluonts/time_feature/seasonality.py:47: FutureWarning: 'M' is deprecated and will be removed in a future version, please use 'ME' instead.\n",
            "  offset = pd.tseries.frequencies.to_offset(freq)\n",
            "/usr/local/lib/python3.11/dist-packages/gluonts/time_feature/seasonality.py:47: FutureWarning: 'M' is deprecated and will be removed in a future version, please use 'ME' instead.\n",
            "  offset = pd.tseries.frequencies.to_offset(freq)\n",
            "/usr/local/lib/python3.11/dist-packages/gluonts/time_feature/seasonality.py:47: FutureWarning: 'M' is deprecated and will be removed in a future version, please use 'ME' instead.\n",
            "  offset = pd.tseries.frequencies.to_offset(freq)\n",
            "/usr/local/lib/python3.11/dist-packages/gluonts/time_feature/seasonality.py:47: FutureWarning: 'M' is deprecated and will be removed in a future version, please use 'ME' instead.\n",
            "  offset = pd.tseries.frequencies.to_offset(freq)\n",
            "/usr/local/lib/python3.11/dist-packages/gluonts/time_feature/seasonality.py:47: FutureWarning: 'M' is deprecated and will be removed in a future version, please use 'ME' instead.\n",
            "  offset = pd.tseries.frequencies.to_offset(freq)\n",
            "/usr/local/lib/python3.11/dist-packages/gluonts/time_feature/seasonality.py:47: FutureWarning: 'M' is deprecated and will be removed in a future version, please use 'ME' instead.\n",
            "  offset = pd.tseries.frequencies.to_offset(freq)\n",
            "/usr/local/lib/python3.11/dist-packages/gluonts/time_feature/seasonality.py:47: FutureWarning: 'M' is deprecated and will be removed in a future version, please use 'ME' instead.\n",
            "  offset = pd.tseries.frequencies.to_offset(freq)\n",
            "/usr/local/lib/python3.11/dist-packages/gluonts/time_feature/seasonality.py:47: FutureWarning: 'M' is deprecated and will be removed in a future version, please use 'ME' instead.\n",
            "  offset = pd.tseries.frequencies.to_offset(freq)\n",
            "/usr/local/lib/python3.11/dist-packages/gluonts/time_feature/seasonality.py:47: FutureWarning: 'M' is deprecated and will be removed in a future version, please use 'ME' instead.\n",
            "  offset = pd.tseries.frequencies.to_offset(freq)\n",
            "/usr/local/lib/python3.11/dist-packages/gluonts/time_feature/seasonality.py:47: FutureWarning: 'M' is deprecated and will be removed in a future version, please use 'ME' instead.\n",
            "  offset = pd.tseries.frequencies.to_offset(freq)\n",
            "/usr/local/lib/python3.11/dist-packages/gluonts/time_feature/seasonality.py:47: FutureWarning: 'M' is deprecated and will be removed in a future version, please use 'ME' instead.\n",
            "  offset = pd.tseries.frequencies.to_offset(freq)\n",
            "/usr/local/lib/python3.11/dist-packages/gluonts/time_feature/seasonality.py:47: FutureWarning: 'M' is deprecated and will be removed in a future version, please use 'ME' instead.\n",
            "  offset = pd.tseries.frequencies.to_offset(freq)\n",
            "/usr/local/lib/python3.11/dist-packages/gluonts/time_feature/seasonality.py:47: FutureWarning: 'M' is deprecated and will be removed in a future version, please use 'ME' instead.\n",
            "  offset = pd.tseries.frequencies.to_offset(freq)\n",
            "/usr/local/lib/python3.11/dist-packages/gluonts/time_feature/seasonality.py:47: FutureWarning: 'M' is deprecated and will be removed in a future version, please use 'ME' instead.\n",
            "  offset = pd.tseries.frequencies.to_offset(freq)\n",
            "/usr/local/lib/python3.11/dist-packages/gluonts/time_feature/seasonality.py:47: FutureWarning: 'M' is deprecated and will be removed in a future version, please use 'ME' instead.\n",
            "  offset = pd.tseries.frequencies.to_offset(freq)\n",
            "/usr/local/lib/python3.11/dist-packages/gluonts/time_feature/seasonality.py:47: FutureWarning: 'M' is deprecated and will be removed in a future version, please use 'ME' instead.\n",
            "  offset = pd.tseries.frequencies.to_offset(freq)\n",
            "/usr/local/lib/python3.11/dist-packages/gluonts/time_feature/seasonality.py:47: FutureWarning: 'M' is deprecated and will be removed in a future version, please use 'ME' instead.\n",
            "  offset = pd.tseries.frequencies.to_offset(freq)\n",
            "/usr/local/lib/python3.11/dist-packages/gluonts/time_feature/seasonality.py:47: FutureWarning: 'M' is deprecated and will be removed in a future version, please use 'ME' instead.\n",
            "  offset = pd.tseries.frequencies.to_offset(freq)\n",
            "/usr/local/lib/python3.11/dist-packages/gluonts/time_feature/seasonality.py:47: FutureWarning: 'M' is deprecated and will be removed in a future version, please use 'ME' instead.\n",
            "  offset = pd.tseries.frequencies.to_offset(freq)\n",
            "/usr/local/lib/python3.11/dist-packages/gluonts/time_feature/seasonality.py:47: FutureWarning: 'M' is deprecated and will be removed in a future version, please use 'ME' instead.\n",
            "  offset = pd.tseries.frequencies.to_offset(freq)\n",
            "/usr/local/lib/python3.11/dist-packages/gluonts/time_feature/seasonality.py:47: FutureWarning: 'M' is deprecated and will be removed in a future version, please use 'ME' instead.\n",
            "  offset = pd.tseries.frequencies.to_offset(freq)\n",
            "/usr/local/lib/python3.11/dist-packages/gluonts/time_feature/seasonality.py:47: FutureWarning: 'M' is deprecated and will be removed in a future version, please use 'ME' instead.\n",
            "  offset = pd.tseries.frequencies.to_offset(freq)\n",
            "/usr/local/lib/python3.11/dist-packages/gluonts/time_feature/seasonality.py:47: FutureWarning: 'M' is deprecated and will be removed in a future version, please use 'ME' instead.\n",
            "  offset = pd.tseries.frequencies.to_offset(freq)\n",
            "/usr/local/lib/python3.11/dist-packages/gluonts/time_feature/seasonality.py:47: FutureWarning: 'M' is deprecated and will be removed in a future version, please use 'ME' instead.\n",
            "  offset = pd.tseries.frequencies.to_offset(freq)\n",
            "/usr/local/lib/python3.11/dist-packages/gluonts/time_feature/seasonality.py:47: FutureWarning: 'M' is deprecated and will be removed in a future version, please use 'ME' instead.\n",
            "  offset = pd.tseries.frequencies.to_offset(freq)\n",
            "/usr/local/lib/python3.11/dist-packages/gluonts/time_feature/seasonality.py:47: FutureWarning: 'M' is deprecated and will be removed in a future version, please use 'ME' instead.\n",
            "  offset = pd.tseries.frequencies.to_offset(freq)\n",
            "/usr/local/lib/python3.11/dist-packages/gluonts/time_feature/seasonality.py:47: FutureWarning: 'M' is deprecated and will be removed in a future version, please use 'ME' instead.\n",
            "  offset = pd.tseries.frequencies.to_offset(freq)\n",
            "/usr/local/lib/python3.11/dist-packages/gluonts/time_feature/seasonality.py:47: FutureWarning: 'M' is deprecated and will be removed in a future version, please use 'ME' instead.\n",
            "  offset = pd.tseries.frequencies.to_offset(freq)\n",
            "/usr/local/lib/python3.11/dist-packages/gluonts/time_feature/seasonality.py:47: FutureWarning: 'M' is deprecated and will be removed in a future version, please use 'ME' instead.\n",
            "  offset = pd.tseries.frequencies.to_offset(freq)\n",
            "/usr/local/lib/python3.11/dist-packages/gluonts/time_feature/seasonality.py:47: FutureWarning: 'M' is deprecated and will be removed in a future version, please use 'ME' instead.\n",
            "  offset = pd.tseries.frequencies.to_offset(freq)\n",
            "/usr/local/lib/python3.11/dist-packages/gluonts/time_feature/seasonality.py:47: FutureWarning: 'M' is deprecated and will be removed in a future version, please use 'ME' instead.\n",
            "  offset = pd.tseries.frequencies.to_offset(freq)\n",
            "/usr/local/lib/python3.11/dist-packages/gluonts/time_feature/seasonality.py:47: FutureWarning: 'M' is deprecated and will be removed in a future version, please use 'ME' instead.\n",
            "  offset = pd.tseries.frequencies.to_offset(freq)\n",
            "/usr/local/lib/python3.11/dist-packages/gluonts/time_feature/seasonality.py:47: FutureWarning: 'M' is deprecated and will be removed in a future version, please use 'ME' instead.\n",
            "  offset = pd.tseries.frequencies.to_offset(freq)\n",
            "/usr/local/lib/python3.11/dist-packages/gluonts/time_feature/seasonality.py:47: FutureWarning: 'M' is deprecated and will be removed in a future version, please use 'ME' instead.\n",
            "  offset = pd.tseries.frequencies.to_offset(freq)\n",
            "/usr/local/lib/python3.11/dist-packages/gluonts/time_feature/seasonality.py:47: FutureWarning: 'M' is deprecated and will be removed in a future version, please use 'ME' instead.\n",
            "  offset = pd.tseries.frequencies.to_offset(freq)\n",
            "/usr/local/lib/python3.11/dist-packages/gluonts/time_feature/seasonality.py:47: FutureWarning: 'M' is deprecated and will be removed in a future version, please use 'ME' instead.\n",
            "  offset = pd.tseries.frequencies.to_offset(freq)\n",
            "/usr/local/lib/python3.11/dist-packages/gluonts/time_feature/seasonality.py:47: FutureWarning: 'M' is deprecated and will be removed in a future version, please use 'ME' instead.\n",
            "  offset = pd.tseries.frequencies.to_offset(freq)\n",
            "/usr/local/lib/python3.11/dist-packages/gluonts/time_feature/seasonality.py:47: FutureWarning: 'M' is deprecated and will be removed in a future version, please use 'ME' instead.\n",
            "  offset = pd.tseries.frequencies.to_offset(freq)\n",
            "/usr/local/lib/python3.11/dist-packages/gluonts/time_feature/seasonality.py:47: FutureWarning: 'M' is deprecated and will be removed in a future version, please use 'ME' instead.\n",
            "  offset = pd.tseries.frequencies.to_offset(freq)\n",
            "/usr/local/lib/python3.11/dist-packages/gluonts/time_feature/seasonality.py:47: FutureWarning: 'M' is deprecated and will be removed in a future version, please use 'ME' instead.\n",
            "  offset = pd.tseries.frequencies.to_offset(freq)\n",
            "/usr/local/lib/python3.11/dist-packages/gluonts/time_feature/seasonality.py:47: FutureWarning: 'M' is deprecated and will be removed in a future version, please use 'ME' instead.\n",
            "  offset = pd.tseries.frequencies.to_offset(freq)\n",
            "/usr/local/lib/python3.11/dist-packages/gluonts/time_feature/seasonality.py:47: FutureWarning: 'M' is deprecated and will be removed in a future version, please use 'ME' instead.\n",
            "  offset = pd.tseries.frequencies.to_offset(freq)\n",
            "/usr/local/lib/python3.11/dist-packages/gluonts/time_feature/seasonality.py:47: FutureWarning: 'M' is deprecated and will be removed in a future version, please use 'ME' instead.\n",
            "  offset = pd.tseries.frequencies.to_offset(freq)\n",
            "/usr/local/lib/python3.11/dist-packages/gluonts/time_feature/seasonality.py:47: FutureWarning: 'M' is deprecated and will be removed in a future version, please use 'ME' instead.\n",
            "  offset = pd.tseries.frequencies.to_offset(freq)\n",
            "/usr/local/lib/python3.11/dist-packages/gluonts/time_feature/seasonality.py:47: FutureWarning: 'M' is deprecated and will be removed in a future version, please use 'ME' instead.\n",
            "  offset = pd.tseries.frequencies.to_offset(freq)\n",
            "/usr/local/lib/python3.11/dist-packages/gluonts/time_feature/seasonality.py:47: FutureWarning: 'M' is deprecated and will be removed in a future version, please use 'ME' instead.\n",
            "  offset = pd.tseries.frequencies.to_offset(freq)\n",
            "/usr/local/lib/python3.11/dist-packages/gluonts/time_feature/seasonality.py:47: FutureWarning: 'M' is deprecated and will be removed in a future version, please use 'ME' instead.\n",
            "  offset = pd.tseries.frequencies.to_offset(freq)\n",
            "/usr/local/lib/python3.11/dist-packages/gluonts/time_feature/seasonality.py:47: FutureWarning: 'M' is deprecated and will be removed in a future version, please use 'ME' instead.\n",
            "  offset = pd.tseries.frequencies.to_offset(freq)\n",
            "/usr/local/lib/python3.11/dist-packages/gluonts/time_feature/seasonality.py:47: FutureWarning: 'M' is deprecated and will be removed in a future version, please use 'ME' instead.\n",
            "  offset = pd.tseries.frequencies.to_offset(freq)\n",
            "/usr/local/lib/python3.11/dist-packages/gluonts/time_feature/seasonality.py:47: FutureWarning: 'M' is deprecated and will be removed in a future version, please use 'ME' instead.\n",
            "  offset = pd.tseries.frequencies.to_offset(freq)\n",
            "/usr/local/lib/python3.11/dist-packages/gluonts/time_feature/seasonality.py:47: FutureWarning: 'M' is deprecated and will be removed in a future version, please use 'ME' instead.\n",
            "  offset = pd.tseries.frequencies.to_offset(freq)\n",
            "/usr/local/lib/python3.11/dist-packages/gluonts/time_feature/seasonality.py:47: FutureWarning: 'M' is deprecated and will be removed in a future version, please use 'ME' instead.\n",
            "  offset = pd.tseries.frequencies.to_offset(freq)\n",
            "/usr/local/lib/python3.11/dist-packages/gluonts/time_feature/seasonality.py:47: FutureWarning: 'M' is deprecated and will be removed in a future version, please use 'ME' instead.\n",
            "  offset = pd.tseries.frequencies.to_offset(freq)\n",
            "/usr/local/lib/python3.11/dist-packages/gluonts/time_feature/seasonality.py:47: FutureWarning: 'M' is deprecated and will be removed in a future version, please use 'ME' instead.\n",
            "  offset = pd.tseries.frequencies.to_offset(freq)\n",
            "/usr/local/lib/python3.11/dist-packages/gluonts/time_feature/seasonality.py:47: FutureWarning: 'M' is deprecated and will be removed in a future version, please use 'ME' instead.\n",
            "  offset = pd.tseries.frequencies.to_offset(freq)\n",
            "/usr/local/lib/python3.11/dist-packages/gluonts/time_feature/seasonality.py:47: FutureWarning: 'M' is deprecated and will be removed in a future version, please use 'ME' instead.\n",
            "  offset = pd.tseries.frequencies.to_offset(freq)\n",
            "/usr/local/lib/python3.11/dist-packages/gluonts/time_feature/seasonality.py:47: FutureWarning: 'M' is deprecated and will be removed in a future version, please use 'ME' instead.\n",
            "  offset = pd.tseries.frequencies.to_offset(freq)\n",
            "/usr/local/lib/python3.11/dist-packages/gluonts/time_feature/seasonality.py:47: FutureWarning: 'M' is deprecated and will be removed in a future version, please use 'ME' instead.\n",
            "  offset = pd.tseries.frequencies.to_offset(freq)\n",
            "/usr/local/lib/python3.11/dist-packages/gluonts/time_feature/seasonality.py:47: FutureWarning: 'M' is deprecated and will be removed in a future version, please use 'ME' instead.\n",
            "  offset = pd.tseries.frequencies.to_offset(freq)\n",
            "/usr/local/lib/python3.11/dist-packages/gluonts/time_feature/seasonality.py:47: FutureWarning: 'M' is deprecated and will be removed in a future version, please use 'ME' instead.\n",
            "  offset = pd.tseries.frequencies.to_offset(freq)\n",
            "/usr/local/lib/python3.11/dist-packages/gluonts/time_feature/seasonality.py:47: FutureWarning: 'M' is deprecated and will be removed in a future version, please use 'ME' instead.\n",
            "  offset = pd.tseries.frequencies.to_offset(freq)\n",
            "/usr/local/lib/python3.11/dist-packages/gluonts/time_feature/seasonality.py:47: FutureWarning: 'M' is deprecated and will be removed in a future version, please use 'ME' instead.\n",
            "  offset = pd.tseries.frequencies.to_offset(freq)\n",
            "/usr/local/lib/python3.11/dist-packages/gluonts/time_feature/seasonality.py:47: FutureWarning: 'M' is deprecated and will be removed in a future version, please use 'ME' instead.\n",
            "  offset = pd.tseries.frequencies.to_offset(freq)\n",
            "/usr/local/lib/python3.11/dist-packages/gluonts/time_feature/seasonality.py:47: FutureWarning: 'M' is deprecated and will be removed in a future version, please use 'ME' instead.\n",
            "  offset = pd.tseries.frequencies.to_offset(freq)\n",
            "/usr/local/lib/python3.11/dist-packages/gluonts/time_feature/seasonality.py:47: FutureWarning: 'M' is deprecated and will be removed in a future version, please use 'ME' instead.\n",
            "  offset = pd.tseries.frequencies.to_offset(freq)\n",
            "/usr/local/lib/python3.11/dist-packages/gluonts/time_feature/seasonality.py:47: FutureWarning: 'M' is deprecated and will be removed in a future version, please use 'ME' instead.\n",
            "  offset = pd.tseries.frequencies.to_offset(freq)\n",
            "/usr/local/lib/python3.11/dist-packages/gluonts/time_feature/seasonality.py:47: FutureWarning: 'M' is deprecated and will be removed in a future version, please use 'ME' instead.\n",
            "  offset = pd.tseries.frequencies.to_offset(freq)\n",
            "/usr/local/lib/python3.11/dist-packages/gluonts/time_feature/seasonality.py:47: FutureWarning: 'M' is deprecated and will be removed in a future version, please use 'ME' instead.\n",
            "  offset = pd.tseries.frequencies.to_offset(freq)\n",
            "/usr/local/lib/python3.11/dist-packages/gluonts/time_feature/seasonality.py:47: FutureWarning: 'M' is deprecated and will be removed in a future version, please use 'ME' instead.\n",
            "  offset = pd.tseries.frequencies.to_offset(freq)\n",
            "/usr/local/lib/python3.11/dist-packages/gluonts/time_feature/seasonality.py:47: FutureWarning: 'M' is deprecated and will be removed in a future version, please use 'ME' instead.\n",
            "  offset = pd.tseries.frequencies.to_offset(freq)\n",
            "/usr/local/lib/python3.11/dist-packages/gluonts/time_feature/seasonality.py:47: FutureWarning: 'M' is deprecated and will be removed in a future version, please use 'ME' instead.\n",
            "  offset = pd.tseries.frequencies.to_offset(freq)\n",
            "/usr/local/lib/python3.11/dist-packages/gluonts/time_feature/seasonality.py:47: FutureWarning: 'M' is deprecated and will be removed in a future version, please use 'ME' instead.\n",
            "  offset = pd.tseries.frequencies.to_offset(freq)\n",
            "/usr/local/lib/python3.11/dist-packages/gluonts/time_feature/seasonality.py:47: FutureWarning: 'M' is deprecated and will be removed in a future version, please use 'ME' instead.\n",
            "  offset = pd.tseries.frequencies.to_offset(freq)\n",
            "/usr/local/lib/python3.11/dist-packages/gluonts/time_feature/seasonality.py:47: FutureWarning: 'M' is deprecated and will be removed in a future version, please use 'ME' instead.\n",
            "  offset = pd.tseries.frequencies.to_offset(freq)\n",
            "/usr/local/lib/python3.11/dist-packages/gluonts/time_feature/seasonality.py:47: FutureWarning: 'M' is deprecated and will be removed in a future version, please use 'ME' instead.\n",
            "  offset = pd.tseries.frequencies.to_offset(freq)\n",
            "/usr/local/lib/python3.11/dist-packages/gluonts/time_feature/seasonality.py:47: FutureWarning: 'M' is deprecated and will be removed in a future version, please use 'ME' instead.\n",
            "  offset = pd.tseries.frequencies.to_offset(freq)\n",
            "/usr/local/lib/python3.11/dist-packages/gluonts/time_feature/seasonality.py:47: FutureWarning: 'M' is deprecated and will be removed in a future version, please use 'ME' instead.\n",
            "  offset = pd.tseries.frequencies.to_offset(freq)\n",
            "/usr/local/lib/python3.11/dist-packages/gluonts/time_feature/seasonality.py:47: FutureWarning: 'M' is deprecated and will be removed in a future version, please use 'ME' instead.\n",
            "  offset = pd.tseries.frequencies.to_offset(freq)\n",
            "/usr/local/lib/python3.11/dist-packages/gluonts/time_feature/seasonality.py:47: FutureWarning: 'M' is deprecated and will be removed in a future version, please use 'ME' instead.\n",
            "  offset = pd.tseries.frequencies.to_offset(freq)\n",
            "/usr/local/lib/python3.11/dist-packages/gluonts/time_feature/seasonality.py:47: FutureWarning: 'M' is deprecated and will be removed in a future version, please use 'ME' instead.\n",
            "  offset = pd.tseries.frequencies.to_offset(freq)\n",
            "/usr/local/lib/python3.11/dist-packages/gluonts/time_feature/seasonality.py:47: FutureWarning: 'M' is deprecated and will be removed in a future version, please use 'ME' instead.\n",
            "  offset = pd.tseries.frequencies.to_offset(freq)\n",
            "/usr/local/lib/python3.11/dist-packages/gluonts/time_feature/seasonality.py:47: FutureWarning: 'M' is deprecated and will be removed in a future version, please use 'ME' instead.\n",
            "  offset = pd.tseries.frequencies.to_offset(freq)\n",
            "/usr/local/lib/python3.11/dist-packages/gluonts/time_feature/seasonality.py:47: FutureWarning: 'M' is deprecated and will be removed in a future version, please use 'ME' instead.\n",
            "  offset = pd.tseries.frequencies.to_offset(freq)\n",
            "/usr/local/lib/python3.11/dist-packages/gluonts/time_feature/seasonality.py:47: FutureWarning: 'M' is deprecated and will be removed in a future version, please use 'ME' instead.\n",
            "  offset = pd.tseries.frequencies.to_offset(freq)\n",
            "/usr/local/lib/python3.11/dist-packages/gluonts/time_feature/seasonality.py:47: FutureWarning: 'M' is deprecated and will be removed in a future version, please use 'ME' instead.\n",
            "  offset = pd.tseries.frequencies.to_offset(freq)\n",
            "/usr/local/lib/python3.11/dist-packages/gluonts/time_feature/seasonality.py:47: FutureWarning: 'M' is deprecated and will be removed in a future version, please use 'ME' instead.\n",
            "  offset = pd.tseries.frequencies.to_offset(freq)\n",
            "/usr/local/lib/python3.11/dist-packages/gluonts/time_feature/seasonality.py:47: FutureWarning: 'M' is deprecated and will be removed in a future version, please use 'ME' instead.\n",
            "  offset = pd.tseries.frequencies.to_offset(freq)\n",
            "/usr/local/lib/python3.11/dist-packages/gluonts/time_feature/seasonality.py:47: FutureWarning: 'M' is deprecated and will be removed in a future version, please use 'ME' instead.\n",
            "  offset = pd.tseries.frequencies.to_offset(freq)\n",
            "/usr/local/lib/python3.11/dist-packages/gluonts/time_feature/seasonality.py:47: FutureWarning: 'M' is deprecated and will be removed in a future version, please use 'ME' instead.\n",
            "  offset = pd.tseries.frequencies.to_offset(freq)\n",
            "/usr/local/lib/python3.11/dist-packages/gluonts/time_feature/seasonality.py:47: FutureWarning: 'M' is deprecated and will be removed in a future version, please use 'ME' instead.\n",
            "  offset = pd.tseries.frequencies.to_offset(freq)\n",
            "/usr/local/lib/python3.11/dist-packages/gluonts/time_feature/seasonality.py:47: FutureWarning: 'M' is deprecated and will be removed in a future version, please use 'ME' instead.\n",
            "  offset = pd.tseries.frequencies.to_offset(freq)\n",
            "/usr/local/lib/python3.11/dist-packages/gluonts/time_feature/seasonality.py:47: FutureWarning: 'M' is deprecated and will be removed in a future version, please use 'ME' instead.\n",
            "  offset = pd.tseries.frequencies.to_offset(freq)\n",
            "/usr/local/lib/python3.11/dist-packages/gluonts/time_feature/seasonality.py:47: FutureWarning: 'M' is deprecated and will be removed in a future version, please use 'ME' instead.\n",
            "  offset = pd.tseries.frequencies.to_offset(freq)\n",
            "/usr/local/lib/python3.11/dist-packages/gluonts/time_feature/seasonality.py:47: FutureWarning: 'M' is deprecated and will be removed in a future version, please use 'ME' instead.\n",
            "  offset = pd.tseries.frequencies.to_offset(freq)\n",
            "/usr/local/lib/python3.11/dist-packages/gluonts/time_feature/seasonality.py:47: FutureWarning: 'M' is deprecated and will be removed in a future version, please use 'ME' instead.\n",
            "  offset = pd.tseries.frequencies.to_offset(freq)\n",
            "/usr/local/lib/python3.11/dist-packages/gluonts/time_feature/seasonality.py:47: FutureWarning: 'M' is deprecated and will be removed in a future version, please use 'ME' instead.\n",
            "  offset = pd.tseries.frequencies.to_offset(freq)\n",
            "/usr/local/lib/python3.11/dist-packages/gluonts/time_feature/seasonality.py:47: FutureWarning: 'M' is deprecated and will be removed in a future version, please use 'ME' instead.\n",
            "  offset = pd.tseries.frequencies.to_offset(freq)\n",
            "/usr/local/lib/python3.11/dist-packages/gluonts/time_feature/seasonality.py:47: FutureWarning: 'M' is deprecated and will be removed in a future version, please use 'ME' instead.\n",
            "  offset = pd.tseries.frequencies.to_offset(freq)\n",
            "/usr/local/lib/python3.11/dist-packages/gluonts/time_feature/seasonality.py:47: FutureWarning: 'M' is deprecated and will be removed in a future version, please use 'ME' instead.\n",
            "  offset = pd.tseries.frequencies.to_offset(freq)\n",
            "/usr/local/lib/python3.11/dist-packages/gluonts/time_feature/seasonality.py:47: FutureWarning: 'M' is deprecated and will be removed in a future version, please use 'ME' instead.\n",
            "  offset = pd.tseries.frequencies.to_offset(freq)\n",
            "/usr/local/lib/python3.11/dist-packages/gluonts/time_feature/seasonality.py:47: FutureWarning: 'M' is deprecated and will be removed in a future version, please use 'ME' instead.\n",
            "  offset = pd.tseries.frequencies.to_offset(freq)\n",
            "/usr/local/lib/python3.11/dist-packages/gluonts/time_feature/seasonality.py:47: FutureWarning: 'M' is deprecated and will be removed in a future version, please use 'ME' instead.\n",
            "  offset = pd.tseries.frequencies.to_offset(freq)\n",
            "/usr/local/lib/python3.11/dist-packages/gluonts/time_feature/seasonality.py:47: FutureWarning: 'M' is deprecated and will be removed in a future version, please use 'ME' instead.\n",
            "  offset = pd.tseries.frequencies.to_offset(freq)\n",
            "/usr/local/lib/python3.11/dist-packages/gluonts/time_feature/seasonality.py:47: FutureWarning: 'M' is deprecated and will be removed in a future version, please use 'ME' instead.\n",
            "  offset = pd.tseries.frequencies.to_offset(freq)\n",
            "/usr/local/lib/python3.11/dist-packages/gluonts/time_feature/seasonality.py:47: FutureWarning: 'M' is deprecated and will be removed in a future version, please use 'ME' instead.\n",
            "  offset = pd.tseries.frequencies.to_offset(freq)\n",
            "/usr/local/lib/python3.11/dist-packages/gluonts/time_feature/seasonality.py:47: FutureWarning: 'M' is deprecated and will be removed in a future version, please use 'ME' instead.\n",
            "  offset = pd.tseries.frequencies.to_offset(freq)\n",
            "/usr/local/lib/python3.11/dist-packages/gluonts/time_feature/seasonality.py:47: FutureWarning: 'M' is deprecated and will be removed in a future version, please use 'ME' instead.\n",
            "  offset = pd.tseries.frequencies.to_offset(freq)\n",
            "/usr/local/lib/python3.11/dist-packages/gluonts/time_feature/seasonality.py:47: FutureWarning: 'M' is deprecated and will be removed in a future version, please use 'ME' instead.\n",
            "  offset = pd.tseries.frequencies.to_offset(freq)\n",
            "/usr/local/lib/python3.11/dist-packages/gluonts/time_feature/seasonality.py:47: FutureWarning: 'M' is deprecated and will be removed in a future version, please use 'ME' instead.\n",
            "  offset = pd.tseries.frequencies.to_offset(freq)\n",
            "/usr/local/lib/python3.11/dist-packages/gluonts/time_feature/seasonality.py:47: FutureWarning: 'M' is deprecated and will be removed in a future version, please use 'ME' instead.\n",
            "  offset = pd.tseries.frequencies.to_offset(freq)\n",
            "/usr/local/lib/python3.11/dist-packages/gluonts/time_feature/seasonality.py:47: FutureWarning: 'M' is deprecated and will be removed in a future version, please use 'ME' instead.\n",
            "  offset = pd.tseries.frequencies.to_offset(freq)\n",
            "/usr/local/lib/python3.11/dist-packages/gluonts/time_feature/seasonality.py:47: FutureWarning: 'M' is deprecated and will be removed in a future version, please use 'ME' instead.\n",
            "  offset = pd.tseries.frequencies.to_offset(freq)\n",
            "/usr/local/lib/python3.11/dist-packages/gluonts/time_feature/seasonality.py:47: FutureWarning: 'M' is deprecated and will be removed in a future version, please use 'ME' instead.\n",
            "  offset = pd.tseries.frequencies.to_offset(freq)\n",
            "/usr/local/lib/python3.11/dist-packages/gluonts/time_feature/seasonality.py:47: FutureWarning: 'M' is deprecated and will be removed in a future version, please use 'ME' instead.\n",
            "  offset = pd.tseries.frequencies.to_offset(freq)\n",
            "/usr/local/lib/python3.11/dist-packages/gluonts/time_feature/seasonality.py:47: FutureWarning: 'M' is deprecated and will be removed in a future version, please use 'ME' instead.\n",
            "  offset = pd.tseries.frequencies.to_offset(freq)\n",
            "/usr/local/lib/python3.11/dist-packages/gluonts/time_feature/seasonality.py:47: FutureWarning: 'M' is deprecated and will be removed in a future version, please use 'ME' instead.\n",
            "  offset = pd.tseries.frequencies.to_offset(freq)\n",
            "/usr/local/lib/python3.11/dist-packages/gluonts/time_feature/seasonality.py:47: FutureWarning: 'M' is deprecated and will be removed in a future version, please use 'ME' instead.\n",
            "  offset = pd.tseries.frequencies.to_offset(freq)\n",
            "/usr/local/lib/python3.11/dist-packages/gluonts/time_feature/seasonality.py:47: FutureWarning: 'M' is deprecated and will be removed in a future version, please use 'ME' instead.\n",
            "  offset = pd.tseries.frequencies.to_offset(freq)\n",
            "/usr/local/lib/python3.11/dist-packages/gluonts/time_feature/seasonality.py:47: FutureWarning: 'M' is deprecated and will be removed in a future version, please use 'ME' instead.\n",
            "  offset = pd.tseries.frequencies.to_offset(freq)\n",
            "/usr/local/lib/python3.11/dist-packages/gluonts/time_feature/seasonality.py:47: FutureWarning: 'M' is deprecated and will be removed in a future version, please use 'ME' instead.\n",
            "  offset = pd.tseries.frequencies.to_offset(freq)\n",
            "/usr/local/lib/python3.11/dist-packages/gluonts/time_feature/seasonality.py:47: FutureWarning: 'M' is deprecated and will be removed in a future version, please use 'ME' instead.\n",
            "  offset = pd.tseries.frequencies.to_offset(freq)\n",
            "/usr/local/lib/python3.11/dist-packages/gluonts/time_feature/seasonality.py:47: FutureWarning: 'M' is deprecated and will be removed in a future version, please use 'ME' instead.\n",
            "  offset = pd.tseries.frequencies.to_offset(freq)\n",
            "/usr/local/lib/python3.11/dist-packages/gluonts/time_feature/seasonality.py:47: FutureWarning: 'M' is deprecated and will be removed in a future version, please use 'ME' instead.\n",
            "  offset = pd.tseries.frequencies.to_offset(freq)\n",
            "/usr/local/lib/python3.11/dist-packages/gluonts/time_feature/seasonality.py:47: FutureWarning: 'M' is deprecated and will be removed in a future version, please use 'ME' instead.\n",
            "  offset = pd.tseries.frequencies.to_offset(freq)\n",
            "/usr/local/lib/python3.11/dist-packages/gluonts/time_feature/seasonality.py:47: FutureWarning: 'M' is deprecated and will be removed in a future version, please use 'ME' instead.\n",
            "  offset = pd.tseries.frequencies.to_offset(freq)\n",
            "/usr/local/lib/python3.11/dist-packages/gluonts/time_feature/seasonality.py:47: FutureWarning: 'M' is deprecated and will be removed in a future version, please use 'ME' instead.\n",
            "  offset = pd.tseries.frequencies.to_offset(freq)\n",
            "/usr/local/lib/python3.11/dist-packages/gluonts/time_feature/seasonality.py:47: FutureWarning: 'M' is deprecated and will be removed in a future version, please use 'ME' instead.\n",
            "  offset = pd.tseries.frequencies.to_offset(freq)\n",
            "/usr/local/lib/python3.11/dist-packages/gluonts/time_feature/seasonality.py:47: FutureWarning: 'M' is deprecated and will be removed in a future version, please use 'ME' instead.\n",
            "  offset = pd.tseries.frequencies.to_offset(freq)\n",
            "/usr/local/lib/python3.11/dist-packages/gluonts/time_feature/seasonality.py:47: FutureWarning: 'M' is deprecated and will be removed in a future version, please use 'ME' instead.\n",
            "  offset = pd.tseries.frequencies.to_offset(freq)\n",
            "/usr/local/lib/python3.11/dist-packages/gluonts/time_feature/seasonality.py:47: FutureWarning: 'M' is deprecated and will be removed in a future version, please use 'ME' instead.\n",
            "  offset = pd.tseries.frequencies.to_offset(freq)\n",
            "/usr/local/lib/python3.11/dist-packages/gluonts/time_feature/seasonality.py:47: FutureWarning: 'M' is deprecated and will be removed in a future version, please use 'ME' instead.\n",
            "  offset = pd.tseries.frequencies.to_offset(freq)\n",
            "/usr/local/lib/python3.11/dist-packages/gluonts/time_feature/seasonality.py:47: FutureWarning: 'M' is deprecated and will be removed in a future version, please use 'ME' instead.\n",
            "  offset = pd.tseries.frequencies.to_offset(freq)\n",
            "/usr/local/lib/python3.11/dist-packages/gluonts/time_feature/seasonality.py:47: FutureWarning: 'M' is deprecated and will be removed in a future version, please use 'ME' instead.\n",
            "  offset = pd.tseries.frequencies.to_offset(freq)\n",
            "/usr/local/lib/python3.11/dist-packages/gluonts/time_feature/seasonality.py:47: FutureWarning: 'M' is deprecated and will be removed in a future version, please use 'ME' instead.\n",
            "  offset = pd.tseries.frequencies.to_offset(freq)\n",
            "/usr/local/lib/python3.11/dist-packages/gluonts/time_feature/seasonality.py:47: FutureWarning: 'M' is deprecated and will be removed in a future version, please use 'ME' instead.\n",
            "  offset = pd.tseries.frequencies.to_offset(freq)\n",
            "/usr/local/lib/python3.11/dist-packages/gluonts/time_feature/seasonality.py:47: FutureWarning: 'M' is deprecated and will be removed in a future version, please use 'ME' instead.\n",
            "  offset = pd.tseries.frequencies.to_offset(freq)\n",
            "/usr/local/lib/python3.11/dist-packages/gluonts/time_feature/seasonality.py:47: FutureWarning: 'M' is deprecated and will be removed in a future version, please use 'ME' instead.\n",
            "  offset = pd.tseries.frequencies.to_offset(freq)\n",
            "/usr/local/lib/python3.11/dist-packages/gluonts/time_feature/seasonality.py:47: FutureWarning: 'M' is deprecated and will be removed in a future version, please use 'ME' instead.\n",
            "  offset = pd.tseries.frequencies.to_offset(freq)\n",
            "/usr/local/lib/python3.11/dist-packages/gluonts/time_feature/seasonality.py:47: FutureWarning: 'M' is deprecated and will be removed in a future version, please use 'ME' instead.\n",
            "  offset = pd.tseries.frequencies.to_offset(freq)\n",
            "/usr/local/lib/python3.11/dist-packages/gluonts/time_feature/seasonality.py:47: FutureWarning: 'M' is deprecated and will be removed in a future version, please use 'ME' instead.\n",
            "  offset = pd.tseries.frequencies.to_offset(freq)\n",
            "/usr/local/lib/python3.11/dist-packages/gluonts/time_feature/seasonality.py:47: FutureWarning: 'M' is deprecated and will be removed in a future version, please use 'ME' instead.\n",
            "  offset = pd.tseries.frequencies.to_offset(freq)\n",
            "/usr/local/lib/python3.11/dist-packages/gluonts/time_feature/seasonality.py:47: FutureWarning: 'M' is deprecated and will be removed in a future version, please use 'ME' instead.\n",
            "  offset = pd.tseries.frequencies.to_offset(freq)\n",
            "/usr/local/lib/python3.11/dist-packages/gluonts/time_feature/seasonality.py:47: FutureWarning: 'M' is deprecated and will be removed in a future version, please use 'ME' instead.\n",
            "  offset = pd.tseries.frequencies.to_offset(freq)\n",
            "/usr/local/lib/python3.11/dist-packages/gluonts/time_feature/seasonality.py:47: FutureWarning: 'M' is deprecated and will be removed in a future version, please use 'ME' instead.\n",
            "  offset = pd.tseries.frequencies.to_offset(freq)\n",
            "/usr/local/lib/python3.11/dist-packages/gluonts/time_feature/seasonality.py:47: FutureWarning: 'M' is deprecated and will be removed in a future version, please use 'ME' instead.\n",
            "  offset = pd.tseries.frequencies.to_offset(freq)\n",
            "/usr/local/lib/python3.11/dist-packages/gluonts/time_feature/seasonality.py:47: FutureWarning: 'M' is deprecated and will be removed in a future version, please use 'ME' instead.\n",
            "  offset = pd.tseries.frequencies.to_offset(freq)\n",
            "/usr/local/lib/python3.11/dist-packages/gluonts/time_feature/seasonality.py:47: FutureWarning: 'M' is deprecated and will be removed in a future version, please use 'ME' instead.\n",
            "  offset = pd.tseries.frequencies.to_offset(freq)\n",
            "/usr/local/lib/python3.11/dist-packages/gluonts/time_feature/seasonality.py:47: FutureWarning: 'M' is deprecated and will be removed in a future version, please use 'ME' instead.\n",
            "  offset = pd.tseries.frequencies.to_offset(freq)\n",
            "/usr/local/lib/python3.11/dist-packages/gluonts/time_feature/seasonality.py:47: FutureWarning: 'M' is deprecated and will be removed in a future version, please use 'ME' instead.\n",
            "  offset = pd.tseries.frequencies.to_offset(freq)\n",
            "/usr/local/lib/python3.11/dist-packages/gluonts/time_feature/seasonality.py:47: FutureWarning: 'M' is deprecated and will be removed in a future version, please use 'ME' instead.\n",
            "  offset = pd.tseries.frequencies.to_offset(freq)\n",
            "/usr/local/lib/python3.11/dist-packages/gluonts/time_feature/seasonality.py:47: FutureWarning: 'M' is deprecated and will be removed in a future version, please use 'ME' instead.\n",
            "  offset = pd.tseries.frequencies.to_offset(freq)\n",
            "/usr/local/lib/python3.11/dist-packages/gluonts/time_feature/seasonality.py:47: FutureWarning: 'M' is deprecated and will be removed in a future version, please use 'ME' instead.\n",
            "  offset = pd.tseries.frequencies.to_offset(freq)\n",
            "/usr/local/lib/python3.11/dist-packages/gluonts/time_feature/seasonality.py:47: FutureWarning: 'M' is deprecated and will be removed in a future version, please use 'ME' instead.\n",
            "  offset = pd.tseries.frequencies.to_offset(freq)\n",
            "/usr/local/lib/python3.11/dist-packages/gluonts/time_feature/seasonality.py:47: FutureWarning: 'M' is deprecated and will be removed in a future version, please use 'ME' instead.\n",
            "  offset = pd.tseries.frequencies.to_offset(freq)\n",
            "/usr/local/lib/python3.11/dist-packages/gluonts/time_feature/seasonality.py:47: FutureWarning: 'M' is deprecated and will be removed in a future version, please use 'ME' instead.\n",
            "  offset = pd.tseries.frequencies.to_offset(freq)\n",
            "/usr/local/lib/python3.11/dist-packages/gluonts/time_feature/seasonality.py:47: FutureWarning: 'M' is deprecated and will be removed in a future version, please use 'ME' instead.\n",
            "  offset = pd.tseries.frequencies.to_offset(freq)\n",
            "/usr/local/lib/python3.11/dist-packages/gluonts/time_feature/seasonality.py:47: FutureWarning: 'M' is deprecated and will be removed in a future version, please use 'ME' instead.\n",
            "  offset = pd.tseries.frequencies.to_offset(freq)\n",
            "/usr/local/lib/python3.11/dist-packages/gluonts/time_feature/seasonality.py:47: FutureWarning: 'M' is deprecated and will be removed in a future version, please use 'ME' instead.\n",
            "  offset = pd.tseries.frequencies.to_offset(freq)\n",
            "/usr/local/lib/python3.11/dist-packages/gluonts/time_feature/seasonality.py:47: FutureWarning: 'M' is deprecated and will be removed in a future version, please use 'ME' instead.\n",
            "  offset = pd.tseries.frequencies.to_offset(freq)\n",
            "/usr/local/lib/python3.11/dist-packages/gluonts/time_feature/seasonality.py:47: FutureWarning: 'M' is deprecated and will be removed in a future version, please use 'ME' instead.\n",
            "  offset = pd.tseries.frequencies.to_offset(freq)\n",
            "/usr/local/lib/python3.11/dist-packages/gluonts/time_feature/seasonality.py:47: FutureWarning: 'M' is deprecated and will be removed in a future version, please use 'ME' instead.\n",
            "  offset = pd.tseries.frequencies.to_offset(freq)\n",
            "/usr/local/lib/python3.11/dist-packages/gluonts/time_feature/seasonality.py:47: FutureWarning: 'M' is deprecated and will be removed in a future version, please use 'ME' instead.\n",
            "  offset = pd.tseries.frequencies.to_offset(freq)\n",
            "/usr/local/lib/python3.11/dist-packages/gluonts/time_feature/seasonality.py:47: FutureWarning: 'M' is deprecated and will be removed in a future version, please use 'ME' instead.\n",
            "  offset = pd.tseries.frequencies.to_offset(freq)\n",
            "/usr/local/lib/python3.11/dist-packages/gluonts/time_feature/seasonality.py:47: FutureWarning: 'M' is deprecated and will be removed in a future version, please use 'ME' instead.\n",
            "  offset = pd.tseries.frequencies.to_offset(freq)\n",
            "/usr/local/lib/python3.11/dist-packages/gluonts/time_feature/seasonality.py:47: FutureWarning: 'M' is deprecated and will be removed in a future version, please use 'ME' instead.\n",
            "  offset = pd.tseries.frequencies.to_offset(freq)\n",
            "/usr/local/lib/python3.11/dist-packages/gluonts/time_feature/seasonality.py:47: FutureWarning: 'M' is deprecated and will be removed in a future version, please use 'ME' instead.\n",
            "  offset = pd.tseries.frequencies.to_offset(freq)\n",
            "/usr/local/lib/python3.11/dist-packages/gluonts/time_feature/seasonality.py:47: FutureWarning: 'M' is deprecated and will be removed in a future version, please use 'ME' instead.\n",
            "  offset = pd.tseries.frequencies.to_offset(freq)\n",
            "/usr/local/lib/python3.11/dist-packages/gluonts/time_feature/seasonality.py:47: FutureWarning: 'M' is deprecated and will be removed in a future version, please use 'ME' instead.\n",
            "  offset = pd.tseries.frequencies.to_offset(freq)\n",
            "/usr/local/lib/python3.11/dist-packages/gluonts/time_feature/seasonality.py:47: FutureWarning: 'M' is deprecated and will be removed in a future version, please use 'ME' instead.\n",
            "  offset = pd.tseries.frequencies.to_offset(freq)\n",
            "/usr/local/lib/python3.11/dist-packages/gluonts/time_feature/seasonality.py:47: FutureWarning: 'M' is deprecated and will be removed in a future version, please use 'ME' instead.\n",
            "  offset = pd.tseries.frequencies.to_offset(freq)\n",
            "/usr/local/lib/python3.11/dist-packages/gluonts/time_feature/seasonality.py:47: FutureWarning: 'M' is deprecated and will be removed in a future version, please use 'ME' instead.\n",
            "  offset = pd.tseries.frequencies.to_offset(freq)\n",
            "/usr/local/lib/python3.11/dist-packages/gluonts/time_feature/seasonality.py:47: FutureWarning: 'M' is deprecated and will be removed in a future version, please use 'ME' instead.\n",
            "  offset = pd.tseries.frequencies.to_offset(freq)\n",
            "/usr/local/lib/python3.11/dist-packages/gluonts/time_feature/seasonality.py:47: FutureWarning: 'M' is deprecated and will be removed in a future version, please use 'ME' instead.\n",
            "  offset = pd.tseries.frequencies.to_offset(freq)\n",
            "/usr/local/lib/python3.11/dist-packages/gluonts/time_feature/seasonality.py:47: FutureWarning: 'M' is deprecated and will be removed in a future version, please use 'ME' instead.\n",
            "  offset = pd.tseries.frequencies.to_offset(freq)\n",
            "/usr/local/lib/python3.11/dist-packages/gluonts/time_feature/seasonality.py:47: FutureWarning: 'M' is deprecated and will be removed in a future version, please use 'ME' instead.\n",
            "  offset = pd.tseries.frequencies.to_offset(freq)\n",
            "/usr/local/lib/python3.11/dist-packages/gluonts/time_feature/seasonality.py:47: FutureWarning: 'M' is deprecated and will be removed in a future version, please use 'ME' instead.\n",
            "  offset = pd.tseries.frequencies.to_offset(freq)\n",
            "/usr/local/lib/python3.11/dist-packages/gluonts/time_feature/seasonality.py:47: FutureWarning: 'M' is deprecated and will be removed in a future version, please use 'ME' instead.\n",
            "  offset = pd.tseries.frequencies.to_offset(freq)\n",
            "/usr/local/lib/python3.11/dist-packages/gluonts/time_feature/seasonality.py:47: FutureWarning: 'M' is deprecated and will be removed in a future version, please use 'ME' instead.\n",
            "  offset = pd.tseries.frequencies.to_offset(freq)\n",
            "/usr/local/lib/python3.11/dist-packages/gluonts/time_feature/seasonality.py:47: FutureWarning: 'M' is deprecated and will be removed in a future version, please use 'ME' instead.\n",
            "  offset = pd.tseries.frequencies.to_offset(freq)\n",
            "/usr/local/lib/python3.11/dist-packages/gluonts/time_feature/seasonality.py:47: FutureWarning: 'M' is deprecated and will be removed in a future version, please use 'ME' instead.\n",
            "  offset = pd.tseries.frequencies.to_offset(freq)\n",
            "/usr/local/lib/python3.11/dist-packages/gluonts/time_feature/seasonality.py:47: FutureWarning: 'M' is deprecated and will be removed in a future version, please use 'ME' instead.\n",
            "  offset = pd.tseries.frequencies.to_offset(freq)\n",
            "/usr/local/lib/python3.11/dist-packages/gluonts/time_feature/seasonality.py:47: FutureWarning: 'M' is deprecated and will be removed in a future version, please use 'ME' instead.\n",
            "  offset = pd.tseries.frequencies.to_offset(freq)\n",
            "/usr/local/lib/python3.11/dist-packages/gluonts/time_feature/seasonality.py:47: FutureWarning: 'M' is deprecated and will be removed in a future version, please use 'ME' instead.\n",
            "  offset = pd.tseries.frequencies.to_offset(freq)\n",
            "/usr/local/lib/python3.11/dist-packages/gluonts/time_feature/seasonality.py:47: FutureWarning: 'M' is deprecated and will be removed in a future version, please use 'ME' instead.\n",
            "  offset = pd.tseries.frequencies.to_offset(freq)\n",
            "/usr/local/lib/python3.11/dist-packages/gluonts/time_feature/seasonality.py:47: FutureWarning: 'M' is deprecated and will be removed in a future version, please use 'ME' instead.\n",
            "  offset = pd.tseries.frequencies.to_offset(freq)\n",
            "/usr/local/lib/python3.11/dist-packages/gluonts/time_feature/seasonality.py:47: FutureWarning: 'M' is deprecated and will be removed in a future version, please use 'ME' instead.\n",
            "  offset = pd.tseries.frequencies.to_offset(freq)\n",
            "/usr/local/lib/python3.11/dist-packages/gluonts/time_feature/seasonality.py:47: FutureWarning: 'M' is deprecated and will be removed in a future version, please use 'ME' instead.\n",
            "  offset = pd.tseries.frequencies.to_offset(freq)\n",
            "/usr/local/lib/python3.11/dist-packages/gluonts/time_feature/seasonality.py:47: FutureWarning: 'M' is deprecated and will be removed in a future version, please use 'ME' instead.\n",
            "  offset = pd.tseries.frequencies.to_offset(freq)\n",
            "/usr/local/lib/python3.11/dist-packages/gluonts/time_feature/seasonality.py:47: FutureWarning: 'M' is deprecated and will be removed in a future version, please use 'ME' instead.\n",
            "  offset = pd.tseries.frequencies.to_offset(freq)\n",
            "/usr/local/lib/python3.11/dist-packages/gluonts/time_feature/seasonality.py:47: FutureWarning: 'M' is deprecated and will be removed in a future version, please use 'ME' instead.\n",
            "  offset = pd.tseries.frequencies.to_offset(freq)\n",
            "/usr/local/lib/python3.11/dist-packages/gluonts/time_feature/seasonality.py:47: FutureWarning: 'M' is deprecated and will be removed in a future version, please use 'ME' instead.\n",
            "  offset = pd.tseries.frequencies.to_offset(freq)\n",
            "/usr/local/lib/python3.11/dist-packages/gluonts/time_feature/seasonality.py:47: FutureWarning: 'M' is deprecated and will be removed in a future version, please use 'ME' instead.\n",
            "  offset = pd.tseries.frequencies.to_offset(freq)\n",
            "/usr/local/lib/python3.11/dist-packages/gluonts/time_feature/seasonality.py:47: FutureWarning: 'M' is deprecated and will be removed in a future version, please use 'ME' instead.\n",
            "  offset = pd.tseries.frequencies.to_offset(freq)\n",
            "/usr/local/lib/python3.11/dist-packages/gluonts/time_feature/seasonality.py:47: FutureWarning: 'M' is deprecated and will be removed in a future version, please use 'ME' instead.\n",
            "  offset = pd.tseries.frequencies.to_offset(freq)\n",
            "/usr/local/lib/python3.11/dist-packages/gluonts/time_feature/seasonality.py:47: FutureWarning: 'M' is deprecated and will be removed in a future version, please use 'ME' instead.\n",
            "  offset = pd.tseries.frequencies.to_offset(freq)\n",
            "/usr/local/lib/python3.11/dist-packages/gluonts/time_feature/seasonality.py:47: FutureWarning: 'M' is deprecated and will be removed in a future version, please use 'ME' instead.\n",
            "  offset = pd.tseries.frequencies.to_offset(freq)\n",
            "/usr/local/lib/python3.11/dist-packages/gluonts/time_feature/seasonality.py:47: FutureWarning: 'M' is deprecated and will be removed in a future version, please use 'ME' instead.\n",
            "  offset = pd.tseries.frequencies.to_offset(freq)\n",
            "/usr/local/lib/python3.11/dist-packages/gluonts/time_feature/seasonality.py:47: FutureWarning: 'M' is deprecated and will be removed in a future version, please use 'ME' instead.\n",
            "  offset = pd.tseries.frequencies.to_offset(freq)\n",
            "/usr/local/lib/python3.11/dist-packages/gluonts/time_feature/seasonality.py:47: FutureWarning: 'M' is deprecated and will be removed in a future version, please use 'ME' instead.\n",
            "  offset = pd.tseries.frequencies.to_offset(freq)\n",
            "/usr/local/lib/python3.11/dist-packages/gluonts/time_feature/seasonality.py:47: FutureWarning: 'M' is deprecated and will be removed in a future version, please use 'ME' instead.\n",
            "  offset = pd.tseries.frequencies.to_offset(freq)\n",
            "/usr/local/lib/python3.11/dist-packages/gluonts/time_feature/seasonality.py:47: FutureWarning: 'M' is deprecated and will be removed in a future version, please use 'ME' instead.\n",
            "  offset = pd.tseries.frequencies.to_offset(freq)\n",
            "/usr/local/lib/python3.11/dist-packages/gluonts/time_feature/seasonality.py:47: FutureWarning: 'M' is deprecated and will be removed in a future version, please use 'ME' instead.\n",
            "  offset = pd.tseries.frequencies.to_offset(freq)\n",
            "/usr/local/lib/python3.11/dist-packages/gluonts/time_feature/seasonality.py:47: FutureWarning: 'M' is deprecated and will be removed in a future version, please use 'ME' instead.\n",
            "  offset = pd.tseries.frequencies.to_offset(freq)\n",
            "/usr/local/lib/python3.11/dist-packages/gluonts/time_feature/seasonality.py:47: FutureWarning: 'M' is deprecated and will be removed in a future version, please use 'ME' instead.\n",
            "  offset = pd.tseries.frequencies.to_offset(freq)\n",
            "/usr/local/lib/python3.11/dist-packages/gluonts/time_feature/seasonality.py:47: FutureWarning: 'M' is deprecated and will be removed in a future version, please use 'ME' instead.\n",
            "  offset = pd.tseries.frequencies.to_offset(freq)\n",
            "/usr/local/lib/python3.11/dist-packages/gluonts/time_feature/seasonality.py:47: FutureWarning: 'M' is deprecated and will be removed in a future version, please use 'ME' instead.\n",
            "  offset = pd.tseries.frequencies.to_offset(freq)\n",
            "/usr/local/lib/python3.11/dist-packages/gluonts/time_feature/seasonality.py:47: FutureWarning: 'M' is deprecated and will be removed in a future version, please use 'ME' instead.\n",
            "  offset = pd.tseries.frequencies.to_offset(freq)\n",
            "/usr/local/lib/python3.11/dist-packages/gluonts/time_feature/seasonality.py:47: FutureWarning: 'M' is deprecated and will be removed in a future version, please use 'ME' instead.\n",
            "  offset = pd.tseries.frequencies.to_offset(freq)\n",
            "/usr/local/lib/python3.11/dist-packages/gluonts/time_feature/seasonality.py:47: FutureWarning: 'M' is deprecated and will be removed in a future version, please use 'ME' instead.\n",
            "  offset = pd.tseries.frequencies.to_offset(freq)\n",
            "/usr/local/lib/python3.11/dist-packages/gluonts/time_feature/seasonality.py:47: FutureWarning: 'M' is deprecated and will be removed in a future version, please use 'ME' instead.\n",
            "  offset = pd.tseries.frequencies.to_offset(freq)\n",
            "/usr/local/lib/python3.11/dist-packages/gluonts/time_feature/seasonality.py:47: FutureWarning: 'M' is deprecated and will be removed in a future version, please use 'ME' instead.\n",
            "  offset = pd.tseries.frequencies.to_offset(freq)\n",
            "/usr/local/lib/python3.11/dist-packages/gluonts/time_feature/seasonality.py:47: FutureWarning: 'M' is deprecated and will be removed in a future version, please use 'ME' instead.\n",
            "  offset = pd.tseries.frequencies.to_offset(freq)\n",
            "/usr/local/lib/python3.11/dist-packages/gluonts/time_feature/seasonality.py:47: FutureWarning: 'M' is deprecated and will be removed in a future version, please use 'ME' instead.\n",
            "  offset = pd.tseries.frequencies.to_offset(freq)\n",
            "/usr/local/lib/python3.11/dist-packages/gluonts/time_feature/seasonality.py:47: FutureWarning: 'M' is deprecated and will be removed in a future version, please use 'ME' instead.\n",
            "  offset = pd.tseries.frequencies.to_offset(freq)\n",
            "/usr/local/lib/python3.11/dist-packages/gluonts/time_feature/seasonality.py:47: FutureWarning: 'M' is deprecated and will be removed in a future version, please use 'ME' instead.\n",
            "  offset = pd.tseries.frequencies.to_offset(freq)\n",
            "/usr/local/lib/python3.11/dist-packages/gluonts/time_feature/seasonality.py:47: FutureWarning: 'M' is deprecated and will be removed in a future version, please use 'ME' instead.\n",
            "  offset = pd.tseries.frequencies.to_offset(freq)\n",
            "/usr/local/lib/python3.11/dist-packages/gluonts/time_feature/seasonality.py:47: FutureWarning: 'M' is deprecated and will be removed in a future version, please use 'ME' instead.\n",
            "  offset = pd.tseries.frequencies.to_offset(freq)\n",
            "/usr/local/lib/python3.11/dist-packages/gluonts/time_feature/seasonality.py:47: FutureWarning: 'M' is deprecated and will be removed in a future version, please use 'ME' instead.\n",
            "  offset = pd.tseries.frequencies.to_offset(freq)\n",
            "/usr/local/lib/python3.11/dist-packages/gluonts/time_feature/seasonality.py:47: FutureWarning: 'M' is deprecated and will be removed in a future version, please use 'ME' instead.\n",
            "  offset = pd.tseries.frequencies.to_offset(freq)\n",
            "/usr/local/lib/python3.11/dist-packages/gluonts/time_feature/seasonality.py:47: FutureWarning: 'M' is deprecated and will be removed in a future version, please use 'ME' instead.\n",
            "  offset = pd.tseries.frequencies.to_offset(freq)\n",
            "/usr/local/lib/python3.11/dist-packages/gluonts/time_feature/seasonality.py:47: FutureWarning: 'M' is deprecated and will be removed in a future version, please use 'ME' instead.\n",
            "  offset = pd.tseries.frequencies.to_offset(freq)\n",
            "/usr/local/lib/python3.11/dist-packages/gluonts/time_feature/seasonality.py:47: FutureWarning: 'M' is deprecated and will be removed in a future version, please use 'ME' instead.\n",
            "  offset = pd.tseries.frequencies.to_offset(freq)\n",
            "/usr/local/lib/python3.11/dist-packages/gluonts/time_feature/seasonality.py:47: FutureWarning: 'M' is deprecated and will be removed in a future version, please use 'ME' instead.\n",
            "  offset = pd.tseries.frequencies.to_offset(freq)\n",
            "/usr/local/lib/python3.11/dist-packages/gluonts/time_feature/seasonality.py:47: FutureWarning: 'M' is deprecated and will be removed in a future version, please use 'ME' instead.\n",
            "  offset = pd.tseries.frequencies.to_offset(freq)\n",
            "/usr/local/lib/python3.11/dist-packages/gluonts/time_feature/seasonality.py:47: FutureWarning: 'M' is deprecated and will be removed in a future version, please use 'ME' instead.\n",
            "  offset = pd.tseries.frequencies.to_offset(freq)\n",
            "/usr/local/lib/python3.11/dist-packages/gluonts/time_feature/seasonality.py:47: FutureWarning: 'M' is deprecated and will be removed in a future version, please use 'ME' instead.\n",
            "  offset = pd.tseries.frequencies.to_offset(freq)\n",
            "/usr/local/lib/python3.11/dist-packages/gluonts/time_feature/seasonality.py:47: FutureWarning: 'M' is deprecated and will be removed in a future version, please use 'ME' instead.\n",
            "  offset = pd.tseries.frequencies.to_offset(freq)\n",
            "/usr/local/lib/python3.11/dist-packages/gluonts/time_feature/seasonality.py:47: FutureWarning: 'M' is deprecated and will be removed in a future version, please use 'ME' instead.\n",
            "  offset = pd.tseries.frequencies.to_offset(freq)\n",
            "/usr/local/lib/python3.11/dist-packages/gluonts/time_feature/seasonality.py:47: FutureWarning: 'M' is deprecated and will be removed in a future version, please use 'ME' instead.\n",
            "  offset = pd.tseries.frequencies.to_offset(freq)\n",
            "/usr/local/lib/python3.11/dist-packages/gluonts/time_feature/seasonality.py:47: FutureWarning: 'M' is deprecated and will be removed in a future version, please use 'ME' instead.\n",
            "  offset = pd.tseries.frequencies.to_offset(freq)\n",
            "/usr/local/lib/python3.11/dist-packages/gluonts/time_feature/seasonality.py:47: FutureWarning: 'M' is deprecated and will be removed in a future version, please use 'ME' instead.\n",
            "  offset = pd.tseries.frequencies.to_offset(freq)\n",
            "/usr/local/lib/python3.11/dist-packages/gluonts/time_feature/seasonality.py:47: FutureWarning: 'M' is deprecated and will be removed in a future version, please use 'ME' instead.\n",
            "  offset = pd.tseries.frequencies.to_offset(freq)\n",
            "/usr/local/lib/python3.11/dist-packages/gluonts/time_feature/seasonality.py:47: FutureWarning: 'M' is deprecated and will be removed in a future version, please use 'ME' instead.\n",
            "  offset = pd.tseries.frequencies.to_offset(freq)\n",
            "/usr/local/lib/python3.11/dist-packages/gluonts/time_feature/seasonality.py:47: FutureWarning: 'M' is deprecated and will be removed in a future version, please use 'ME' instead.\n",
            "  offset = pd.tseries.frequencies.to_offset(freq)\n",
            "/usr/local/lib/python3.11/dist-packages/gluonts/time_feature/seasonality.py:47: FutureWarning: 'M' is deprecated and will be removed in a future version, please use 'ME' instead.\n",
            "  offset = pd.tseries.frequencies.to_offset(freq)\n",
            "/usr/local/lib/python3.11/dist-packages/gluonts/time_feature/seasonality.py:47: FutureWarning: 'M' is deprecated and will be removed in a future version, please use 'ME' instead.\n",
            "  offset = pd.tseries.frequencies.to_offset(freq)\n",
            "/usr/local/lib/python3.11/dist-packages/gluonts/time_feature/seasonality.py:47: FutureWarning: 'M' is deprecated and will be removed in a future version, please use 'ME' instead.\n",
            "  offset = pd.tseries.frequencies.to_offset(freq)\n",
            "/usr/local/lib/python3.11/dist-packages/gluonts/time_feature/seasonality.py:47: FutureWarning: 'M' is deprecated and will be removed in a future version, please use 'ME' instead.\n",
            "  offset = pd.tseries.frequencies.to_offset(freq)\n",
            "/usr/local/lib/python3.11/dist-packages/gluonts/time_feature/seasonality.py:47: FutureWarning: 'M' is deprecated and will be removed in a future version, please use 'ME' instead.\n",
            "  offset = pd.tseries.frequencies.to_offset(freq)\n",
            "/usr/local/lib/python3.11/dist-packages/gluonts/time_feature/seasonality.py:47: FutureWarning: 'M' is deprecated and will be removed in a future version, please use 'ME' instead.\n",
            "  offset = pd.tseries.frequencies.to_offset(freq)\n",
            "/usr/local/lib/python3.11/dist-packages/gluonts/time_feature/seasonality.py:47: FutureWarning: 'M' is deprecated and will be removed in a future version, please use 'ME' instead.\n",
            "  offset = pd.tseries.frequencies.to_offset(freq)\n",
            "/usr/local/lib/python3.11/dist-packages/gluonts/time_feature/seasonality.py:47: FutureWarning: 'M' is deprecated and will be removed in a future version, please use 'ME' instead.\n",
            "  offset = pd.tseries.frequencies.to_offset(freq)\n",
            "/usr/local/lib/python3.11/dist-packages/gluonts/time_feature/seasonality.py:47: FutureWarning: 'M' is deprecated and will be removed in a future version, please use 'ME' instead.\n",
            "  offset = pd.tseries.frequencies.to_offset(freq)\n",
            "/usr/local/lib/python3.11/dist-packages/gluonts/time_feature/seasonality.py:47: FutureWarning: 'M' is deprecated and will be removed in a future version, please use 'ME' instead.\n",
            "  offset = pd.tseries.frequencies.to_offset(freq)\n",
            "/usr/local/lib/python3.11/dist-packages/gluonts/time_feature/seasonality.py:47: FutureWarning: 'M' is deprecated and will be removed in a future version, please use 'ME' instead.\n",
            "  offset = pd.tseries.frequencies.to_offset(freq)\n",
            "/usr/local/lib/python3.11/dist-packages/gluonts/time_feature/seasonality.py:47: FutureWarning: 'M' is deprecated and will be removed in a future version, please use 'ME' instead.\n",
            "  offset = pd.tseries.frequencies.to_offset(freq)\n",
            "/usr/local/lib/python3.11/dist-packages/gluonts/time_feature/seasonality.py:47: FutureWarning: 'M' is deprecated and will be removed in a future version, please use 'ME' instead.\n",
            "  offset = pd.tseries.frequencies.to_offset(freq)\n",
            "/usr/local/lib/python3.11/dist-packages/gluonts/time_feature/seasonality.py:47: FutureWarning: 'M' is deprecated and will be removed in a future version, please use 'ME' instead.\n",
            "  offset = pd.tseries.frequencies.to_offset(freq)\n",
            "/usr/local/lib/python3.11/dist-packages/gluonts/time_feature/seasonality.py:47: FutureWarning: 'M' is deprecated and will be removed in a future version, please use 'ME' instead.\n",
            "  offset = pd.tseries.frequencies.to_offset(freq)\n",
            "/usr/local/lib/python3.11/dist-packages/gluonts/time_feature/seasonality.py:47: FutureWarning: 'M' is deprecated and will be removed in a future version, please use 'ME' instead.\n",
            "  offset = pd.tseries.frequencies.to_offset(freq)\n",
            "/usr/local/lib/python3.11/dist-packages/gluonts/time_feature/seasonality.py:47: FutureWarning: 'M' is deprecated and will be removed in a future version, please use 'ME' instead.\n",
            "  offset = pd.tseries.frequencies.to_offset(freq)\n",
            "/usr/local/lib/python3.11/dist-packages/gluonts/time_feature/seasonality.py:47: FutureWarning: 'M' is deprecated and will be removed in a future version, please use 'ME' instead.\n",
            "  offset = pd.tseries.frequencies.to_offset(freq)\n",
            "/usr/local/lib/python3.11/dist-packages/gluonts/time_feature/seasonality.py:47: FutureWarning: 'M' is deprecated and will be removed in a future version, please use 'ME' instead.\n",
            "  offset = pd.tseries.frequencies.to_offset(freq)\n",
            "/usr/local/lib/python3.11/dist-packages/gluonts/time_feature/seasonality.py:47: FutureWarning: 'M' is deprecated and will be removed in a future version, please use 'ME' instead.\n",
            "  offset = pd.tseries.frequencies.to_offset(freq)\n",
            "/usr/local/lib/python3.11/dist-packages/gluonts/time_feature/seasonality.py:47: FutureWarning: 'M' is deprecated and will be removed in a future version, please use 'ME' instead.\n",
            "  offset = pd.tseries.frequencies.to_offset(freq)\n",
            "/usr/local/lib/python3.11/dist-packages/gluonts/time_feature/seasonality.py:47: FutureWarning: 'M' is deprecated and will be removed in a future version, please use 'ME' instead.\n",
            "  offset = pd.tseries.frequencies.to_offset(freq)\n",
            "/usr/local/lib/python3.11/dist-packages/gluonts/time_feature/seasonality.py:47: FutureWarning: 'M' is deprecated and will be removed in a future version, please use 'ME' instead.\n",
            "  offset = pd.tseries.frequencies.to_offset(freq)\n",
            "/usr/local/lib/python3.11/dist-packages/gluonts/time_feature/seasonality.py:47: FutureWarning: 'M' is deprecated and will be removed in a future version, please use 'ME' instead.\n",
            "  offset = pd.tseries.frequencies.to_offset(freq)\n",
            "/usr/local/lib/python3.11/dist-packages/gluonts/time_feature/seasonality.py:47: FutureWarning: 'M' is deprecated and will be removed in a future version, please use 'ME' instead.\n",
            "  offset = pd.tseries.frequencies.to_offset(freq)\n",
            "/usr/local/lib/python3.11/dist-packages/gluonts/time_feature/seasonality.py:47: FutureWarning: 'M' is deprecated and will be removed in a future version, please use 'ME' instead.\n",
            "  offset = pd.tseries.frequencies.to_offset(freq)\n",
            "/usr/local/lib/python3.11/dist-packages/gluonts/time_feature/seasonality.py:47: FutureWarning: 'M' is deprecated and will be removed in a future version, please use 'ME' instead.\n",
            "  offset = pd.tseries.frequencies.to_offset(freq)\n",
            "/usr/local/lib/python3.11/dist-packages/gluonts/time_feature/seasonality.py:47: FutureWarning: 'M' is deprecated and will be removed in a future version, please use 'ME' instead.\n",
            "  offset = pd.tseries.frequencies.to_offset(freq)\n",
            "/usr/local/lib/python3.11/dist-packages/gluonts/time_feature/seasonality.py:47: FutureWarning: 'M' is deprecated and will be removed in a future version, please use 'ME' instead.\n",
            "  offset = pd.tseries.frequencies.to_offset(freq)\n",
            "/usr/local/lib/python3.11/dist-packages/gluonts/time_feature/seasonality.py:47: FutureWarning: 'M' is deprecated and will be removed in a future version, please use 'ME' instead.\n",
            "  offset = pd.tseries.frequencies.to_offset(freq)\n",
            "/usr/local/lib/python3.11/dist-packages/gluonts/time_feature/seasonality.py:47: FutureWarning: 'M' is deprecated and will be removed in a future version, please use 'ME' instead.\n",
            "  offset = pd.tseries.frequencies.to_offset(freq)\n",
            "/usr/local/lib/python3.11/dist-packages/gluonts/time_feature/seasonality.py:47: FutureWarning: 'M' is deprecated and will be removed in a future version, please use 'ME' instead.\n",
            "  offset = pd.tseries.frequencies.to_offset(freq)\n",
            "/usr/local/lib/python3.11/dist-packages/gluonts/time_feature/seasonality.py:47: FutureWarning: 'M' is deprecated and will be removed in a future version, please use 'ME' instead.\n",
            "  offset = pd.tseries.frequencies.to_offset(freq)\n",
            "/usr/local/lib/python3.11/dist-packages/gluonts/time_feature/seasonality.py:47: FutureWarning: 'M' is deprecated and will be removed in a future version, please use 'ME' instead.\n",
            "  offset = pd.tseries.frequencies.to_offset(freq)\n",
            "/usr/local/lib/python3.11/dist-packages/gluonts/time_feature/seasonality.py:47: FutureWarning: 'M' is deprecated and will be removed in a future version, please use 'ME' instead.\n",
            "  offset = pd.tseries.frequencies.to_offset(freq)\n",
            "/usr/local/lib/python3.11/dist-packages/gluonts/time_feature/seasonality.py:47: FutureWarning: 'M' is deprecated and will be removed in a future version, please use 'ME' instead.\n",
            "  offset = pd.tseries.frequencies.to_offset(freq)\n",
            "/usr/local/lib/python3.11/dist-packages/gluonts/time_feature/seasonality.py:47: FutureWarning: 'M' is deprecated and will be removed in a future version, please use 'ME' instead.\n",
            "  offset = pd.tseries.frequencies.to_offset(freq)\n",
            "/usr/local/lib/python3.11/dist-packages/gluonts/time_feature/seasonality.py:47: FutureWarning: 'M' is deprecated and will be removed in a future version, please use 'ME' instead.\n",
            "  offset = pd.tseries.frequencies.to_offset(freq)\n",
            "/usr/local/lib/python3.11/dist-packages/gluonts/time_feature/seasonality.py:47: FutureWarning: 'M' is deprecated and will be removed in a future version, please use 'ME' instead.\n",
            "  offset = pd.tseries.frequencies.to_offset(freq)\n",
            "/usr/local/lib/python3.11/dist-packages/gluonts/time_feature/seasonality.py:47: FutureWarning: 'M' is deprecated and will be removed in a future version, please use 'ME' instead.\n",
            "  offset = pd.tseries.frequencies.to_offset(freq)\n",
            "/usr/local/lib/python3.11/dist-packages/gluonts/time_feature/seasonality.py:47: FutureWarning: 'M' is deprecated and will be removed in a future version, please use 'ME' instead.\n",
            "  offset = pd.tseries.frequencies.to_offset(freq)\n",
            "/usr/local/lib/python3.11/dist-packages/gluonts/time_feature/seasonality.py:47: FutureWarning: 'M' is deprecated and will be removed in a future version, please use 'ME' instead.\n",
            "  offset = pd.tseries.frequencies.to_offset(freq)\n",
            "/usr/local/lib/python3.11/dist-packages/gluonts/time_feature/seasonality.py:47: FutureWarning: 'M' is deprecated and will be removed in a future version, please use 'ME' instead.\n",
            "  offset = pd.tseries.frequencies.to_offset(freq)\n",
            "/usr/local/lib/python3.11/dist-packages/gluonts/time_feature/seasonality.py:47: FutureWarning: 'M' is deprecated and will be removed in a future version, please use 'ME' instead.\n",
            "  offset = pd.tseries.frequencies.to_offset(freq)\n",
            "/usr/local/lib/python3.11/dist-packages/gluonts/time_feature/seasonality.py:47: FutureWarning: 'M' is deprecated and will be removed in a future version, please use 'ME' instead.\n",
            "  offset = pd.tseries.frequencies.to_offset(freq)\n",
            "/usr/local/lib/python3.11/dist-packages/gluonts/time_feature/seasonality.py:47: FutureWarning: 'M' is deprecated and will be removed in a future version, please use 'ME' instead.\n",
            "  offset = pd.tseries.frequencies.to_offset(freq)\n",
            "/usr/local/lib/python3.11/dist-packages/gluonts/time_feature/seasonality.py:47: FutureWarning: 'M' is deprecated and will be removed in a future version, please use 'ME' instead.\n",
            "  offset = pd.tseries.frequencies.to_offset(freq)\n",
            "/usr/local/lib/python3.11/dist-packages/gluonts/time_feature/seasonality.py:47: FutureWarning: 'M' is deprecated and will be removed in a future version, please use 'ME' instead.\n",
            "  offset = pd.tseries.frequencies.to_offset(freq)\n",
            "/usr/local/lib/python3.11/dist-packages/gluonts/time_feature/seasonality.py:47: FutureWarning: 'M' is deprecated and will be removed in a future version, please use 'ME' instead.\n",
            "  offset = pd.tseries.frequencies.to_offset(freq)\n",
            "/usr/local/lib/python3.11/dist-packages/gluonts/time_feature/seasonality.py:47: FutureWarning: 'M' is deprecated and will be removed in a future version, please use 'ME' instead.\n",
            "  offset = pd.tseries.frequencies.to_offset(freq)\n",
            "/usr/local/lib/python3.11/dist-packages/gluonts/time_feature/seasonality.py:47: FutureWarning: 'M' is deprecated and will be removed in a future version, please use 'ME' instead.\n",
            "  offset = pd.tseries.frequencies.to_offset(freq)\n",
            "/usr/local/lib/python3.11/dist-packages/gluonts/time_feature/seasonality.py:47: FutureWarning: 'M' is deprecated and will be removed in a future version, please use 'ME' instead.\n",
            "  offset = pd.tseries.frequencies.to_offset(freq)\n",
            "/usr/local/lib/python3.11/dist-packages/gluonts/time_feature/seasonality.py:47: FutureWarning: 'M' is deprecated and will be removed in a future version, please use 'ME' instead.\n",
            "  offset = pd.tseries.frequencies.to_offset(freq)\n",
            "/usr/local/lib/python3.11/dist-packages/gluonts/time_feature/seasonality.py:47: FutureWarning: 'M' is deprecated and will be removed in a future version, please use 'ME' instead.\n",
            "  offset = pd.tseries.frequencies.to_offset(freq)\n",
            "/usr/local/lib/python3.11/dist-packages/gluonts/time_feature/seasonality.py:47: FutureWarning: 'M' is deprecated and will be removed in a future version, please use 'ME' instead.\n",
            "  offset = pd.tseries.frequencies.to_offset(freq)\n",
            "/usr/local/lib/python3.11/dist-packages/gluonts/time_feature/seasonality.py:47: FutureWarning: 'M' is deprecated and will be removed in a future version, please use 'ME' instead.\n",
            "  offset = pd.tseries.frequencies.to_offset(freq)\n",
            "/usr/local/lib/python3.11/dist-packages/gluonts/time_feature/seasonality.py:47: FutureWarning: 'M' is deprecated and will be removed in a future version, please use 'ME' instead.\n",
            "  offset = pd.tseries.frequencies.to_offset(freq)\n",
            "/usr/local/lib/python3.11/dist-packages/gluonts/time_feature/seasonality.py:47: FutureWarning: 'M' is deprecated and will be removed in a future version, please use 'ME' instead.\n",
            "  offset = pd.tseries.frequencies.to_offset(freq)\n",
            "/usr/local/lib/python3.11/dist-packages/gluonts/time_feature/seasonality.py:47: FutureWarning: 'M' is deprecated and will be removed in a future version, please use 'ME' instead.\n",
            "  offset = pd.tseries.frequencies.to_offset(freq)\n",
            "/usr/local/lib/python3.11/dist-packages/gluonts/time_feature/seasonality.py:47: FutureWarning: 'M' is deprecated and will be removed in a future version, please use 'ME' instead.\n",
            "  offset = pd.tseries.frequencies.to_offset(freq)\n",
            "/usr/local/lib/python3.11/dist-packages/gluonts/time_feature/seasonality.py:47: FutureWarning: 'M' is deprecated and will be removed in a future version, please use 'ME' instead.\n",
            "  offset = pd.tseries.frequencies.to_offset(freq)\n",
            "/usr/local/lib/python3.11/dist-packages/gluonts/time_feature/seasonality.py:47: FutureWarning: 'M' is deprecated and will be removed in a future version, please use 'ME' instead.\n",
            "  offset = pd.tseries.frequencies.to_offset(freq)\n",
            "/usr/local/lib/python3.11/dist-packages/gluonts/time_feature/seasonality.py:47: FutureWarning: 'M' is deprecated and will be removed in a future version, please use 'ME' instead.\n",
            "  offset = pd.tseries.frequencies.to_offset(freq)\n",
            "/usr/local/lib/python3.11/dist-packages/gluonts/time_feature/seasonality.py:47: FutureWarning: 'M' is deprecated and will be removed in a future version, please use 'ME' instead.\n",
            "  offset = pd.tseries.frequencies.to_offset(freq)\n",
            "/usr/local/lib/python3.11/dist-packages/gluonts/time_feature/seasonality.py:47: FutureWarning: 'M' is deprecated and will be removed in a future version, please use 'ME' instead.\n",
            "  offset = pd.tseries.frequencies.to_offset(freq)\n",
            "/usr/local/lib/python3.11/dist-packages/gluonts/time_feature/seasonality.py:47: FutureWarning: 'M' is deprecated and will be removed in a future version, please use 'ME' instead.\n",
            "  offset = pd.tseries.frequencies.to_offset(freq)\n",
            "/usr/local/lib/python3.11/dist-packages/gluonts/time_feature/seasonality.py:47: FutureWarning: 'M' is deprecated and will be removed in a future version, please use 'ME' instead.\n",
            "  offset = pd.tseries.frequencies.to_offset(freq)\n",
            "/usr/local/lib/python3.11/dist-packages/gluonts/time_feature/seasonality.py:47: FutureWarning: 'M' is deprecated and will be removed in a future version, please use 'ME' instead.\n",
            "  offset = pd.tseries.frequencies.to_offset(freq)\n",
            "/usr/local/lib/python3.11/dist-packages/gluonts/time_feature/seasonality.py:47: FutureWarning: 'M' is deprecated and will be removed in a future version, please use 'ME' instead.\n",
            "  offset = pd.tseries.frequencies.to_offset(freq)\n",
            "/usr/local/lib/python3.11/dist-packages/gluonts/time_feature/seasonality.py:47: FutureWarning: 'M' is deprecated and will be removed in a future version, please use 'ME' instead.\n",
            "  offset = pd.tseries.frequencies.to_offset(freq)\n",
            "/usr/local/lib/python3.11/dist-packages/gluonts/time_feature/seasonality.py:47: FutureWarning: 'M' is deprecated and will be removed in a future version, please use 'ME' instead.\n",
            "  offset = pd.tseries.frequencies.to_offset(freq)\n",
            "/usr/local/lib/python3.11/dist-packages/gluonts/time_feature/seasonality.py:47: FutureWarning: 'M' is deprecated and will be removed in a future version, please use 'ME' instead.\n",
            "  offset = pd.tseries.frequencies.to_offset(freq)\n",
            "/usr/local/lib/python3.11/dist-packages/gluonts/time_feature/seasonality.py:47: FutureWarning: 'M' is deprecated and will be removed in a future version, please use 'ME' instead.\n",
            "  offset = pd.tseries.frequencies.to_offset(freq)\n",
            "/usr/local/lib/python3.11/dist-packages/gluonts/time_feature/seasonality.py:47: FutureWarning: 'M' is deprecated and will be removed in a future version, please use 'ME' instead.\n",
            "  offset = pd.tseries.frequencies.to_offset(freq)\n",
            "/usr/local/lib/python3.11/dist-packages/gluonts/time_feature/seasonality.py:47: FutureWarning: 'M' is deprecated and will be removed in a future version, please use 'ME' instead.\n",
            "  offset = pd.tseries.frequencies.to_offset(freq)\n",
            "/usr/local/lib/python3.11/dist-packages/gluonts/time_feature/seasonality.py:47: FutureWarning: 'M' is deprecated and will be removed in a future version, please use 'ME' instead.\n",
            "  offset = pd.tseries.frequencies.to_offset(freq)\n",
            "/usr/local/lib/python3.11/dist-packages/gluonts/time_feature/seasonality.py:47: FutureWarning: 'M' is deprecated and will be removed in a future version, please use 'ME' instead.\n",
            "  offset = pd.tseries.frequencies.to_offset(freq)\n",
            "/usr/local/lib/python3.11/dist-packages/gluonts/time_feature/seasonality.py:47: FutureWarning: 'M' is deprecated and will be removed in a future version, please use 'ME' instead.\n",
            "  offset = pd.tseries.frequencies.to_offset(freq)\n",
            "/usr/local/lib/python3.11/dist-packages/gluonts/time_feature/seasonality.py:47: FutureWarning: 'M' is deprecated and will be removed in a future version, please use 'ME' instead.\n",
            "  offset = pd.tseries.frequencies.to_offset(freq)\n",
            "/usr/local/lib/python3.11/dist-packages/gluonts/time_feature/seasonality.py:47: FutureWarning: 'M' is deprecated and will be removed in a future version, please use 'ME' instead.\n",
            "  offset = pd.tseries.frequencies.to_offset(freq)\n",
            "/usr/local/lib/python3.11/dist-packages/gluonts/time_feature/seasonality.py:47: FutureWarning: 'M' is deprecated and will be removed in a future version, please use 'ME' instead.\n",
            "  offset = pd.tseries.frequencies.to_offset(freq)\n",
            "/usr/local/lib/python3.11/dist-packages/gluonts/time_feature/seasonality.py:47: FutureWarning: 'M' is deprecated and will be removed in a future version, please use 'ME' instead.\n",
            "  offset = pd.tseries.frequencies.to_offset(freq)\n",
            "/usr/local/lib/python3.11/dist-packages/gluonts/time_feature/seasonality.py:47: FutureWarning: 'M' is deprecated and will be removed in a future version, please use 'ME' instead.\n",
            "  offset = pd.tseries.frequencies.to_offset(freq)\n",
            "/usr/local/lib/python3.11/dist-packages/gluonts/time_feature/seasonality.py:47: FutureWarning: 'M' is deprecated and will be removed in a future version, please use 'ME' instead.\n",
            "  offset = pd.tseries.frequencies.to_offset(freq)\n",
            "/usr/local/lib/python3.11/dist-packages/gluonts/time_feature/seasonality.py:47: FutureWarning: 'M' is deprecated and will be removed in a future version, please use 'ME' instead.\n",
            "  offset = pd.tseries.frequencies.to_offset(freq)\n",
            "/usr/local/lib/python3.11/dist-packages/gluonts/time_feature/seasonality.py:47: FutureWarning: 'M' is deprecated and will be removed in a future version, please use 'ME' instead.\n",
            "  offset = pd.tseries.frequencies.to_offset(freq)\n",
            "/usr/local/lib/python3.11/dist-packages/gluonts/time_feature/seasonality.py:47: FutureWarning: 'M' is deprecated and will be removed in a future version, please use 'ME' instead.\n",
            "  offset = pd.tseries.frequencies.to_offset(freq)\n",
            "/usr/local/lib/python3.11/dist-packages/gluonts/time_feature/seasonality.py:47: FutureWarning: 'M' is deprecated and will be removed in a future version, please use 'ME' instead.\n",
            "  offset = pd.tseries.frequencies.to_offset(freq)\n",
            "/usr/local/lib/python3.11/dist-packages/gluonts/time_feature/seasonality.py:47: FutureWarning: 'M' is deprecated and will be removed in a future version, please use 'ME' instead.\n",
            "  offset = pd.tseries.frequencies.to_offset(freq)\n"
          ]
        }
      ],
      "source": [
        "from evaluate import load\n",
        "from gluonts.time_feature import get_seasonality\n",
        "\n",
        "mase_metric = load(\"evaluate-metric/mase\")\n",
        "smape_metric = load(\"evaluate-metric/smape\")\n",
        "\n",
        "forecast_median = np.median(forecasts, 1)\n",
        "\n",
        "mase_metrics = []\n",
        "smape_metrics = []\n",
        "for item_id, ts in enumerate(test_dataset):\n",
        "    training_data = ts[\"target\"][:-prediction_length]\n",
        "    ground_truth = ts[\"target\"][-prediction_length:]\n",
        "    mase = mase_metric.compute(\n",
        "        predictions=forecast_median[item_id],\n",
        "        references=np.array(ground_truth),\n",
        "        training=np.array(training_data),\n",
        "        periodicity=get_seasonality(freq),\n",
        "    )\n",
        "    mase_metrics.append(mase[\"mase\"])\n",
        "\n",
        "    smape = smape_metric.compute(\n",
        "        predictions=forecast_median[item_id],\n",
        "        references=np.array(ground_truth),\n",
        "    )\n",
        "    smape_metrics.append(smape[\"smape\"])"
      ]
    },
    {
      "cell_type": "code",
      "execution_count": 48,
      "id": "fuuFbNYdZlIR",
      "metadata": {
        "colab": {
          "base_uri": "https://localhost:8080/"
        },
        "id": "fuuFbNYdZlIR",
        "outputId": "9f772f76-a8d8-415d-a43e-a35cc0b263ec"
      },
      "outputs": [
        {
          "output_type": "stream",
          "name": "stdout",
          "text": [
            "MASE: 1.5844126963391305\n"
          ]
        }
      ],
      "source": [
        "print(f\"MASE: {np.mean(mase_metrics)}\")"
      ]
    },
    {
      "cell_type": "code",
      "execution_count": 49,
      "id": "w6ETpUrML2wE",
      "metadata": {
        "colab": {
          "base_uri": "https://localhost:8080/"
        },
        "id": "w6ETpUrML2wE",
        "outputId": "3513c92a-e7ab-4974-d685-547f33ab1180"
      },
      "outputs": [
        {
          "output_type": "stream",
          "name": "stdout",
          "text": [
            "sMAPE: 0.20618814765964846\n"
          ]
        }
      ],
      "source": [
        "print(f\"sMAPE: {np.mean(smape_metrics)}\")"
      ]
    },
    {
      "cell_type": "markdown",
      "id": "S91QglbEL7Qm",
      "metadata": {
        "id": "S91QglbEL7Qm"
      },
      "source": [
        "We can also plot the individual metrics of each time series in the dataset and observe that a handful of time series contribute a lot to the final test metric:"
      ]
    },
    {
      "cell_type": "code",
      "execution_count": 50,
      "id": "cb342aac",
      "metadata": {
        "colab": {
          "base_uri": "https://localhost:8080/",
          "height": 449
        },
        "id": "cb342aac",
        "outputId": "e3a96af0-d8dd-4fbb-9579-684c469011f7"
      },
      "outputs": [
        {
          "output_type": "display_data",
          "data": {
            "text/plain": [
              "<Figure size 640x480 with 1 Axes>"
            ],
            "image/png": "[encoded data removed]"
          },
          "metadata": {}
        }
      ],
      "source": [
        "plt.scatter(mase_metrics, smape_metrics, alpha=0.3)\n",
        "plt.xlabel(\"MASE\")\n",
        "plt.ylabel(\"sMAPE\")\n",
        "plt.show()"
      ]
    },
    {
      "cell_type": "markdown",
      "id": "moksM2QmMACr",
      "metadata": {
        "id": "moksM2QmMACr"
      },
      "source": [
        "To plot the prediction for any time series with respect the ground truth test data we define the following helper:"
      ]
    },
    {
      "cell_type": "code",
      "execution_count": 51,
      "id": "3ae05011",
      "metadata": {
        "id": "3ae05011"
      },
      "outputs": [],
      "source": [
        "import matplotlib.dates as mdates\n",
        "\n",
        "\n",
        "def plot(ts_index):\n",
        "    fig, ax = plt.subplots()\n",
        "\n",
        "    index = pd.period_range(\n",
        "        start=test_dataset[ts_index][FieldName.START],\n",
        "        periods=len(test_dataset[ts_index][FieldName.TARGET]),\n",
        "        freq=freq,\n",
        "    ).to_timestamp()\n",
        "\n",
        "    # Major ticks every half year, minor ticks every month,\n",
        "    ax.xaxis.set_major_locator(mdates.MonthLocator(bymonth=(1, 7)))\n",
        "    ax.xaxis.set_minor_locator(mdates.MonthLocator())\n",
        "\n",
        "    ax.plot(\n",
        "        index[-2 * prediction_length :],\n",
        "        test_dataset[ts_index][\"target\"][-2 * prediction_length :],\n",
        "        label=\"actual\",\n",
        "    )\n",
        "\n",
        "    plt.plot(\n",
        "        index[-prediction_length:],\n",
        "        np.median(forecasts[ts_index], axis=0),\n",
        "        label=\"median\",\n",
        "    )\n",
        "\n",
        "    plt.fill_between(\n",
        "        index[-prediction_length:],\n",
        "        forecasts[ts_index].mean(0) - forecasts[ts_index].std(axis=0),\n",
        "        forecasts[ts_index].mean(0) + forecasts[ts_index].std(axis=0),\n",
        "        alpha=0.3,\n",
        "        interpolate=True,\n",
        "        label=\"+/- 1-std\",\n",
        "    )\n",
        "    plt.legend()\n",
        "    plt.show()"
      ]
    },
    {
      "cell_type": "markdown",
      "id": "mwtksAcxMHoK",
      "metadata": {
        "id": "mwtksAcxMHoK"
      },
      "source": [
        "For example:"
      ]
    },
    {
      "cell_type": "code",
      "execution_count": 52,
      "id": "5N8fdnm_MKQP",
      "metadata": {
        "colab": {
          "base_uri": "https://localhost:8080/",
          "height": 430
        },
        "id": "5N8fdnm_MKQP",
        "outputId": "4e5c1a81-aab9-41d8-f2e3-07aa8bba36eb"
      },
      "outputs": [
        {
          "output_type": "display_data",
          "data": {
            "text/plain": [
              "<Figure size 640x480 with 1 Axes>"
            ],
            "image/png": "[encoded data removed]"
          },
          "metadata": {}
        }
      ],
      "source": [
        "plot(334)"
      ]
    },
    {
      "cell_type": "markdown",
      "id": "Nf4Y8MvLMOi8",
      "metadata": {
        "id": "Nf4Y8MvLMOi8"
      },
      "source": [
        "How do we compare against other models? The [Monash Time Series Repository](https://forecastingdata.org/#results) has a comparison table of test set MASE metrics which we can add to:\n",
        "\n",
        "|Dataset | \tSES| \tTheta | \tTBATS| \tETS\t| (DHR-)ARIMA| \tPR|\tCatBoost |\tFFNN\t| DeepAR | \tN-BEATS | \tWaveNet| \t**Transformer** (Our) |\n",
        "|:------------------:|:-----------------:|:--:|:--:|:--:|:--:|:--:|:--:|:---:|:---:|:--:|:--:|:--:|\n",
        "|Tourism Monthly | \t3.306 |\t1.649 |\t1.751 |\t1.526|\t1.589|\t1.678\t|1.699|\t1.582\t| 1.409\t| 1.574|\t1.482\t|  **1.256**|\n",
        "\n",
        "Note that, with our model, we are beating all other models reported (see also table 2 in the corresponding [paper](https://openreview.net/pdf?id=wEc1mgAjU-)), and we didn't do any hyperparameter tuning. We just trained the Transformer for 40 epochs.\n",
        "\n",
        "Of course, we need to be careful with just claiming state-of-the-art results on time series with neural networks, as it seems [\"XGBoost is typically all you need\"](https://www.sciencedirect.com/science/article/pii/S0169207021001679).  We are just very curious to see how far neural networks can bring us, and whether Transformers are going to be useful in this domain. This particular dataset seems to indicate that it's definitely worth exploring.\n",
        "\n",
        "## Next Steps\n",
        "\n",
        "We would encourage the readers to try out the [notebook](https://colab.research.google.com/github/huggingface/notebooks/blob/main/examples/time-series-transformers.ipynb) with other time series datasets from the [Hub](https://huggingface.co/datasets/monash_tsf) and replace the appropriate frequency and prediction length parameters. For your datasets, one would need to convert them to the convention used by GluonTS, which is explained nicely in their documentation [here](https://ts.gluon.ai/stable/tutorials/forecasting/extended_tutorial.html#What-is-in-a-dataset?). We have also prepared an example notebook showing you how to convert your dataset into the 🤗 datasets format [here](https://github.com/huggingface/notebooks/blob/main/examples/time_series_datasets.ipynb).\n",
        "\n",
        "As time series researchers will know, there has been a lot of interest in applying Transformer based models to the time series problem. The vanilla Transformer is just one of many attention-based models and so there is a need to add more models to the library.\n",
        "\n",
        "At the moment there is nothing stopping us from modeling multivariate time series, however for that one would need to instantiate the model with a multivariate distribution head. Currently, diagonal independent distributions are supported, and other multivariate distributions will be added. Stay tuned for a future blog post which will include a tutorial.\n",
        "\n",
        "Another thing on the roadmap is time series classification. This entails adding a time series model with a classification head to the library, for the anomaly detection task for example.\n",
        "\n",
        "The current model assumes the presence of a date-time together with the time series values, which might not be the case for every time series in the wild. See for instance neuroscience datasets like the one from [WOODS](https://woods-benchmarks.github.io/). Thus, one would need to generalize the current model to make some inputs optional in the whole pipeline.\n",
        "\n",
        "Finally, the NLP/Vision domain has benefitted tremendously from [large pre-trained models](https://arxiv.org/abs/1810.04805), while this is not the case as far as we are aware for the time series domain. Transformer based models seem like the obvious choice in pursuing this avenue of research and we cannot wait to see what researchers and practitioners come up with!\n"
      ]
    },
    {
      "cell_type": "code",
      "execution_count": null,
      "id": "CYtLcclMTs99",
      "metadata": {
        "id": "CYtLcclMTs99"
      },
      "outputs": [],
      "source": []
    }
  ],
  "metadata": {
    "accelerator": "GPU",
    "colab": {
      "provenance": []
    },
    "gpuClass": "standard",
    "kernelspec": {
      "display_name": "Python 3 (ipykernel)",
      "language": "python",
      "name": "python3"
    },
    "language_info": {
      "codemirror_mode": {
        "name": "ipython",
        "version": 3
      },
      "file_extension": ".py",
      "mimetype": "text/x-python",
      "name": "python",
      "nbconvert_exporter": "python",
      "pygments_lexer": "ipython3",
      "version": "3.11.6"
    },
    "widgets": {
      "application/vnd.jupyter.widget-state+json": {
        "a2581ff0093048a8ba89eabafc86f8ee": {
          "model_module": "@jupyter-widgets/controls",
          "model_name": "HBoxModel",
          "model_module_version": "1.5.0",
          "state": {
            "_dom_classes": [],
            "_model_module": "@jupyter-widgets/controls",
            "_model_module_version": "1.5.0",
            "_model_name": "HBoxModel",
            "_view_count": null,
            "_view_module": "@jupyter-widgets/controls",
            "_view_module_version": "1.5.0",
            "_view_name": "HBoxView",
            "box_style": "",
            "children": [
              "IPY_MODEL_7b4b0f69e74e4d14b28ab62eea27b8b8",
              "IPY_MODEL_4d45a552947e4999ba4f1dd145f8ee0d",
              "IPY_MODEL_4ffc5243c43e4afd86998249f221497f"
            ],
            "layout": "IPY_MODEL_3958309a979d449186439e18de2aa00c"
          }
        },
        "7b4b0f69e74e4d14b28ab62eea27b8b8": {
          "model_module": "@jupyter-widgets/controls",
          "model_name": "HTMLModel",
          "model_module_version": "1.5.0",
          "state": {
            "_dom_classes": [],
            "_model_module": "@jupyter-widgets/controls",
            "_model_module_version": "1.5.0",
            "_model_name": "HTMLModel",
            "_view_count": null,
            "_view_module": "@jupyter-widgets/controls",
            "_view_module_version": "1.5.0",
            "_view_name": "HTMLView",
            "description": "",
            "description_tooltip": null,
            "layout": "IPY_MODEL_f404ffbaf8874f1dabf1695d53f38994",
            "placeholder": "​",
            "style": "IPY_MODEL_56b513a64469454fb1163af6af45a04c",
            "value": ""
          }
        },
        "4d45a552947e4999ba4f1dd145f8ee0d": {
          "model_module": "@jupyter-widgets/controls",
          "model_name": "FloatProgressModel",
          "model_module_version": "1.5.0",
          "state": {
            "_dom_classes": [],
            "_model_module": "@jupyter-widgets/controls",
            "_model_module_version": "1.5.0",
            "_model_name": "FloatProgressModel",
            "_view_count": null,
            "_view_module": "@jupyter-widgets/controls",
            "_view_module_version": "1.5.0",
            "_view_name": "ProgressView",
            "bar_style": "success",
            "description": "",
            "description_tooltip": null,
            "layout": "IPY_MODEL_979a030bacbc4dd1a4dd557c45a1d380",
            "max": 1,
            "min": 0,
            "orientation": "horizontal",
            "style": "IPY_MODEL_32af5ea90aec4c339ec5ad1c045c2850",
            "value": 0
          }
        },
        "4ffc5243c43e4afd86998249f221497f": {
          "model_module": "@jupyter-widgets/controls",
          "model_name": "HTMLModel",
          "model_module_version": "1.5.0",
          "state": {
            "_dom_classes": [],
            "_model_module": "@jupyter-widgets/controls",
            "_model_module_version": "1.5.0",
            "_model_name": "HTMLModel",
            "_view_count": null,
            "_view_module": "@jupyter-widgets/controls",
            "_view_module_version": "1.5.0",
            "_view_name": "HTMLView",
            "description": "",
            "description_tooltip": null,
            "layout": "IPY_MODEL_e8efc3e6d0024b0d9c16bf6c9c40fbcf",
            "placeholder": "​",
            "style": "IPY_MODEL_25cbfbbc36434d008b4ad9b64f8160bf",
            "value": " 0/0 [00:00&lt;?, ?it/s]"
          }
        },
        "3958309a979d449186439e18de2aa00c": {
          "model_module": "@jupyter-widgets/base",
          "model_name": "LayoutModel",
          "model_module_version": "1.2.0",
          "state": {
            "_model_module": "@jupyter-widgets/base",
            "_model_module_version": "1.2.0",
            "_model_name": "LayoutModel",
            "_view_count": null,
            "_view_module": "@jupyter-widgets/base",
            "_view_module_version": "1.2.0",
            "_view_name": "LayoutView",
            "align_content": null,
            "align_items": null,
            "align_self": null,
            "border": null,
            "bottom": null,
            "display": null,
            "flex": null,
            "flex_flow": null,
            "grid_area": null,
            "grid_auto_columns": null,
            "grid_auto_flow": null,
            "grid_auto_rows": null,
            "grid_column": null,
            "grid_gap": null,
            "grid_row": null,
            "grid_template_areas": null,
            "grid_template_columns": null,
            "grid_template_rows": null,
            "height": null,
            "justify_content": null,
            "justify_items": null,
            "left": null,
            "margin": null,
            "max_height": null,
            "max_width": null,
            "min_height": null,
            "min_width": null,
            "object_fit": null,
            "object_position": null,
            "order": null,
            "overflow": null,
            "overflow_x": null,
            "overflow_y": null,
            "padding": null,
            "right": null,
            "top": null,
            "visibility": null,
            "width": null
          }
        },
        "f404ffbaf8874f1dabf1695d53f38994": {
          "model_module": "@jupyter-widgets/base",
          "model_name": "LayoutModel",
          "model_module_version": "1.2.0",
          "state": {
            "_model_module": "@jupyter-widgets/base",
            "_model_module_version": "1.2.0",
            "_model_name": "LayoutModel",
            "_view_count": null,
            "_view_module": "@jupyter-widgets/base",
            "_view_module_version": "1.2.0",
            "_view_name": "LayoutView",
            "align_content": null,
            "align_items": null,
            "align_self": null,
            "border": null,
            "bottom": null,
            "display": null,
            "flex": null,
            "flex_flow": null,
            "grid_area": null,
            "grid_auto_columns": null,
            "grid_auto_flow": null,
            "grid_auto_rows": null,
            "grid_column": null,
            "grid_gap": null,
            "grid_row": null,
            "grid_template_areas": null,
            "grid_template_columns": null,
            "grid_template_rows": null,
            "height": null,
            "justify_content": null,
            "justify_items": null,
            "left": null,
            "margin": null,
            "max_height": null,
            "max_width": null,
            "min_height": null,
            "min_width": null,
            "object_fit": null,
            "object_position": null,
            "order": null,
            "overflow": null,
            "overflow_x": null,
            "overflow_y": null,
            "padding": null,
            "right": null,
            "top": null,
            "visibility": null,
            "width": null
          }
        },
        "56b513a64469454fb1163af6af45a04c": {
          "model_module": "@jupyter-widgets/controls",
          "model_name": "DescriptionStyleModel",
          "model_module_version": "1.5.0",
          "state": {
            "_model_module": "@jupyter-widgets/controls",
            "_model_module_version": "1.5.0",
            "_model_name": "DescriptionStyleModel",
            "_view_count": null,
            "_view_module": "@jupyter-widgets/base",
            "_view_module_version": "1.2.0",
            "_view_name": "StyleView",
            "description_width": ""
          }
        },
        "979a030bacbc4dd1a4dd557c45a1d380": {
          "model_module": "@jupyter-widgets/base",
          "model_name": "LayoutModel",
          "model_module_version": "1.2.0",
          "state": {
            "_model_module": "@jupyter-widgets/base",
            "_model_module_version": "1.2.0",
            "_model_name": "LayoutModel",
            "_view_count": null,
            "_view_module": "@jupyter-widgets/base",
            "_view_module_version": "1.2.0",
            "_view_name": "LayoutView",
            "align_content": null,
            "align_items": null,
            "align_self": null,
            "border": null,
            "bottom": null,
            "display": null,
            "flex": null,
            "flex_flow": null,
            "grid_area": null,
            "grid_auto_columns": null,
            "grid_auto_flow": null,
            "grid_auto_rows": null,
            "grid_column": null,
            "grid_gap": null,
            "grid_row": null,
            "grid_template_areas": null,
            "grid_template_columns": null,
            "grid_template_rows": null,
            "height": null,
            "justify_content": null,
            "justify_items": null,
            "left": null,
            "margin": null,
            "max_height": null,
            "max_width": null,
            "min_height": null,
            "min_width": null,
            "object_fit": null,
            "object_position": null,
            "order": null,
            "overflow": null,
            "overflow_x": null,
            "overflow_y": null,
            "padding": null,
            "right": null,
            "top": null,
            "visibility": null,
            "width": "20px"
          }
        },
        "32af5ea90aec4c339ec5ad1c045c2850": {
          "model_module": "@jupyter-widgets/controls",
          "model_name": "ProgressStyleModel",
          "model_module_version": "1.5.0",
          "state": {
            "_model_module": "@jupyter-widgets/controls",
            "_model_module_version": "1.5.0",
            "_model_name": "ProgressStyleModel",
            "_view_count": null,
            "_view_module": "@jupyter-widgets/base",
            "_view_module_version": "1.2.0",
            "_view_name": "StyleView",
            "bar_color": null,
            "description_width": ""
          }
        },
        "e8efc3e6d0024b0d9c16bf6c9c40fbcf": {
          "model_module": "@jupyter-widgets/base",
          "model_name": "LayoutModel",
          "model_module_version": "1.2.0",
          "state": {
            "_model_module": "@jupyter-widgets/base",
            "_model_module_version": "1.2.0",
            "_model_name": "LayoutModel",
            "_view_count": null,
            "_view_module": "@jupyter-widgets/base",
            "_view_module_version": "1.2.0",
            "_view_name": "LayoutView",
            "align_content": null,
            "align_items": null,
            "align_self": null,
            "border": null,
            "bottom": null,
            "display": null,
            "flex": null,
            "flex_flow": null,
            "grid_area": null,
            "grid_auto_columns": null,
            "grid_auto_flow": null,
            "grid_auto_rows": null,
            "grid_column": null,
            "grid_gap": null,
            "grid_row": null,
            "grid_template_areas": null,
            "grid_template_columns": null,
            "grid_template_rows": null,
            "height": null,
            "justify_content": null,
            "justify_items": null,
            "left": null,
            "margin": null,
            "max_height": null,
            "max_width": null,
            "min_height": null,
            "min_width": null,
            "object_fit": null,
            "object_position": null,
            "order": null,
            "overflow": null,
            "overflow_x": null,
            "overflow_y": null,
            "padding": null,
            "right": null,
            "top": null,
            "visibility": null,
            "width": null
          }
        },
        "25cbfbbc36434d008b4ad9b64f8160bf": {
          "model_module": "@jupyter-widgets/controls",
          "model_name": "DescriptionStyleModel",
          "model_module_version": "1.5.0",
          "state": {
            "_model_module": "@jupyter-widgets/controls",
            "_model_module_version": "1.5.0",
            "_model_name": "DescriptionStyleModel",
            "_view_count": null,
            "_view_module": "@jupyter-widgets/base",
            "_view_module_version": "1.2.0",
            "_view_name": "StyleView",
            "description_width": ""
          }
        },
        "80cc914aa31641b889413cd09c6bb6a1": {
          "model_module": "@jupyter-widgets/controls",
          "model_name": "HBoxModel",
          "model_module_version": "1.5.0",
          "state": {
            "_dom_classes": [],
            "_model_module": "@jupyter-widgets/controls",
            "_model_module_version": "1.5.0",
            "_model_name": "HBoxModel",
            "_view_count": null,
            "_view_module": "@jupyter-widgets/controls",
            "_view_module_version": "1.5.0",
            "_view_name": "HBoxView",
            "box_style": "",
            "children": [
              "IPY_MODEL_5c7c52419a064b7581732bf5f697d770",
              "IPY_MODEL_9497a9223a2b4db1bec6c793fbd2e3d0",
              "IPY_MODEL_e2d3fc89c2a14c2492b108d037004c02"
            ],
            "layout": "IPY_MODEL_4054c4a120dd429fbdaeb26ba7eff124"
          }
        },
        "5c7c52419a064b7581732bf5f697d770": {
          "model_module": "@jupyter-widgets/controls",
          "model_name": "HTMLModel",
          "model_module_version": "1.5.0",
          "state": {
            "_dom_classes": [],
            "_model_module": "@jupyter-widgets/controls",
            "_model_module_version": "1.5.0",
            "_model_name": "HTMLModel",
            "_view_count": null,
            "_view_module": "@jupyter-widgets/controls",
            "_view_module_version": "1.5.0",
            "_view_name": "HTMLView",
            "description": "",
            "description_tooltip": null,
            "layout": "IPY_MODEL_e8e8e937f3c341ebad69b36360b5ebfa",
            "placeholder": "​",
            "style": "IPY_MODEL_13d7bbcd64974fc5955583485ea8b43f",
            "value": "Downloading builder script: 100%"
          }
        },
        "9497a9223a2b4db1bec6c793fbd2e3d0": {
          "model_module": "@jupyter-widgets/controls",
          "model_name": "FloatProgressModel",
          "model_module_version": "1.5.0",
          "state": {
            "_dom_classes": [],
            "_model_module": "@jupyter-widgets/controls",
            "_model_module_version": "1.5.0",
            "_model_name": "FloatProgressModel",
            "_view_count": null,
            "_view_module": "@jupyter-widgets/controls",
            "_view_module_version": "1.5.0",
            "_view_name": "ProgressView",
            "bar_style": "success",
            "description": "",
            "description_tooltip": null,
            "layout": "IPY_MODEL_2504fcb428004a8ca3db9c268fdba5fe",
            "max": 5504,
            "min": 0,
            "orientation": "horizontal",
            "style": "IPY_MODEL_44c5371f288841c692eedac87e4a4f22",
            "value": 5504
          }
        },
        "e2d3fc89c2a14c2492b108d037004c02": {
          "model_module": "@jupyter-widgets/controls",
          "model_name": "HTMLModel",
          "model_module_version": "1.5.0",
          "state": {
            "_dom_classes": [],
            "_model_module": "@jupyter-widgets/controls",
            "_model_module_version": "1.5.0",
            "_model_name": "HTMLModel",
            "_view_count": null,
            "_view_module": "@jupyter-widgets/controls",
            "_view_module_version": "1.5.0",
            "_view_name": "HTMLView",
            "description": "",
            "description_tooltip": null,
            "layout": "IPY_MODEL_da6a96b9e4424a2684e55c8b4ac5a2f2",
            "placeholder": "​",
            "style": "IPY_MODEL_0f78d1139e084f8aa94060e2fffde9c3",
            "value": " 5.50k/5.50k [00:00&lt;00:00, 335kB/s]"
          }
        },
        "4054c4a120dd429fbdaeb26ba7eff124": {
          "model_module": "@jupyter-widgets/base",
          "model_name": "LayoutModel",
          "model_module_version": "1.2.0",
          "state": {
            "_model_module": "@jupyter-widgets/base",
            "_model_module_version": "1.2.0",
            "_model_name": "LayoutModel",
            "_view_count": null,
            "_view_module": "@jupyter-widgets/base",
            "_view_module_version": "1.2.0",
            "_view_name": "LayoutView",
            "align_content": null,
            "align_items": null,
            "align_self": null,
            "border": null,
            "bottom": null,
            "display": null,
            "flex": null,
            "flex_flow": null,
            "grid_area": null,
            "grid_auto_columns": null,
            "grid_auto_flow": null,
            "grid_auto_rows": null,
            "grid_column": null,
            "grid_gap": null,
            "grid_row": null,
            "grid_template_areas": null,
            "grid_template_columns": null,
            "grid_template_rows": null,
            "height": null,
            "justify_content": null,
            "justify_items": null,
            "left": null,
            "margin": null,
            "max_height": null,
            "max_width": null,
            "min_height": null,
            "min_width": null,
            "object_fit": null,
            "object_position": null,
            "order": null,
            "overflow": null,
            "overflow_x": null,
            "overflow_y": null,
            "padding": null,
            "right": null,
            "top": null,
            "visibility": null,
            "width": null
          }
        },
        "e8e8e937f3c341ebad69b36360b5ebfa": {
          "model_module": "@jupyter-widgets/base",
          "model_name": "LayoutModel",
          "model_module_version": "1.2.0",
          "state": {
            "_model_module": "@jupyter-widgets/base",
            "_model_module_version": "1.2.0",
            "_model_name": "LayoutModel",
            "_view_count": null,
            "_view_module": "@jupyter-widgets/base",
            "_view_module_version": "1.2.0",
            "_view_name": "LayoutView",
            "align_content": null,
            "align_items": null,
            "align_self": null,
            "border": null,
            "bottom": null,
            "display": null,
            "flex": null,
            "flex_flow": null,
            "grid_area": null,
            "grid_auto_columns": null,
            "grid_auto_flow": null,
            "grid_auto_rows": null,
            "grid_column": null,
            "grid_gap": null,
            "grid_row": null,
            "grid_template_areas": null,
            "grid_template_columns": null,
            "grid_template_rows": null,
            "height": null,
            "justify_content": null,
            "justify_items": null,
            "left": null,
            "margin": null,
            "max_height": null,
            "max_width": null,
            "min_height": null,
            "min_width": null,
            "object_fit": null,
            "object_position": null,
            "order": null,
            "overflow": null,
            "overflow_x": null,
            "overflow_y": null,
            "padding": null,
            "right": null,
            "top": null,
            "visibility": null,
            "width": null
          }
        },
        "13d7bbcd64974fc5955583485ea8b43f": {
          "model_module": "@jupyter-widgets/controls",
          "model_name": "DescriptionStyleModel",
          "model_module_version": "1.5.0",
          "state": {
            "_model_module": "@jupyter-widgets/controls",
            "_model_module_version": "1.5.0",
            "_model_name": "DescriptionStyleModel",
            "_view_count": null,
            "_view_module": "@jupyter-widgets/base",
            "_view_module_version": "1.2.0",
            "_view_name": "StyleView",
            "description_width": ""
          }
        },
        "2504fcb428004a8ca3db9c268fdba5fe": {
          "model_module": "@jupyter-widgets/base",
          "model_name": "LayoutModel",
          "model_module_version": "1.2.0",
          "state": {
            "_model_module": "@jupyter-widgets/base",
            "_model_module_version": "1.2.0",
            "_model_name": "LayoutModel",
            "_view_count": null,
            "_view_module": "@jupyter-widgets/base",
            "_view_module_version": "1.2.0",
            "_view_name": "LayoutView",
            "align_content": null,
            "align_items": null,
            "align_self": null,
            "border": null,
            "bottom": null,
            "display": null,
            "flex": null,
            "flex_flow": null,
            "grid_area": null,
            "grid_auto_columns": null,
            "grid_auto_flow": null,
            "grid_auto_rows": null,
            "grid_column": null,
            "grid_gap": null,
            "grid_row": null,
            "grid_template_areas": null,
            "grid_template_columns": null,
            "grid_template_rows": null,
            "height": null,
            "justify_content": null,
            "justify_items": null,
            "left": null,
            "margin": null,
            "max_height": null,
            "max_width": null,
            "min_height": null,
            "min_width": null,
            "object_fit": null,
            "object_position": null,
            "order": null,
            "overflow": null,
            "overflow_x": null,
            "overflow_y": null,
            "padding": null,
            "right": null,
            "top": null,
            "visibility": null,
            "width": null
          }
        },
        "44c5371f288841c692eedac87e4a4f22": {
          "model_module": "@jupyter-widgets/controls",
          "model_name": "ProgressStyleModel",
          "model_module_version": "1.5.0",
          "state": {
            "_model_module": "@jupyter-widgets/controls",
            "_model_module_version": "1.5.0",
            "_model_name": "ProgressStyleModel",
            "_view_count": null,
            "_view_module": "@jupyter-widgets/base",
            "_view_module_version": "1.2.0",
            "_view_name": "StyleView",
            "bar_color": null,
            "description_width": ""
          }
        },
        "da6a96b9e4424a2684e55c8b4ac5a2f2": {
          "model_module": "@jupyter-widgets/base",
          "model_name": "LayoutModel",
          "model_module_version": "1.2.0",
          "state": {
            "_model_module": "@jupyter-widgets/base",
            "_model_module_version": "1.2.0",
            "_model_name": "LayoutModel",
            "_view_count": null,
            "_view_module": "@jupyter-widgets/base",
            "_view_module_version": "1.2.0",
            "_view_name": "LayoutView",
            "align_content": null,
            "align_items": null,
            "align_self": null,
            "border": null,
            "bottom": null,
            "display": null,
            "flex": null,
            "flex_flow": null,
            "grid_area": null,
            "grid_auto_columns": null,
            "grid_auto_flow": null,
            "grid_auto_rows": null,
            "grid_column": null,
            "grid_gap": null,
            "grid_row": null,
            "grid_template_areas": null,
            "grid_template_columns": null,
            "grid_template_rows": null,
            "height": null,
            "justify_content": null,
            "justify_items": null,
            "left": null,
            "margin": null,
            "max_height": null,
            "max_width": null,
            "min_height": null,
            "min_width": null,
            "object_fit": null,
            "object_position": null,
            "order": null,
            "overflow": null,
            "overflow_x": null,
            "overflow_y": null,
            "padding": null,
            "right": null,
            "top": null,
            "visibility": null,
            "width": null
          }
        },
        "0f78d1139e084f8aa94060e2fffde9c3": {
          "model_module": "@jupyter-widgets/controls",
          "model_name": "DescriptionStyleModel",
          "model_module_version": "1.5.0",
          "state": {
            "_model_module": "@jupyter-widgets/controls",
            "_model_module_version": "1.5.0",
            "_model_name": "DescriptionStyleModel",
            "_view_count": null,
            "_view_module": "@jupyter-widgets/base",
            "_view_module_version": "1.2.0",
            "_view_name": "StyleView",
            "description_width": ""
          }
        },
        "85a5704c1e0a40e18a6c6b648e8ac99d": {
          "model_module": "@jupyter-widgets/controls",
          "model_name": "HBoxModel",
          "model_module_version": "1.5.0",
          "state": {
            "_dom_classes": [],
            "_model_module": "@jupyter-widgets/controls",
            "_model_module_version": "1.5.0",
            "_model_name": "HBoxModel",
            "_view_count": null,
            "_view_module": "@jupyter-widgets/controls",
            "_view_module_version": "1.5.0",
            "_view_name": "HBoxView",
            "box_style": "",
            "children": [
              "IPY_MODEL_d7c4bafc4f1b4c5faa67f223b9f291ca",
              "IPY_MODEL_2e84b012453a4613b56c41c54faaeb3d",
              "IPY_MODEL_2fc67837030344ec85c21ea14b21cbea"
            ],
            "layout": "IPY_MODEL_84481d648a134a4d879c531c3dda9b51"
          }
        },
        "d7c4bafc4f1b4c5faa67f223b9f291ca": {
          "model_module": "@jupyter-widgets/controls",
          "model_name": "HTMLModel",
          "model_module_version": "1.5.0",
          "state": {
            "_dom_classes": [],
            "_model_module": "@jupyter-widgets/controls",
            "_model_module_version": "1.5.0",
            "_model_name": "HTMLModel",
            "_view_count": null,
            "_view_module": "@jupyter-widgets/controls",
            "_view_module_version": "1.5.0",
            "_view_name": "HTMLView",
            "description": "",
            "description_tooltip": null,
            "layout": "IPY_MODEL_cb6c28655282476eb29b829748eece50",
            "placeholder": "​",
            "style": "IPY_MODEL_78368576387c4af19cb8cf39ce3f9fc7",
            "value": "Downloading builder script: 100%"
          }
        },
        "2e84b012453a4613b56c41c54faaeb3d": {
          "model_module": "@jupyter-widgets/controls",
          "model_name": "FloatProgressModel",
          "model_module_version": "1.5.0",
          "state": {
            "_dom_classes": [],
            "_model_module": "@jupyter-widgets/controls",
            "_model_module_version": "1.5.0",
            "_model_name": "FloatProgressModel",
            "_view_count": null,
            "_view_module": "@jupyter-widgets/controls",
            "_view_module_version": "1.5.0",
            "_view_name": "ProgressView",
            "bar_style": "success",
            "description": "",
            "description_tooltip": null,
            "layout": "IPY_MODEL_7041b98c3fb349a79489922c3bc92855",
            "max": 6651,
            "min": 0,
            "orientation": "horizontal",
            "style": "IPY_MODEL_c4653cdbc1a046819d23f649fb8fef83",
            "value": 6651
          }
        },
        "2fc67837030344ec85c21ea14b21cbea": {
          "model_module": "@jupyter-widgets/controls",
          "model_name": "HTMLModel",
          "model_module_version": "1.5.0",
          "state": {
            "_dom_classes": [],
            "_model_module": "@jupyter-widgets/controls",
            "_model_module_version": "1.5.0",
            "_model_name": "HTMLModel",
            "_view_count": null,
            "_view_module": "@jupyter-widgets/controls",
            "_view_module_version": "1.5.0",
            "_view_name": "HTMLView",
            "description": "",
            "description_tooltip": null,
            "layout": "IPY_MODEL_5be7d986362a417c9c1e970d33db91da",
            "placeholder": "​",
            "style": "IPY_MODEL_86724cdf06234b1bb144aefe022403e8",
            "value": " 6.65k/6.65k [00:00&lt;00:00, 428kB/s]"
          }
        },
        "84481d648a134a4d879c531c3dda9b51": {
          "model_module": "@jupyter-widgets/base",
          "model_name": "LayoutModel",
          "model_module_version": "1.2.0",
          "state": {
            "_model_module": "@jupyter-widgets/base",
            "_model_module_version": "1.2.0",
            "_model_name": "LayoutModel",
            "_view_count": null,
            "_view_module": "@jupyter-widgets/base",
            "_view_module_version": "1.2.0",
            "_view_name": "LayoutView",
            "align_content": null,
            "align_items": null,
            "align_self": null,
            "border": null,
            "bottom": null,
            "display": null,
            "flex": null,
            "flex_flow": null,
            "grid_area": null,
            "grid_auto_columns": null,
            "grid_auto_flow": null,
            "grid_auto_rows": null,
            "grid_column": null,
            "grid_gap": null,
            "grid_row": null,
            "grid_template_areas": null,
            "grid_template_columns": null,
            "grid_template_rows": null,
            "height": null,
            "justify_content": null,
            "justify_items": null,
            "left": null,
            "margin": null,
            "max_height": null,
            "max_width": null,
            "min_height": null,
            "min_width": null,
            "object_fit": null,
            "object_position": null,
            "order": null,
            "overflow": null,
            "overflow_x": null,
            "overflow_y": null,
            "padding": null,
            "right": null,
            "top": null,
            "visibility": null,
            "width": null
          }
        },
        "cb6c28655282476eb29b829748eece50": {
          "model_module": "@jupyter-widgets/base",
          "model_name": "LayoutModel",
          "model_module_version": "1.2.0",
          "state": {
            "_model_module": "@jupyter-widgets/base",
            "_model_module_version": "1.2.0",
            "_model_name": "LayoutModel",
            "_view_count": null,
            "_view_module": "@jupyter-widgets/base",
            "_view_module_version": "1.2.0",
            "_view_name": "LayoutView",
            "align_content": null,
            "align_items": null,
            "align_self": null,
            "border": null,
            "bottom": null,
            "display": null,
            "flex": null,
            "flex_flow": null,
            "grid_area": null,
            "grid_auto_columns": null,
            "grid_auto_flow": null,
            "grid_auto_rows": null,
            "grid_column": null,
            "grid_gap": null,
            "grid_row": null,
            "grid_template_areas": null,
            "grid_template_columns": null,
            "grid_template_rows": null,
            "height": null,
            "justify_content": null,
            "justify_items": null,
            "left": null,
            "margin": null,
            "max_height": null,
            "max_width": null,
            "min_height": null,
            "min_width": null,
            "object_fit": null,
            "object_position": null,
            "order": null,
            "overflow": null,
            "overflow_x": null,
            "overflow_y": null,
            "padding": null,
            "right": null,
            "top": null,
            "visibility": null,
            "width": null
          }
        },
        "78368576387c4af19cb8cf39ce3f9fc7": {
          "model_module": "@jupyter-widgets/controls",
          "model_name": "DescriptionStyleModel",
          "model_module_version": "1.5.0",
          "state": {
            "_model_module": "@jupyter-widgets/controls",
            "_model_module_version": "1.5.0",
            "_model_name": "DescriptionStyleModel",
            "_view_count": null,
            "_view_module": "@jupyter-widgets/base",
            "_view_module_version": "1.2.0",
            "_view_name": "StyleView",
            "description_width": ""
          }
        },
        "7041b98c3fb349a79489922c3bc92855": {
          "model_module": "@jupyter-widgets/base",
          "model_name": "LayoutModel",
          "model_module_version": "1.2.0",
          "state": {
            "_model_module": "@jupyter-widgets/base",
            "_model_module_version": "1.2.0",
            "_model_name": "LayoutModel",
            "_view_count": null,
            "_view_module": "@jupyter-widgets/base",
            "_view_module_version": "1.2.0",
            "_view_name": "LayoutView",
            "align_content": null,
            "align_items": null,
            "align_self": null,
            "border": null,
            "bottom": null,
            "display": null,
            "flex": null,
            "flex_flow": null,
            "grid_area": null,
            "grid_auto_columns": null,
            "grid_auto_flow": null,
            "grid_auto_rows": null,
            "grid_column": null,
            "grid_gap": null,
            "grid_row": null,
            "grid_template_areas": null,
            "grid_template_columns": null,
            "grid_template_rows": null,
            "height": null,
            "justify_content": null,
            "justify_items": null,
            "left": null,
            "margin": null,
            "max_height": null,
            "max_width": null,
            "min_height": null,
            "min_width": null,
            "object_fit": null,
            "object_position": null,
            "order": null,
            "overflow": null,
            "overflow_x": null,
            "overflow_y": null,
            "padding": null,
            "right": null,
            "top": null,
            "visibility": null,
            "width": null
          }
        },
        "c4653cdbc1a046819d23f649fb8fef83": {
          "model_module": "@jupyter-widgets/controls",
          "model_name": "ProgressStyleModel",
          "model_module_version": "1.5.0",
          "state": {
            "_model_module": "@jupyter-widgets/controls",
            "_model_module_version": "1.5.0",
            "_model_name": "ProgressStyleModel",
            "_view_count": null,
            "_view_module": "@jupyter-widgets/base",
            "_view_module_version": "1.2.0",
            "_view_name": "StyleView",
            "bar_color": null,
            "description_width": ""
          }
        },
        "5be7d986362a417c9c1e970d33db91da": {
          "model_module": "@jupyter-widgets/base",
          "model_name": "LayoutModel",
          "model_module_version": "1.2.0",
          "state": {
            "_model_module": "@jupyter-widgets/base",
            "_model_module_version": "1.2.0",
            "_model_name": "LayoutModel",
            "_view_count": null,
            "_view_module": "@jupyter-widgets/base",
            "_view_module_version": "1.2.0",
            "_view_name": "LayoutView",
            "align_content": null,
            "align_items": null,
            "align_self": null,
            "border": null,
            "bottom": null,
            "display": null,
            "flex": null,
            "flex_flow": null,
            "grid_area": null,
            "grid_auto_columns": null,
            "grid_auto_flow": null,
            "grid_auto_rows": null,
            "grid_column": null,
            "grid_gap": null,
            "grid_row": null,
            "grid_template_areas": null,
            "grid_template_columns": null,
            "grid_template_rows": null,
            "height": null,
            "justify_content": null,
            "justify_items": null,
            "left": null,
            "margin": null,
            "max_height": null,
            "max_width": null,
            "min_height": null,
            "min_width": null,
            "object_fit": null,
            "object_position": null,
            "order": null,
            "overflow": null,
            "overflow_x": null,
            "overflow_y": null,
            "padding": null,
            "right": null,
            "top": null,
            "visibility": null,
            "width": null
          }
        },
        "86724cdf06234b1bb144aefe022403e8": {
          "model_module": "@jupyter-widgets/controls",
          "model_name": "DescriptionStyleModel",
          "model_module_version": "1.5.0",
          "state": {
            "_model_module": "@jupyter-widgets/controls",
            "_model_module_version": "1.5.0",
            "_model_name": "DescriptionStyleModel",
            "_view_count": null,
            "_view_module": "@jupyter-widgets/base",
            "_view_module_version": "1.2.0",
            "_view_name": "StyleView",
            "description_width": ""
          }
        }
      }
    }
  },
  "nbformat": 4,
  "nbformat_minor": 5
}